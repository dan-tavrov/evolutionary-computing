{
 "cells": [
  {
   "cell_type": "markdown",
   "metadata": {},
   "source": [
    "# Evolution Strategies\n",
    "\n",
    "First, we load necessary modules."
   ]
  },
  {
   "cell_type": "code",
   "execution_count": 5,
   "metadata": {
    "pycharm": {
     "name": "#%%\n"
    }
   },
   "outputs": [],
   "source": [
    "# load modules\n",
    "import numpy as np\n",
    "import matplotlib\n",
    "import matplotlib.pyplot as plt\n",
    "%matplotlib inline\n",
    "matplotlib.rcParams['text.usetex'] = True\n",
    "\n",
    "from ea_operators import crossover\n",
    "from ea_operators import selection\n",
    "from ea_utilities import objective_functions\n",
    "from ea_utilities import visualize\n",
    "from ea_algorithms.es import es\n",
    "from ea_algorithms.ga import ga"
   ]
  },
  {
   "cell_type": "markdown",
   "metadata": {},
   "source": [
    "We will reuse the test functions from *An Analysis of the Behaviour of a Class of Genetic Adaptive\n",
    "Systems* by K. A. De Jong (1975)."
   ]
  },
  {
   "cell_type": "code",
   "execution_count": 6,
   "metadata": {
    "pycharm": {
     "name": "#%%\n"
    }
   },
   "outputs": [],
   "source": [
    "def plot_test_function(test_function, a, b):\n",
    "    # create a grid of x and y values\n",
    "    x = np.linspace(a, b, 100)\n",
    "    y = np.linspace(a, b, 100)\n",
    "    X, Y = np.meshgrid(x, y)\n",
    "    xy_coordinates = np.column_stack((X.ravel(), Y.ravel()))\n",
    "\n",
    "    # calculate z values\n",
    "    result = test_function(xy_coordinates)\n",
    "    Z = result.reshape(X.shape)\n",
    "\n",
    "    # create a 3D figure with two subplots\n",
    "    fig = plt.figure()\n",
    "    ax = fig.add_subplot(111, projection='3d')\n",
    "\n",
    "    # plot the 3D surface\n",
    "    surf = ax.plot_surface(X, Y, Z, cmap='viridis')\n",
    "\n",
    "    # add labels and a color bar\n",
    "    ax.set_xlabel('$x$')\n",
    "    ax.set_ylabel('$y$')\n",
    "    ax.set_zlabel('')\n",
    "    fig.colorbar(surf)\n",
    "\n",
    "    # adjust the layout to prevent overlapping labels\n",
    "    plt.tight_layout()\n",
    "\n",
    "    # show the plot\n",
    "    plt.show()"
   ]
  },
  {
   "cell_type": "markdown",
   "metadata": {},
   "source": [
    "1) F1 function, also called the *spherical model*:\n",
    "\n",
    "$$F_1(\\mathbf{x}) = \\sum_{i=1}^n x_i^2$$\n",
    "\n",
    "It is continuous, convex, unimodal, quadratic,\n",
    "symmetrical. So it is typically not hard to minimize.\n",
    "\n",
    "Search is restricted to $[-5.12; 5.12]$ with step 0.01.\n",
    "\n",
    "Minimum is of course at $\\mathbf{x} = (0, \\ldots, 0)^\\top$\n",
    "and equals $0$."
   ]
  },
  {
   "cell_type": "code",
   "execution_count": 7,
   "metadata": {
    "pycharm": {
     "name": "#%%\n"
    }
   },
   "outputs": [
    {
     "ename": "ValueError",
     "evalue": "Unknown projection '3d'",
     "output_type": "error",
     "traceback": [
      "\u001b[1;31m---------------------------------------------------------------------------\u001b[0m",
      "\u001b[1;31mKeyError\u001b[0m                                  Traceback (most recent call last)",
      "\u001b[1;32mC:\\ProgramData\\Anaconda3\\lib\\site-packages\\matplotlib\\projections\\__init__.py\u001b[0m in \u001b[0;36mget_projection_class\u001b[1;34m(projection)\u001b[0m\n\u001b[0;32m     57\u001b[0m     \u001b[1;32mtry\u001b[0m\u001b[1;33m:\u001b[0m\u001b[1;33m\u001b[0m\u001b[1;33m\u001b[0m\u001b[0m\n\u001b[1;32m---> 58\u001b[1;33m         \u001b[1;32mreturn\u001b[0m \u001b[0mprojection_registry\u001b[0m\u001b[1;33m.\u001b[0m\u001b[0mget_projection_class\u001b[0m\u001b[1;33m(\u001b[0m\u001b[0mprojection\u001b[0m\u001b[1;33m)\u001b[0m\u001b[1;33m\u001b[0m\u001b[1;33m\u001b[0m\u001b[0m\n\u001b[0m\u001b[0;32m     59\u001b[0m     \u001b[1;32mexcept\u001b[0m \u001b[0mKeyError\u001b[0m\u001b[1;33m:\u001b[0m\u001b[1;33m\u001b[0m\u001b[1;33m\u001b[0m\u001b[0m\n",
      "\u001b[1;32mC:\\ProgramData\\Anaconda3\\lib\\site-packages\\matplotlib\\projections\\__init__.py\u001b[0m in \u001b[0;36mget_projection_class\u001b[1;34m(self, name)\u001b[0m\n\u001b[0;32m     24\u001b[0m         \"\"\"\n\u001b[1;32m---> 25\u001b[1;33m         \u001b[1;32mreturn\u001b[0m \u001b[0mself\u001b[0m\u001b[1;33m.\u001b[0m\u001b[0m_all_projection_types\u001b[0m\u001b[1;33m[\u001b[0m\u001b[0mname\u001b[0m\u001b[1;33m]\u001b[0m\u001b[1;33m\u001b[0m\u001b[1;33m\u001b[0m\u001b[0m\n\u001b[0m\u001b[0;32m     26\u001b[0m \u001b[1;33m\u001b[0m\u001b[0m\n",
      "\u001b[1;31mKeyError\u001b[0m: '3d'",
      "\nDuring handling of the above exception, another exception occurred:\n",
      "\u001b[1;31mValueError\u001b[0m                                Traceback (most recent call last)",
      "\u001b[1;32m<ipython-input-7-64703ba6727c>\u001b[0m in \u001b[0;36m<module>\u001b[1;34m\u001b[0m\n\u001b[1;32m----> 1\u001b[1;33m \u001b[0mplot_test_function\u001b[0m\u001b[1;33m(\u001b[0m\u001b[0mobjective_functions\u001b[0m\u001b[1;33m.\u001b[0m\u001b[0mF1\u001b[0m\u001b[1;33m,\u001b[0m \u001b[1;33m-\u001b[0m\u001b[1;36m5.12\u001b[0m\u001b[1;33m,\u001b[0m \u001b[1;36m5.12\u001b[0m\u001b[1;33m)\u001b[0m\u001b[1;33m\u001b[0m\u001b[1;33m\u001b[0m\u001b[0m\n\u001b[0m",
      "\u001b[1;32m<ipython-input-6-781c6067c5ea>\u001b[0m in \u001b[0;36mplot_test_function\u001b[1;34m(test_function, a, b)\u001b[0m\n\u001b[0;32m     12\u001b[0m     \u001b[1;31m# create a 3D figure with two subplots\u001b[0m\u001b[1;33m\u001b[0m\u001b[1;33m\u001b[0m\u001b[1;33m\u001b[0m\u001b[0m\n\u001b[0;32m     13\u001b[0m     \u001b[0mfig\u001b[0m \u001b[1;33m=\u001b[0m \u001b[0mplt\u001b[0m\u001b[1;33m.\u001b[0m\u001b[0mfigure\u001b[0m\u001b[1;33m(\u001b[0m\u001b[1;33m)\u001b[0m\u001b[1;33m\u001b[0m\u001b[1;33m\u001b[0m\u001b[0m\n\u001b[1;32m---> 14\u001b[1;33m     \u001b[0max\u001b[0m \u001b[1;33m=\u001b[0m \u001b[0mfig\u001b[0m\u001b[1;33m.\u001b[0m\u001b[0madd_subplot\u001b[0m\u001b[1;33m(\u001b[0m\u001b[1;36m111\u001b[0m\u001b[1;33m,\u001b[0m \u001b[0mprojection\u001b[0m\u001b[1;33m=\u001b[0m\u001b[1;34m'3d'\u001b[0m\u001b[1;33m)\u001b[0m\u001b[1;33m\u001b[0m\u001b[1;33m\u001b[0m\u001b[0m\n\u001b[0m\u001b[0;32m     15\u001b[0m \u001b[1;33m\u001b[0m\u001b[0m\n\u001b[0;32m     16\u001b[0m     \u001b[1;31m# plot the 3D surface\u001b[0m\u001b[1;33m\u001b[0m\u001b[1;33m\u001b[0m\u001b[1;33m\u001b[0m\u001b[0m\n",
      "\u001b[1;32mC:\\ProgramData\\Anaconda3\\lib\\site-packages\\matplotlib\\figure.py\u001b[0m in \u001b[0;36madd_subplot\u001b[1;34m(self, *args, **kwargs)\u001b[0m\n\u001b[0;32m   1394\u001b[0m         \u001b[1;32melse\u001b[0m\u001b[1;33m:\u001b[0m\u001b[1;33m\u001b[0m\u001b[1;33m\u001b[0m\u001b[0m\n\u001b[0;32m   1395\u001b[0m             \u001b[0mprojection_class\u001b[0m\u001b[1;33m,\u001b[0m \u001b[0mkwargs\u001b[0m\u001b[1;33m,\u001b[0m \u001b[0mkey\u001b[0m \u001b[1;33m=\u001b[0m\u001b[0;31m \u001b[0m\u001b[0;31m\\\u001b[0m\u001b[1;33m\u001b[0m\u001b[1;33m\u001b[0m\u001b[0m\n\u001b[1;32m-> 1396\u001b[1;33m                 \u001b[0mself\u001b[0m\u001b[1;33m.\u001b[0m\u001b[0m_process_projection_requirements\u001b[0m\u001b[1;33m(\u001b[0m\u001b[1;33m*\u001b[0m\u001b[0margs\u001b[0m\u001b[1;33m,\u001b[0m \u001b[1;33m**\u001b[0m\u001b[0mkwargs\u001b[0m\u001b[1;33m)\u001b[0m\u001b[1;33m\u001b[0m\u001b[1;33m\u001b[0m\u001b[0m\n\u001b[0m\u001b[0;32m   1397\u001b[0m \u001b[1;33m\u001b[0m\u001b[0m\n\u001b[0;32m   1398\u001b[0m             \u001b[1;31m# try to find the axes with this key in the stack\u001b[0m\u001b[1;33m\u001b[0m\u001b[1;33m\u001b[0m\u001b[1;33m\u001b[0m\u001b[0m\n",
      "\u001b[1;32mC:\\ProgramData\\Anaconda3\\lib\\site-packages\\matplotlib\\figure.py\u001b[0m in \u001b[0;36m_process_projection_requirements\u001b[1;34m(self, polar, projection, *args, **kwargs)\u001b[0m\n\u001b[0;32m   1118\u001b[0m \u001b[1;33m\u001b[0m\u001b[0m\n\u001b[0;32m   1119\u001b[0m         \u001b[1;32mif\u001b[0m \u001b[0misinstance\u001b[0m\u001b[1;33m(\u001b[0m\u001b[0mprojection\u001b[0m\u001b[1;33m,\u001b[0m \u001b[0mstr\u001b[0m\u001b[1;33m)\u001b[0m \u001b[1;32mor\u001b[0m \u001b[0mprojection\u001b[0m \u001b[1;32mis\u001b[0m \u001b[1;32mNone\u001b[0m\u001b[1;33m:\u001b[0m\u001b[1;33m\u001b[0m\u001b[1;33m\u001b[0m\u001b[0m\n\u001b[1;32m-> 1120\u001b[1;33m             \u001b[0mprojection_class\u001b[0m \u001b[1;33m=\u001b[0m \u001b[0mprojections\u001b[0m\u001b[1;33m.\u001b[0m\u001b[0mget_projection_class\u001b[0m\u001b[1;33m(\u001b[0m\u001b[0mprojection\u001b[0m\u001b[1;33m)\u001b[0m\u001b[1;33m\u001b[0m\u001b[1;33m\u001b[0m\u001b[0m\n\u001b[0m\u001b[0;32m   1121\u001b[0m         \u001b[1;32melif\u001b[0m \u001b[0mhasattr\u001b[0m\u001b[1;33m(\u001b[0m\u001b[0mprojection\u001b[0m\u001b[1;33m,\u001b[0m \u001b[1;34m'_as_mpl_axes'\u001b[0m\u001b[1;33m)\u001b[0m\u001b[1;33m:\u001b[0m\u001b[1;33m\u001b[0m\u001b[1;33m\u001b[0m\u001b[0m\n\u001b[0;32m   1122\u001b[0m             \u001b[0mprojection_class\u001b[0m\u001b[1;33m,\u001b[0m \u001b[0mextra_kwargs\u001b[0m \u001b[1;33m=\u001b[0m \u001b[0mprojection\u001b[0m\u001b[1;33m.\u001b[0m\u001b[0m_as_mpl_axes\u001b[0m\u001b[1;33m(\u001b[0m\u001b[1;33m)\u001b[0m\u001b[1;33m\u001b[0m\u001b[1;33m\u001b[0m\u001b[0m\n",
      "\u001b[1;32mC:\\ProgramData\\Anaconda3\\lib\\site-packages\\matplotlib\\projections\\__init__.py\u001b[0m in \u001b[0;36mget_projection_class\u001b[1;34m(projection)\u001b[0m\n\u001b[0;32m     58\u001b[0m         \u001b[1;32mreturn\u001b[0m \u001b[0mprojection_registry\u001b[0m\u001b[1;33m.\u001b[0m\u001b[0mget_projection_class\u001b[0m\u001b[1;33m(\u001b[0m\u001b[0mprojection\u001b[0m\u001b[1;33m)\u001b[0m\u001b[1;33m\u001b[0m\u001b[1;33m\u001b[0m\u001b[0m\n\u001b[0;32m     59\u001b[0m     \u001b[1;32mexcept\u001b[0m \u001b[0mKeyError\u001b[0m\u001b[1;33m:\u001b[0m\u001b[1;33m\u001b[0m\u001b[1;33m\u001b[0m\u001b[0m\n\u001b[1;32m---> 60\u001b[1;33m         \u001b[1;32mraise\u001b[0m \u001b[0mValueError\u001b[0m\u001b[1;33m(\u001b[0m\u001b[1;34m\"Unknown projection %r\"\u001b[0m \u001b[1;33m%\u001b[0m \u001b[0mprojection\u001b[0m\u001b[1;33m)\u001b[0m\u001b[1;33m\u001b[0m\u001b[1;33m\u001b[0m\u001b[0m\n\u001b[0m\u001b[0;32m     61\u001b[0m \u001b[1;33m\u001b[0m\u001b[0m\n\u001b[0;32m     62\u001b[0m \u001b[1;33m\u001b[0m\u001b[0m\n",
      "\u001b[1;31mValueError\u001b[0m: Unknown projection '3d'"
     ]
    },
    {
     "data": {
      "text/plain": [
       "<Figure size 432x288 with 0 Axes>"
      ]
     },
     "metadata": {},
     "output_type": "display_data"
    }
   ],
   "source": [
    "plot_test_function(objective_functions.F1, -5.12, 5.12)"
   ]
  },
  {
   "cell_type": "markdown",
   "metadata": {},
   "source": [
    "2) F2 function (Rosenbrock function):\n",
    "\n",
    "$$F_2(\\mathbf{x}) = \\sum_{i=1}^{n-1} \\left(100(x_i^2 - x_{i+1})^2 + (1 - x_i)^2\\right)$$\n",
    "\n",
    "It is continuous, non-convex, unimodal, and\n",
    "difficult because it has deep parabolic valleys\n",
    "along the curves $x_{i+1} = x_i^2$.\n",
    "\n",
    "Search is restricted to $[-2.048; 2.048]$ with step 0.001.\n",
    "\n",
    "Minimum is attained at $\\mathbf{x} = (1, \\ldots, 1)^\\top$\n",
    "and equals $0$.\n"
   ]
  },
  {
   "cell_type": "code",
   "execution_count": null,
   "metadata": {
    "pycharm": {
     "name": "#%%\n"
    }
   },
   "outputs": [],
   "source": [
    "plot_test_function(objective_functions.F2, -2.048, 2.048)"
   ]
  },
  {
   "cell_type": "markdown",
   "metadata": {},
   "source": [
    "3) F3 function:\n",
    "\n",
    "$$F_3(\\mathbf{x}) = \\sum_{i=1}^n [x_i]$$\n",
    "\n",
    "Here $[\\cdot]$ represents closest integer from the left (floor function).\n",
    "\n",
    "It is discontinuous, non-convex, unimodal, and\n",
    "piecewise-constant.\n",
    "\n",
    "Search is restricted to $[-5.12; 5.12]$ with step 0.01.\n",
    "\n",
    "Minimum is attained at $\\mathbf{x} = (-5.12, \\ldots, -5.12)^\\top$\n",
    "and equals $-6n$."
   ]
  },
  {
   "cell_type": "code",
   "execution_count": null,
   "metadata": {
    "pycharm": {
     "name": "#%%\n"
    }
   },
   "outputs": [],
   "source": [
    "plot_test_function(objective_functions.F3, -5.12, 5.12)"
   ]
  },
  {
   "cell_type": "markdown",
   "metadata": {},
   "source": [
    "4) F4 function:\n",
    "\n",
    "$$F_4(\\mathbf{x}) = \\sum_{i=1}^n i x_i^4 + N(0, 1)$$\n",
    "\n",
    "(This is for $n = 30$. For other $n$, standard deviation of random\n",
    "normals is chosen heuristically not to be too large.)\n",
    "It is continuous, convex, unimodal, and\n",
    "quartic. Most importantly, it is *stochastic*, in the sense\n",
    "that on *each evaluation* it yields slightly different\n",
    "results.\n",
    "\n",
    "Search is restricted to $[-1.28; 1.28]$ with step 0.01.\n",
    "\n",
    "Minimum (deterministic part) is of course at $\\mathbf{x} = (0, \\ldots, 0)^\\top$\n",
    "and equals $0$."
   ]
  },
  {
   "cell_type": "code",
   "execution_count": null,
   "metadata": {
    "pycharm": {
     "name": "#%%\n"
    }
   },
   "outputs": [],
   "source": [
    "plot_test_function(objective_functions.F4, -1.28, 1.28)"
   ]
  },
  {
   "cell_type": "markdown",
   "metadata": {},
   "source": [
    "5) F5 function:\n",
    "\n",
    "$$F_5(x_1, x_2) = \\left(\\frac{1}{500} + \\sum_{j=1}^{25} \\frac{1}{f_j(x_1, x_2)}\\right)^{-1}\\;,$$\n",
    "where\n",
    "$$f_j(x_1, x_2) = j + \\sum_{i=1}^2 (x_i - a_{ij})^6\\;,$$\n",
    "where\n",
    "\n",
    "$\\mathbf{a} =  \\begin{pmatrix}\n",
    "-32 & -16 & 0 & 16 & 32 & -32 & -16 & \\ldots & 0 & 16 & 32\\\\\n",
    "-32 & -32 & -32 & -32 & -32 & -16 & -16 & \\ldots 32 & 32 & 32\n",
    "\\end{pmatrix}$\n",
    "\n",
    "It is continuous, non-convex, non-quadratic, and multimodal,\n",
    "making it especially hard to optimize.\n",
    "\n",
    "Search is restricted to $[-65.536; 65.536]$ with step 0.001.\n",
    "\n",
    "Minimum is attained at (approximately) $(-32, -32)^\\top$\n",
    "and equals $1$. (Pay attention that each \"column\" is of different height.)\n"
   ]
  },
  {
   "cell_type": "code",
   "execution_count": null,
   "metadata": {
    "pycharm": {
     "name": "#%%\n"
    }
   },
   "outputs": [],
   "source": [
    "plot_test_function(objective_functions.F5, -65.536, 65.536)"
   ]
  },
  {
   "cell_type": "markdown",
   "metadata": {},
   "source": [
    "First let's see how a (10, 100)-ES tackles\n",
    "these problems, and how to choose parameters to improve its performance.\n",
    "\n",
    "With F1 function, everything is easy.\n",
    "\n",
    "Compared to a genetic algorithm with tournament selection,\n",
    "we see that evolution strategies are much faster, and\n",
    "that they are at worst comparable, and at best superior.\n",
    "\n",
    "In what follows, we will only focus on ES."
   ]
  },
  {
   "cell_type": "code",
   "execution_count": null,
   "metadata": {
    "pycharm": {
     "name": "#%%\n"
    }
   },
   "outputs": [],
   "source": [
    "T = 5\n",
    "random_seed = 123\n",
    "nvar = 50  # ES works well even for very high-dimensional problems\n",
    "print_iteration_number = True\n",
    "mu = 10\n",
    "children_count = 100\n",
    "starting_point = 10*np.ones(nvar)\n",
    "\n",
    "es_function_comma_one_sigma =\\\n",
    "    lambda: es(objective_function=objective_functions.F1,\n",
    "               nvar=nvar,\n",
    "               starting_point=starting_point,\n",
    "               mu=mu, children_count=children_count,\n",
    "               selection_strategy=0, many_sigmas=False,\n",
    "               generations_count=2000,\n",
    "               optimum_value=0, precision=1e-8,\n",
    "               suppress_output=True, do_print=False)\n",
    "\n",
    "print(\"ES, comma strategy, one sigma:\")\n",
    "visualize.report_average_ea_progress(\n",
    "    es_function_comma_one_sigma, T=T,\n",
    "    random_seed=random_seed,\n",
    "    print_iteration_number=print_iteration_number\n",
    ")\n",
    "\n",
    "es_function_comma_many_sigmas =\\\n",
    "    lambda: es(objective_function=objective_functions.F1,\n",
    "               nvar=nvar,\n",
    "               starting_point=starting_point,\n",
    "               mu=mu, children_count=children_count,\n",
    "               selection_strategy=0, many_sigmas=True,\n",
    "               generations_count=2000,\n",
    "               optimum_value=0, precision=1e-8,\n",
    "               suppress_output=True, do_print=False)\n",
    "\n",
    "print(\"ES, comma strategy, many sigmas:\")\n",
    "visualize.report_average_ea_progress(\n",
    "    es_function_comma_many_sigmas, T=T,\n",
    "    random_seed=random_seed,\n",
    "    print_iteration_number=print_iteration_number\n",
    ")\n",
    "\n",
    "es_function_plus_many_sigmas =\\\n",
    "    lambda: es(objective_function=objective_functions.F1,\n",
    "               nvar=nvar,\n",
    "               starting_point=starting_point,\n",
    "               mu=mu, children_count=children_count,\n",
    "               selection_strategy=1, many_sigmas=True,\n",
    "               generations_count=2000,\n",
    "               optimum_value=0, precision=1e-8,\n",
    "               suppress_output=True, do_print=False)\n",
    "\n",
    "print(\"ES, plus strategy, many sigmas:\")\n",
    "visualize.report_average_ea_progress(\n",
    "    es_function_plus_many_sigmas, T=T,\n",
    "    random_seed=random_seed,\n",
    "    print_iteration_number=print_iteration_number\n",
    ")\n",
    "\n",
    "# ga_function_tournament =\\\n",
    "#     lambda: ga(objective_function=objective_functions.F1,\n",
    "#                nvar=nvar, a=-5.12, b=5.12, bits_num=32,\n",
    "#                mu=50,\n",
    "#                crossover_function=crossover.crossover_one_point,\n",
    "#                selection_function=(selection.selection_tournament,\n",
    "#                                    {\"q\": 15}),\n",
    "#                prob_crossover=1, prob_mutation=0.001,\n",
    "#                generations_count=2000,\n",
    "#                optimum_value=0, precision=1e-8,\n",
    "#                suppress_output=True, do_print=False)\n",
    "#\n",
    "# print(\"GA, tournament selection:\")\n",
    "# visualize.report_average_ea_progress(\n",
    "#     ga_function_tournament, T=T,\n",
    "#     random_seed=random_seed,\n",
    "#     print_iteration_number=print_iteration_number\n",
    "# )"
   ]
  },
  {
   "cell_type": "markdown",
   "metadata": {
    "pycharm": {
     "name": "#%% md\n"
    }
   },
   "source": [
    "Let's see how other functions are optimized.\n",
    "\n",
    "For F2 function, we have good results, especially for\n",
    "a \"plus\" strategy."
   ]
  },
  {
   "cell_type": "code",
   "execution_count": null,
   "metadata": {
    "pycharm": {
     "name": "#%%\n"
    }
   },
   "outputs": [],
   "source": [
    "T = 10\n",
    "random_seed = 123\n",
    "nvar = 2\n",
    "print_iteration_number = False\n",
    "mu = 10\n",
    "children_count = 100\n",
    "starting_point = np.array([-1.2, -1.2])\n",
    "\n",
    "es_function_comma_one_sigma =\\\n",
    "    lambda: es(objective_function=objective_functions.F2,\n",
    "               nvar=nvar,\n",
    "               starting_point=starting_point,\n",
    "               mu=mu, children_count=children_count,\n",
    "               selection_strategy=0, many_sigmas=False,\n",
    "               generations_count=2000,\n",
    "               optimum_value=0, precision=1e-8,\n",
    "               suppress_output=True, do_print=False)\n",
    "\n",
    "print(\"ES, comma strategy, one sigma:\")\n",
    "visualize.report_average_ea_progress(\n",
    "    es_function_comma_one_sigma, T=T,\n",
    "    random_seed=random_seed,\n",
    "    print_iteration_number=print_iteration_number\n",
    ")\n",
    "\n",
    "es_function_comma_many_sigmas =\\\n",
    "    lambda: es(objective_function=objective_functions.F2,\n",
    "               nvar=nvar,\n",
    "               starting_point=starting_point,\n",
    "               mu=mu, children_count=children_count,\n",
    "               selection_strategy=0, many_sigmas=True,\n",
    "               generations_count=2000,\n",
    "               optimum_value=0, precision=1e-8,\n",
    "               suppress_output=True, do_print=False)\n",
    "\n",
    "print(\"ES, comma strategy, many sigmas:\")\n",
    "visualize.report_average_ea_progress(\n",
    "    es_function_comma_many_sigmas, T=T,\n",
    "    random_seed=random_seed,\n",
    "    print_iteration_number=print_iteration_number\n",
    ")\n",
    "\n",
    "es_function_plus_many_sigmas =\\\n",
    "    lambda: es(objective_function=objective_functions.F2,\n",
    "               nvar=nvar,\n",
    "               starting_point=starting_point,\n",
    "               mu=mu, children_count=children_count,\n",
    "               selection_strategy=1, many_sigmas=True,\n",
    "               generations_count=2000,\n",
    "               optimum_value=0, precision=1e-8,\n",
    "               suppress_output=True, do_print=False)\n",
    "\n",
    "print(\"ES, plus strategy, many sigmas:\")\n",
    "visualize.report_average_ea_progress(\n",
    "    es_function_plus_many_sigmas, T=T,\n",
    "    random_seed=random_seed,\n",
    "    print_iteration_number=print_iteration_number\n",
    ")"
   ]
  },
  {
   "cell_type": "markdown",
   "metadata": {},
   "source": [
    "F3 function is not hard in low dimensions, but for high\n",
    "dimensions (e.g., 20), ES can lack enough information to update individuals\n",
    "due to large plateus."
   ]
  },
  {
   "cell_type": "code",
   "execution_count": null,
   "metadata": {
    "pycharm": {
     "name": "#%%\n"
    }
   },
   "outputs": [],
   "source": [
    "T = 5\n",
    "random_seed = 123\n",
    "nvar = 10\n",
    "print_iteration_number = True\n",
    "mu = 20\n",
    "children_count = 200\n",
    "starting_point = 10*np.ones(nvar)\n",
    "a = -5.12\n",
    "sigma_initial = 1\n",
    "\n",
    "es_function_comma_one_sigma =\\\n",
    "    lambda: es(objective_function=objective_functions.F3,\n",
    "               nvar=nvar, a=a,\n",
    "               starting_point=starting_point,\n",
    "               sigma_initial=sigma_initial,\n",
    "               mu=mu, children_count=children_count,\n",
    "               selection_strategy=0, many_sigmas=False,\n",
    "               generations_count=2000,\n",
    "               optimum_value=-6*nvar, precision=1e-8,\n",
    "               suppress_output=True, do_print=False)\n",
    "\n",
    "print(\"ES, comma strategy, one sigma:\")\n",
    "visualize.report_average_ea_progress(\n",
    "    es_function_comma_one_sigma, T=T,\n",
    "    random_seed=random_seed,\n",
    "    print_iteration_number=print_iteration_number\n",
    ")\n",
    "\n",
    "es_function_comma_many_sigmas =\\\n",
    "    lambda: es(objective_function=objective_functions.F3,\n",
    "               nvar=nvar, a=a,\n",
    "               starting_point=starting_point,\n",
    "               sigma_initial=sigma_initial,\n",
    "               mu=mu, children_count=children_count,\n",
    "               selection_strategy=0, many_sigmas=True,\n",
    "               generations_count=2000,\n",
    "               optimum_value=-6*nvar, precision=1e-8,\n",
    "               suppress_output=True, do_print=False)\n",
    "\n",
    "print(\"ES, comma strategy, many sigmas:\")\n",
    "visualize.report_average_ea_progress(\n",
    "    es_function_comma_many_sigmas, T=T,\n",
    "    random_seed=random_seed,\n",
    "    print_iteration_number=print_iteration_number\n",
    ")\n",
    "\n",
    "es_function_plus_many_sigmas =\\\n",
    "    lambda: es(objective_function=objective_functions.F3,\n",
    "               nvar=nvar, a=a,\n",
    "               starting_point=starting_point,\n",
    "               sigma_initial=sigma_initial,\n",
    "               mu=mu, children_count=children_count,\n",
    "               selection_strategy=1, many_sigmas=True,\n",
    "               generations_count=2000,\n",
    "               optimum_value=-6*nvar, precision=1e-8,\n",
    "               suppress_output=True, do_print=False)\n",
    "\n",
    "print(\"ES, plus strategy, many sigmas:\")\n",
    "visualize.report_average_ea_progress(\n",
    "    es_function_plus_many_sigmas, T=T,\n",
    "    random_seed=random_seed,\n",
    "    print_iteration_number=print_iteration_number\n",
    ")"
   ]
  },
  {
   "cell_type": "markdown",
   "metadata": {
    "pycharm": {
     "name": "#%% md\n"
    }
   },
   "source": [
    "For F4, results are also very good.\n",
    "Especially for $n = 30$ and other large $n$, for which the formula was originally\n",
    "developed. For other $n$, I tried to draw random noise\n",
    "on the same scale, but apparently I was not very successful\n",
    "and sometimes I can get negative fitness values large in\n",
    "absolute value. In this case, ES finds the optimum alright,\n",
    "but reports these very low fitness values as \"the best\"."
   ]
  },
  {
   "cell_type": "code",
   "execution_count": null,
   "metadata": {
    "pycharm": {
     "name": "#%%\n"
    }
   },
   "outputs": [],
   "source": [
    "T = 5\n",
    "random_seed = 123\n",
    "nvar = 50\n",
    "print_iteration_number = True\n",
    "mu = 10\n",
    "children_count = 100\n",
    "starting_point = 10*np.ones(nvar)\n",
    "\n",
    "es_function_comma_one_sigma =\\\n",
    "    lambda: es(objective_function=objective_functions.F4,\n",
    "               nvar=nvar,\n",
    "               starting_point=starting_point,\n",
    "               sigma_initial=sigma_initial,\n",
    "               mu=mu, children_count=children_count,\n",
    "               selection_strategy=0, many_sigmas=False,\n",
    "               generations_count=2000,\n",
    "               optimum_value=0, precision=1e-8,\n",
    "               suppress_output=True, do_print=False)\n",
    "\n",
    "print(\"ES, comma strategy, one sigma:\")\n",
    "visualize.report_average_ea_progress(\n",
    "    es_function_comma_one_sigma, T=T,\n",
    "    random_seed=random_seed,\n",
    "    print_iteration_number=print_iteration_number\n",
    ")\n",
    "\n",
    "es_function_comma_many_sigmas =\\\n",
    "    lambda: es(objective_function=objective_functions.F4,\n",
    "               nvar=nvar,\n",
    "               starting_point=starting_point,\n",
    "               sigma_initial=sigma_initial,\n",
    "               mu=mu, children_count=children_count,\n",
    "               selection_strategy=0, many_sigmas=True,\n",
    "               generations_count=2000,\n",
    "               optimum_value=0, precision=1e-8,\n",
    "               suppress_output=True, do_print=False)\n",
    "\n",
    "print(\"ES, comma strategy, many sigmas:\")\n",
    "visualize.report_average_ea_progress(\n",
    "    es_function_comma_many_sigmas, T=T,\n",
    "    random_seed=random_seed,\n",
    "    print_iteration_number=print_iteration_number\n",
    ")\n",
    "\n",
    "es_function_plus_many_sigmas =\\\n",
    "    lambda: es(objective_function=objective_functions.F4,\n",
    "               nvar=nvar,\n",
    "               starting_point=starting_point,\n",
    "               sigma_initial=sigma_initial,\n",
    "               mu=mu, children_count=children_count,\n",
    "               selection_strategy=1, many_sigmas=True,\n",
    "               generations_count=2000,\n",
    "               optimum_value=0, precision=1e-8,\n",
    "               suppress_output=True, do_print=False)\n",
    "\n",
    "print(\"ES, plus strategy, many sigmas:\")\n",
    "visualize.report_average_ea_progress(\n",
    "    es_function_plus_many_sigmas, T=T,\n",
    "    random_seed=random_seed,\n",
    "    print_iteration_number=print_iteration_number\n",
    ")"
   ]
  },
  {
   "cell_type": "markdown",
   "metadata": {
    "pycharm": {
     "name": "#%% md\n"
    }
   },
   "source": [
    "For F5, results are not so good, because the function\n",
    "is highly multimodal.\n",
    "Other ideas (island models, sharing, etc.) can be used\n",
    "to enhance ES performance in this case."
   ]
  },
  {
   "cell_type": "code",
   "execution_count": null,
   "metadata": {
    "pycharm": {
     "name": "#%%\n"
    }
   },
   "outputs": [],
   "source": [
    "T = 5\n",
    "random_seed = 123\n",
    "nvar = 2\n",
    "print_iteration_number = True\n",
    "mu = 10\n",
    "children_count = 100\n",
    "starting_point = 0*np.ones(nvar)\n",
    "\n",
    "es_function_comma_one_sigma =\\\n",
    "    lambda: es(objective_function=objective_functions.F5,\n",
    "               nvar=nvar, a=-40, b=40,\n",
    "               starting_point=starting_point,\n",
    "               sigma_initial=sigma_initial,\n",
    "               mu=mu, children_count=children_count,\n",
    "               selection_strategy=0, many_sigmas=False,\n",
    "               generations_count=1000,\n",
    "               optimum_value=0.9980038388, precision=1e-8,\n",
    "               suppress_output=True, do_print=False)\n",
    "\n",
    "print(\"ES, comma strategy, one sigma:\")\n",
    "visualize.report_average_ea_progress(\n",
    "    es_function_comma_one_sigma, T=T,\n",
    "    random_seed=random_seed,\n",
    "    print_iteration_number=print_iteration_number\n",
    ")\n",
    "\n",
    "es_function_comma_many_sigmas =\\\n",
    "    lambda: es(objective_function=objective_functions.F5,\n",
    "               nvar=nvar, a=-40, b=40,\n",
    "               starting_point=starting_point,\n",
    "               sigma_initial=sigma_initial,\n",
    "               mu=mu, children_count=children_count,\n",
    "               selection_strategy=0, many_sigmas=True,\n",
    "               generations_count=1000,\n",
    "               optimum_value=0.9980038388, precision=1e-8,\n",
    "               suppress_output=True, do_print=False)\n",
    "\n",
    "print(\"ES, comma strategy, many sigmas:\")\n",
    "visualize.report_average_ea_progress(\n",
    "    es_function_comma_many_sigmas, T=T,\n",
    "    random_seed=random_seed,\n",
    "    print_iteration_number=print_iteration_number\n",
    ")\n",
    "\n",
    "es_function_plus_many_sigmas =\\\n",
    "    lambda: es(objective_function=objective_functions.F5,\n",
    "               nvar=nvar, a=-40, b=40,\n",
    "               starting_point=starting_point,\n",
    "               sigma_initial=sigma_initial,\n",
    "               mu=mu, children_count=children_count,\n",
    "               selection_strategy=1, many_sigmas=True,\n",
    "               generations_count=1000,\n",
    "               optimum_value=0.9980038388, precision=1e-8,\n",
    "               suppress_output=True, do_print=False)\n",
    "\n",
    "print(\"ES, plus strategy, many sigmas:\")\n",
    "visualize.report_average_ea_progress(\n",
    "    es_function_plus_many_sigmas, T=T,\n",
    "    random_seed=random_seed,\n",
    "    print_iteration_number=print_iteration_number\n",
    ")"
   ]
  }
 ],
 "metadata": {
  "kernelspec": {
   "display_name": "Python 3",
   "language": "python",
   "name": "python3"
  },
  "language_info": {
   "codemirror_mode": {
    "name": "ipython",
    "version": 3
   },
   "file_extension": ".py",
   "mimetype": "text/x-python",
   "name": "python",
   "nbconvert_exporter": "python",
   "pygments_lexer": "ipython3",
   "version": "3.7.4"
  }
 },
 "nbformat": 4,
 "nbformat_minor": 1
}
