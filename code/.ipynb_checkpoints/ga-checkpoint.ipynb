{
 "cells": [
  {
   "cell_type": "markdown",
   "metadata": {
    "collapsed": true,
    "pycharm": {
     "name": "#%% md\n"
    }
   },
   "source": [
    "# Genetic Algorithms for Parameter Optimization\n",
    "## 1. Basic parts\n",
    "\n",
    "First, we load necessary modules and set global parameter values."
   ]
  },
  {
   "cell_type": "code",
   "execution_count": null,
   "metadata": {
    "pycharm": {
     "name": "#%%\n"
    }
   },
   "outputs": [],
   "source": [
    "# load modules\n",
    "import numpy as np\n",
    "import matplotlib\n",
    "import matplotlib.pyplot as plt\n",
    "from mpl_toolkits.mplot3d import Axes3D\n",
    "%matplotlib inline\n",
    "matplotlib.rcParams['text.usetex'] = True\n",
    "\n",
    "from ea_operators import phenotypes\n",
    "from ea_operators import initialize\n",
    "from ea_operators import fitness\n",
    "from ea_operators import crossover\n",
    "from ea_operators import selection\n",
    "from ea_utilities import objective_functions\n",
    "from ea_utilities import visualize\n",
    "from ea_algorithms.ga import ga"
   ]
  },
  {
   "cell_type": "markdown",
   "metadata": {},
   "source": [
    "We initialize the first-generation population with random numbers and print it out.\n",
    "Each row in the resulting matrix corresponds to one individual in the population.\n",
    "\n",
    "Each individual encodes $N$ reals in $[a; b]$ as follows.\n",
    "An individual of total length $N\\cdot l$ is split into\n",
    "$N$ parts of length $l$ each.\n",
    "Each part represents one real in $[a; b]$:\n",
    "* \"all zeros\" corresponds to $a$;\n",
    "* \"all ones\" corresponds to $b$;\n",
    "* everything else is mapped linearly onto reals in $[a; b]$.\n",
    "\n",
    "For example, suppose we want to encode 3 parameters in $[-1; 2]$ and use $l = 5$ bits for each of them.\n",
    "Then we can have a chromosome $10011\\mid 01100\\mid 01000$\n",
    "\n",
    "Since $00000 \\rightarrow -1$ and $11111 \\rightarrow 2$, we compute\n",
    "\\begin{align*}\n",
    "    10011 &\\rightarrow \\frac{19}{2^5 - 1} \\cdot (2 - (-1)) + (-1) \\approx 0.839\\\\\n",
    "    01100 &\\rightarrow \\frac{12}{2^5 - 1} \\cdot (2 - (-1)) + (-1) \\approx 0.161\\\\\n",
    "\t01000 &\\rightarrow \\frac{8}{2^5 - 1} \\cdot (2 - (-1)) + (-1) \\approx -0.226\n",
    "\\end{align*}\n",
    "\n",
    "To illustrate, let's compute fitness function\n",
    "$f(\\mathbf{x}) = x_1^2 + x_2^2 + x_3^2$."
   ]
  },
  {
   "cell_type": "code",
   "execution_count": null,
   "metadata": {
    "pycharm": {
     "name": "#%%\n"
    }
   },
   "outputs": [],
   "source": [
    "# set random seed for reproducibility\n",
    "np.random.seed(123)\n",
    "\n",
    "# initializing the population\n",
    "mu = 20  # population size\n",
    "nvar = 3  # number of parameters\n",
    "bits_num = 5  # bits to encode one parameter\n",
    "a, b = -1, 2  # interval\n",
    "\n",
    "population = initialize.initialize_real(\n",
    "    mu, nvar, bits_num\n",
    ")\n",
    "\n",
    "print(\"Individuals:\")\n",
    "print(population)\n",
    "\n",
    "# functions to pass into other functions\n",
    "fitness_function = lambda x: np.sum(x**2, axis=1)\n",
    "phenotype_function = lambda x: phenotypes.phenotype_real(\n",
    "    x, a, b, nvar, bits_num\n",
    ")\n",
    "\n",
    "# the same can be achieved just by calling a fitness calculation function\n",
    "# because it will also return individual phenotypes in the process\n",
    "(individuals, fitnesses) = fitness.compute_fitness(\n",
    "    population, phenotype_function, fitness_function\n",
    ")\n",
    "\n",
    "print(\"Individuals:\")\n",
    "print(individuals)\n",
    "\n",
    "print(\"Their fitness values:\")\n",
    "print(fitnesses)"
   ]
  },
  {
   "cell_type": "markdown",
   "metadata": {
    "pycharm": {
     "name": "#%% md\n"
    }
   },
   "source": [
    "Now we can explore how $n$-point and uniform crossovers work.\n",
    "\n",
    "For $n$-point crossovers, we generate $n$ random indexes, and\n",
    "exchange the parts of the chromosome, alternating between two\n",
    "parents.\n",
    "\n",
    "For illustration purposes, we will use the first two individuals\n",
    "to cross over."
   ]
  },
  {
   "cell_type": "code",
   "execution_count": null,
   "metadata": {
    "pycharm": {
     "name": "#%%\n"
    }
   },
   "outputs": [],
   "source": [
    "child1, child2, crossover_points, crossover_indices =\\\n",
    "    crossover.crossover_n_point(\n",
    "        population[0:2,], population[2:4,],\n",
    "        prob_crossover=1, return_meta_data=True, n=2\n",
    "    )\n",
    "\n",
    "print(\"Crossovers occurred at positions {}\".format(crossover_points))\n",
    "print(\"Parents:\")\n",
    "print(population[0:2,])\n",
    "print(population[2:4,])\n",
    "print(\"Children:\")\n",
    "print(child1)\n",
    "print(child2)"
   ]
  },
  {
   "cell_type": "markdown",
   "metadata": {
    "pycharm": {
     "name": "#%% md\n"
    }
   },
   "source": [
    "For uniform crossover, we flip a coin for each single gene\n",
    "and decide whether it should go from parent 1 to child 1 and\n",
    "from parent 2 to child 2, or from parent 1 to child 2 and\n",
    "from parent 2 to child 1."
   ]
  },
  {
   "cell_type": "code",
   "execution_count": null,
   "metadata": {
    "pycharm": {
     "name": "#%%\n"
    }
   },
   "outputs": [],
   "source": [
    "child1, child2, crossover_points, crossover_indices =\\\n",
    "    crossover.crossover_uniform(\n",
    "        population[0:2,], population[2:4,],\n",
    "        prob_crossover=1, return_meta_data=True\n",
    "    )\n",
    "\n",
    "print(\"Random numbers that decided what goes where: {}\".format(crossover_points))\n",
    "print(\"Parents:\")\n",
    "print(population[0:2,])\n",
    "print(population[2:4,])\n",
    "print(\"Children:\")\n",
    "print(child1)\n",
    "print(child2)"
   ]
  },
  {
   "cell_type": "markdown",
   "metadata": {
    "pycharm": {
     "name": "#%% md\n"
    }
   },
   "source": [
    "## 2. Minimizing test functions\n",
    "\n",
    "Now we can combine everything in one big algorithm to be tried\n",
    "on several test functions. The functions are taken from *An Analysis of the Behaviour of a Class of Genetic Adaptive\n",
    "Systems* by K. A. De Jong (1975) and are commonly called *De Jong\n",
    "functions*."
   ]
  },
  {
   "cell_type": "code",
   "execution_count": null,
   "metadata": {
    "pycharm": {
     "name": "#%%\n"
    }
   },
   "outputs": [],
   "source": [
    "def plot_test_function(test_function, a, b):\n",
    "    # create a grid of x and y values\n",
    "    x = np.linspace(a, b, 100)\n",
    "    y = np.linspace(a, b, 100)\n",
    "    X, Y = np.meshgrid(x, y)\n",
    "    xy_coordinates = np.column_stack((X.ravel(), Y.ravel()))\n",
    "\n",
    "    # calculate z values\n",
    "    result = test_function(xy_coordinates)\n",
    "    Z = result.reshape(X.shape)\n",
    "\n",
    "    # create a 3D figure with two subplots\n",
    "    fig = plt.figure()\n",
    "    ax = fig.add_subplot(111, projection='3d')\n",
    "\n",
    "    # plot the 3D surface\n",
    "    surf = ax.plot_surface(X, Y, Z, cmap='viridis')\n",
    "\n",
    "    # add labels and a color bar\n",
    "    ax.set_xlabel('$x$')\n",
    "    ax.set_ylabel('$y$')\n",
    "    ax.set_zlabel('')\n",
    "    fig.colorbar(surf)\n",
    "\n",
    "    # adjust the layout to prevent overlapping labels\n",
    "    plt.tight_layout()\n",
    "\n",
    "    # show the plot\n",
    "    plt.show()"
   ]
  },
  {
   "cell_type": "markdown",
   "metadata": {
    "pycharm": {
     "name": "#%% md\n"
    }
   },
   "source": [
    "1) F1 function, also called the *spherical model*:\n",
    "\n",
    "$$F_1(\\mathbf{x}) = \\sum_{i=1}^n x_i^2$$\n",
    "\n",
    "It is continuous, convex, unimodal, quadratic,\n",
    "symmetrical. So it is typically not hard to minimize.\n",
    "\n",
    "Search is restricted to $[-5.12; 5.12]$ with step 0.01.\n",
    "\n",
    "Minimum is of course at $\\mathbf{x} = (0, \\ldots, 0)^\\top$\n",
    "and equals $0$."
   ]
  },
  {
   "cell_type": "code",
   "execution_count": null,
   "metadata": {
    "pycharm": {
     "name": "#%%"
    }
   },
   "outputs": [],
   "source": [
    "plot_test_function(objective_functions.F1, -5.12, 5.12)"
   ]
  },
  {
   "cell_type": "markdown",
   "metadata": {
    "pycharm": {
     "name": "#%% md\n"
    }
   },
   "source": [
    "2) F2 function (Rosenbrock function):\n",
    "\n",
    "$$F_2(\\mathbf{x}) = \\sum_{i=1}^{n-1} \\left(100(x_i^2 - x_{i+1})^2 + (1 - x_i)^2\\right)$$\n",
    "\n",
    "It is continuous, non-convex, unimodal, and\n",
    "difficult because it has deep parabolic valleys\n",
    "along the curves $x_{i+1} = x_i^2$.\n",
    "\n",
    "Search is restricted to $[-2.048; 2.048]$ with step 0.001.\n",
    "\n",
    "Minimum is attained at $\\mathbf{x} = (1, \\ldots, 1)^\\top$\n",
    "and equals $0$.\n"
   ]
  },
  {
   "cell_type": "code",
   "execution_count": null,
   "metadata": {
    "pycharm": {
     "name": "#%%"
    }
   },
   "outputs": [],
   "source": [
    "plot_test_function(objective_functions.F2, -2.048, 2.048)"
   ]
  },
  {
   "cell_type": "markdown",
   "metadata": {
    "pycharm": {
     "name": "#%% md\n"
    }
   },
   "source": [
    "3) F3 function:\n",
    "\n",
    "$$F_3(\\mathbf{x}) = \\sum_{i=1}^n [x_i]$$\n",
    "\n",
    "Here $[\\cdot]$ represents closest integer from the left (floor function).\n",
    "\n",
    "It is discontinuous, non-convex, unimodal, and\n",
    "piecewise-constant.\n",
    "\n",
    "Search is restricted to $[-5.12; 5.12]$ with step 0.01.\n",
    "\n",
    "Minimum is attained at $\\mathbf{x} = (-5.12, \\ldots, -5.12)^\\top$\n",
    "and equals $-6n$."
   ]
  },
  {
   "cell_type": "code",
   "execution_count": null,
   "metadata": {
    "pycharm": {
     "name": "#%%"
    }
   },
   "outputs": [],
   "source": [
    "plot_test_function(objective_functions.F3, -5.12, 5.12)"
   ]
  },
  {
   "cell_type": "markdown",
   "metadata": {
    "pycharm": {
     "name": "#%% md\n"
    }
   },
   "source": [
    "4) F4 function:\n",
    "\n",
    "$$F_4(\\mathbf{x}) = \\sum_{i=1}^n i x_i^4 + N(0, 1)$$\n",
    "\n",
    "(This is for $n = 30$. For other $n$, standard deviation of random\n",
    "normals is chosen heuristically not to be too large.)\n",
    "It is continuous, convex, unimodal, and\n",
    "quartic. Most importantly, it is *stochastic*, in the sense\n",
    "that on *each evaluation* it yields slightly different\n",
    "results.\n",
    "\n",
    "Search is restricted to $[-1.28; 1.28]$ with step 0.01.\n",
    "\n",
    "Minimum (deterministic part) is of course at $\\mathbf{x} = (0, \\ldots, 0)^\\top$\n",
    "and equals $0$."
   ]
  },
  {
   "cell_type": "code",
   "execution_count": null,
   "metadata": {
    "pycharm": {
     "name": "#%%\n"
    }
   },
   "outputs": [],
   "source": [
    "plot_test_function(objective_functions.F4, -1.28, 1.28)"
   ]
  },
  {
   "cell_type": "markdown",
   "metadata": {
    "pycharm": {
     "name": "#%% md\n"
    }
   },
   "source": [
    "5) F5 function:\n",
    "\n",
    "$$F_5(x_1, x_2) = \\left(\\frac{1}{500} + \\sum_{j=1}^{25} \\frac{1}{f_j(x_1, x_2)}\\right)^{-1}\\;,$$\n",
    "where\n",
    "$$f_j(x_1, x_2) = j + \\sum_{i=1}^2 (x_i - a_{ij})^6\\;,$$\n",
    "where\n",
    "\n",
    "$\\mathbf{a} =  \\begin{pmatrix}\n",
    "-32 & -16 & 0 & 16 & 32 & -32 & -16 & \\ldots & 0 & 16 & 32\\\\\n",
    "-32 & -32 & -32 & -32 & -32 & -16 & -16 & \\ldots 32 & 32 & 32\n",
    "\\end{pmatrix}$\n",
    "\n",
    "It is continuous, non-convex, non-quadratic, and multimodal,\n",
    "making it especially hard to optimize.\n",
    "\n",
    "Search is restricted to $[-65.536; 65.536]$ with step 0.001.\n",
    "\n",
    "Minimum is attained at (approximately) $(-32, -32)^\\top$\n",
    "and equals $1$. (Pay attention that each \"column\" is of different height.)\n"
   ]
  },
  {
   "cell_type": "code",
   "execution_count": null,
   "metadata": {
    "pycharm": {
     "name": "#%%\n"
    }
   },
   "outputs": [],
   "source": [
    "plot_test_function(objective_functions.F5, -65.536, 65.536)"
   ]
  },
  {
   "cell_type": "markdown",
   "metadata": {},
   "source": [
    "First let's see how a basic GA with the simple crossover tackles\n",
    "these problems, and how to choose parameters to improve its performance.\n",
    "\n",
    "With F1 function, everything is easy."
   ]
  },
  {
   "cell_type": "code",
   "execution_count": null,
   "metadata": {
    "pycharm": {
     "name": "#%%\n"
    }
   },
   "outputs": [],
   "source": [
    "np.random.seed(123)\n",
    "population, individuals, fitnesses,\\\n",
    "generation_final, success, function_evals =\\\n",
    "    ga(objective_function=objective_functions.F1,\n",
    "       nvar=1, a=-5.12, b=5.12, bits_num=32,\n",
    "       mu=50,\n",
    "       crossover_function=crossover.crossover_uniform,\n",
    "       prob_crossover=1, prob_mutation=0.001,\n",
    "       generations_count=2000,\n",
    "       optimum_value=0, precision=1e-8,\n",
    "       do_draw_population=True,  # feel free to turn this on or off\n",
    "       do_print=False)  # feel free to turn this on or off"
   ]
  },
  {
   "cell_type": "markdown",
   "metadata": {
    "pycharm": {
     "name": "#%% md\n"
    }
   },
   "source": [
    "We can even compare how different $n$-point and uniform crossovers influence\n",
    "the algorithm performance. To make things more realistic, we will\n",
    "also increase dimensionality of the problem."
   ]
  },
  {
   "cell_type": "code",
   "execution_count": null,
   "metadata": {
    "pycharm": {
     "name": "#%%\n"
    }
   },
   "outputs": [],
   "source": [
    "T = 5\n",
    "random_seed = 123\n",
    "nvar = 2  # already for nvar = 5 we have bad results\n",
    "print_iteration_number = True\n",
    "prob_mutation = 0.001\n",
    "\n",
    "ga_function_1_point =\\\n",
    "    lambda: ga(objective_function=objective_functions.F1,\n",
    "               nvar=nvar, a=-5.12, b=5.12, bits_num=32,\n",
    "               mu=50,\n",
    "               crossover_function=crossover.crossover_one_point,\n",
    "               prob_crossover=1, prob_mutation=prob_mutation,\n",
    "               generations_count=2000,\n",
    "               optimum_value=0, precision=1e-8,\n",
    "               suppress_output=True, do_print=False)\n",
    "\n",
    "print(\"1-point crossover:\")\n",
    "visualize.report_average_ga_progress(\n",
    "    ga_function_1_point, T=T, random_seed=random_seed,\n",
    "    print_iteration_number=print_iteration_number\n",
    ")\n",
    "\n",
    "ga_function_2_point =\\\n",
    "    lambda: ga(objective_function=objective_functions.F1,\n",
    "               nvar=nvar, a=-5.12, b=5.12, bits_num=32,\n",
    "               mu=50,\n",
    "               crossover_function=(crossover.crossover_n_point, {\"n\": 2}),\n",
    "               prob_crossover=1, prob_mutation=prob_mutation,\n",
    "               generations_count=2000,\n",
    "               optimum_value=0, precision=1e-8,\n",
    "               suppress_output=True, do_print=False)\n",
    "\n",
    "print(\"2-point crossover:\")\n",
    "visualize.report_average_ga_progress(\n",
    "    ga_function_2_point, T=T, random_seed=random_seed,\n",
    "    print_iteration_number=print_iteration_number\n",
    ")\n",
    "\n",
    "ga_function_10_point =\\\n",
    "    lambda: ga(objective_function=objective_functions.F1,\n",
    "               nvar=nvar, a=-5.12, b=5.12, bits_num=32,\n",
    "               mu=50,\n",
    "               crossover_function=(crossover.crossover_n_point, {\"n\": 10}),\n",
    "               prob_crossover=1, prob_mutation=prob_mutation,\n",
    "               generations_count=2000,\n",
    "               optimum_value=0, precision=1e-8,\n",
    "               suppress_output=True, do_print=False)\n",
    "\n",
    "print(\"10-point crossover:\")\n",
    "visualize.report_average_ga_progress(\n",
    "    ga_function_10_point, T=T, random_seed=random_seed,\n",
    "    print_iteration_number=print_iteration_number\n",
    ")\n",
    "\n",
    "ga_function_uniform =\\\n",
    "    lambda: ga(objective_function=objective_functions.F1,\n",
    "               nvar=nvar, a=-5.12, b=5.12, bits_num=32,\n",
    "               mu=50,\n",
    "               crossover_function=crossover.crossover_uniform,\n",
    "               prob_crossover=1, prob_mutation=prob_mutation,\n",
    "               generations_count=2000,\n",
    "               optimum_value=0, precision=1e-8,\n",
    "               suppress_output=True, do_print=False)\n",
    "\n",
    "print(\"Uniform crossover:\")\n",
    "visualize.report_average_ga_progress(\n",
    "    ga_function_uniform, T=T, random_seed=random_seed,\n",
    "    print_iteration_number=print_iteration_number\n",
    ")"
   ]
  },
  {
   "cell_type": "markdown",
   "metadata": {},
   "source": [
    "Now let's try the F2 function. As we can see, it doesn't work very\n",
    "well. Feel free to try different crossovers and other parameters."
   ]
  },
  {
   "cell_type": "code",
   "execution_count": null,
   "metadata": {
    "pycharm": {
     "name": "#%%\n"
    }
   },
   "outputs": [],
   "source": [
    "T = 5\n",
    "random_seed = 123\n",
    "print_iteration_number = True\n",
    "\n",
    "ga_function =\\\n",
    "    lambda: ga(objective_function=objective_functions.F2,\n",
    "               nvar=2, a=-2.048, b=2.048, bits_num=32,\n",
    "               mu=50,\n",
    "               crossover_function=crossover.crossover_one_point,\n",
    "               prob_crossover=1, prob_mutation=0.001,\n",
    "               generations_count=2000,\n",
    "               optimum_value=0, precision=1e-8,\n",
    "               suppress_output=True, do_print=False)\n",
    "\n",
    "visualize.report_average_ga_progress(\n",
    "    ga_function, T=T, random_seed=random_seed,\n",
    "    print_iteration_number=print_iteration_number\n",
    ")"
   ]
  },
  {
   "cell_type": "markdown",
   "metadata": {
    "pycharm": {
     "name": "#%% md\n"
    }
   },
   "source": [
    "Now let's try the F3 function."
   ]
  },
  {
   "cell_type": "code",
   "execution_count": null,
   "metadata": {
    "pycharm": {
     "name": "#%%\n"
    }
   },
   "outputs": [],
   "source": [
    "np.random.seed(123)\n",
    "nvar=1\n",
    "population, individuals, fitnesses, generation_final, success =\\\n",
    "    ga(objective_function=objective_functions.F3,\n",
    "       nvar=nvar, a=-5.12, b=5.12, bits_num=32,\n",
    "       mu=8,\n",
    "       crossover_function=crossover.crossover_one_point,\n",
    "       prob_crossover=1, prob_mutation=0.001,\n",
    "       generations_count=2000,\n",
    "       optimum_value=-6*nvar, precision=1e-8,\n",
    "       do_draw_population=True,  # feel free to turn this on or off\n",
    "       do_print=False)  # feel free to turn this on or off"
   ]
  },
  {
   "cell_type": "markdown",
   "metadata": {
    "pycharm": {
     "name": "#%% md\n"
    }
   },
   "source": [
    "We can compare how different $n$-point and uniform crossovers influence\n",
    "the algorithm performance."
   ]
  },
  {
   "cell_type": "code",
   "execution_count": null,
   "metadata": {
    "pycharm": {
     "name": "#%%\n"
    }
   },
   "outputs": [],
   "source": [
    "T = 5\n",
    "random_seed = 123\n",
    "nvar = 5\n",
    "print_iteration_number = True\n",
    "prob_mutation = 0.001\n",
    "\n",
    "ga_function_1_point =\\\n",
    "    lambda: ga(objective_function=objective_functions.F3,\n",
    "               nvar=nvar, a=-5.12, b=5.12, bits_num=32,\n",
    "               mu=50,\n",
    "               crossover_function=crossover.crossover_one_point,\n",
    "               prob_crossover=1, prob_mutation=prob_mutation,\n",
    "               generations_count=2000,\n",
    "               optimum_value=-6*nvar, precision=1e-8,\n",
    "               suppress_output=True, do_print=False)\n",
    "\n",
    "print(\"1-point crossover:\")\n",
    "visualize.report_average_ga_progress(\n",
    "    ga_function_1_point, T=T, random_seed=random_seed,\n",
    "    print_iteration_number=print_iteration_number\n",
    ")\n",
    "\n",
    "ga_function_2_point =\\\n",
    "    lambda: ga(objective_function=objective_functions.F3,\n",
    "               nvar=nvar, a=-5.12, b=5.12, bits_num=32,\n",
    "               mu=50,\n",
    "               crossover_function=(crossover.crossover_n_point, {\"n\": 2}),\n",
    "               prob_crossover=1, prob_mutation=prob_mutation,\n",
    "               generations_count=2000,\n",
    "               optimum_value=-6*nvar, precision=1e-8,\n",
    "               suppress_output=True, do_print=False)\n",
    "\n",
    "print(\"2-point crossover:\")\n",
    "visualize.report_average_ga_progress(\n",
    "    ga_function_2_point, T=T, random_seed=random_seed,\n",
    "    print_iteration_number=print_iteration_number\n",
    ")\n",
    "\n",
    "ga_function_10_point =\\\n",
    "    lambda: ga(objective_function=objective_functions.F3,\n",
    "               nvar=nvar, a=-5.12, b=5.12, bits_num=32,\n",
    "               mu=50,\n",
    "               crossover_function=(crossover.crossover_n_point, {\"n\": 10}),\n",
    "               prob_crossover=1, prob_mutation=prob_mutation,\n",
    "               generations_count=2000,\n",
    "               optimum_value=-6*nvar, precision=1e-8,\n",
    "               suppress_output=True, do_print=False)\n",
    "\n",
    "print(\"10-point crossover:\")\n",
    "visualize.report_average_ga_progress(\n",
    "    ga_function_10_point, T=T, random_seed=random_seed,\n",
    "    print_iteration_number=print_iteration_number\n",
    ")\n",
    "\n",
    "ga_function_uniform =\\\n",
    "    lambda: ga(objective_function=objective_functions.F3,\n",
    "               nvar=nvar, a=-5.12, b=5.12, bits_num=32,\n",
    "               mu=50,\n",
    "               crossover_function=crossover.crossover_uniform,\n",
    "               prob_crossover=1, prob_mutation=prob_mutation,\n",
    "               generations_count=2000,\n",
    "               optimum_value=-6*nvar, precision=1e-8,\n",
    "               suppress_output=True, do_print=False)\n",
    "\n",
    "print(\"Uniform crossover:\")\n",
    "visualize.report_average_ga_progress(\n",
    "    ga_function_uniform, T=T, random_seed=random_seed,\n",
    "    print_iteration_number=print_iteration_number\n",
    ")"
   ]
  },
  {
   "cell_type": "markdown",
   "metadata": {
    "pycharm": {
     "name": "#%% md\n"
    }
   },
   "source": [
    "Now let's try the F4 function."
   ]
  },
  {
   "cell_type": "code",
   "execution_count": null,
   "metadata": {
    "pycharm": {
     "name": "#%%\n"
    }
   },
   "outputs": [],
   "source": [
    "np.random.seed(123)\n",
    "nvar=1\n",
    "population, individuals, fitnesses, generation_final, success =\\\n",
    "    ga(objective_function=objective_functions.F4,\n",
    "       nvar=nvar, a=-1.28, b=1.28, bits_num=32,\n",
    "       mu=50,\n",
    "       crossover_function=crossover.crossover_one_point,\n",
    "       prob_crossover=1, prob_mutation=0.001,\n",
    "       generations_count=2000,\n",
    "       optimum_value=0, precision=1e-8,\n",
    "       do_draw_population=False,   # feel free to turn this on or off\n",
    "       do_print=False)  # feel free to turn this on or off"
   ]
  },
  {
   "cell_type": "markdown",
   "metadata": {},
   "source": [
    "We can compare how different $n$-point and uniform crossovers influence\n",
    "the algorithm performance."
   ]
  },
  {
   "cell_type": "code",
   "execution_count": null,
   "metadata": {
    "pycharm": {
     "name": "#%%\n"
    }
   },
   "outputs": [],
   "source": [
    "T = 5\n",
    "random_seed = 123\n",
    "nvar = 1\n",
    "print_iteration_number = True\n",
    "prob_mutation = 0.001\n",
    "\n",
    "ga_function_1_point =\\\n",
    "    lambda: ga(objective_function=objective_functions.F4,\n",
    "               nvar=nvar, a=-1.28, b=1.28, bits_num=32,\n",
    "               mu=50,\n",
    "               crossover_function=crossover.crossover_one_point,\n",
    "               prob_crossover=1, prob_mutation=prob_mutation,\n",
    "               generations_count=2000,\n",
    "               optimum_value=0, precision=1e-8,\n",
    "               suppress_output=True, do_print=False)\n",
    "\n",
    "print(\"1-point crossover:\")\n",
    "visualize.report_average_ga_progress(\n",
    "    ga_function_1_point, T=T, random_seed=random_seed,\n",
    "    print_iteration_number=print_iteration_number\n",
    ")\n",
    "\n",
    "ga_function_2_point =\\\n",
    "    lambda: ga(objective_function=objective_functions.F4,\n",
    "               nvar=nvar, a=-1.28, b=1.28, bits_num=32,\n",
    "               mu=50,\n",
    "               crossover_function=(crossover.crossover_n_point, {\"n\": 2}),\n",
    "               prob_crossover=1, prob_mutation=prob_mutation,\n",
    "               generations_count=2000,\n",
    "               optimum_value=0, precision=1e-8,\n",
    "               suppress_output=True, do_print=False)\n",
    "\n",
    "print(\"2-point crossover:\")\n",
    "visualize.report_average_ga_progress(\n",
    "    ga_function_2_point, T=T, random_seed=random_seed,\n",
    "    print_iteration_number=print_iteration_number\n",
    ")\n",
    "\n",
    "ga_function_10_point =\\\n",
    "    lambda: ga(objective_function=objective_functions.F4,\n",
    "               nvar=nvar, a=-1.28, b=1.28, bits_num=32,\n",
    "               mu=50,\n",
    "               crossover_function=(crossover.crossover_n_point, {\"n\": 10}),\n",
    "               prob_crossover=1, prob_mutation=prob_mutation,\n",
    "               generations_count=2000,\n",
    "               optimum_value=0, precision=1e-8,\n",
    "               suppress_output=True, do_print=False)\n",
    "\n",
    "print(\"10-point crossover:\")\n",
    "visualize.report_average_ga_progress(\n",
    "    ga_function_10_point, T=T, random_seed=random_seed,\n",
    "    print_iteration_number=print_iteration_number\n",
    ")\n",
    "\n",
    "ga_function_uniform =\\\n",
    "    lambda: ga(objective_function=objective_functions.F4,\n",
    "               nvar=nvar, a=-1.28, b=1.28, bits_num=32,\n",
    "               mu=50,\n",
    "               crossover_function=crossover.crossover_uniform,\n",
    "               prob_crossover=1, prob_mutation=prob_mutation,\n",
    "               generations_count=2000,\n",
    "               optimum_value=0, precision=1e-8,\n",
    "               suppress_output=True, do_print=False)\n",
    "\n",
    "print(\"Uniform crossover:\")\n",
    "visualize.report_average_ga_progress(\n",
    "    ga_function_uniform, T=T, random_seed=random_seed,\n",
    "    print_iteration_number=print_iteration_number\n",
    ")"
   ]
  },
  {
   "cell_type": "markdown",
   "metadata": {
    "pycharm": {
     "name": "#%% md\n"
    }
   },
   "source": [
    "Now let's try the F5 function."
   ]
  },
  {
   "cell_type": "code",
   "execution_count": null,
   "metadata": {
    "pycharm": {
     "name": "#%%\n"
    }
   },
   "outputs": [],
   "source": [
    "np.random.seed(123)\n",
    "nvar=1\n",
    "population, individuals, fitnesses, generation_final, success =\\\n",
    "    ga(objective_function=objective_functions.F5,\n",
    "       nvar=nvar, a=-65.536, b=65.536, bits_num=32,\n",
    "       mu=50,\n",
    "       crossover_function=crossover.crossover_one_point,\n",
    "       prob_crossover=1, prob_mutation=0.005,\n",
    "       generations_count=2000,\n",
    "       optimum_value=0.99800393, precision=1e-8,\n",
    "       do_draw_population=True,   # feel free to turn this on or off\n",
    "       do_print=False)  # feel free to turn this on or off"
   ]
  },
  {
   "cell_type": "markdown",
   "metadata": {},
   "source": [
    "We can compare how different $n$-point and uniform crossovers influence\n",
    "the algorithm performance."
   ]
  },
  {
   "cell_type": "code",
   "execution_count": null,
   "metadata": {
    "pycharm": {
     "name": "#%%\n"
    }
   },
   "outputs": [],
   "source": [
    "T = 5\n",
    "random_seed = 123\n",
    "nvar = 2\n",
    "print_iteration_number = True\n",
    "prob_mutation = 0.001\n",
    "\n",
    "ga_function_1_point =\\\n",
    "    lambda: ga(objective_function=objective_functions.F5,\n",
    "               nvar=nvar, a=-65.536, b=65.536, bits_num=32,\n",
    "               mu=50,\n",
    "               crossover_function=crossover.crossover_one_point,\n",
    "               prob_crossover=1, prob_mutation=prob_mutation,\n",
    "               generations_count=2000,\n",
    "               optimum_value=0.9980038388, precision=1e-8,\n",
    "               suppress_output=True, do_print=False)\n",
    "\n",
    "print(\"1-point crossover:\")\n",
    "visualize.report_average_ga_progress(\n",
    "    ga_function_1_point, T=T, random_seed=random_seed,\n",
    "    print_iteration_number=print_iteration_number\n",
    ")\n",
    "\n",
    "ga_function_2_point =\\\n",
    "    lambda: ga(objective_function=objective_functions.F5,\n",
    "               nvar=nvar, a=-65.536, b=65.536, bits_num=32,\n",
    "               mu=50,\n",
    "               crossover_function=(crossover.crossover_n_point, {\"n\": 2}),\n",
    "               prob_crossover=1, prob_mutation=prob_mutation,\n",
    "               generations_count=2000,\n",
    "               optimum_value=0.9980038388, precision=1e-8,\n",
    "               suppress_output=True, do_print=False)\n",
    "\n",
    "print(\"2-point crossover:\")\n",
    "visualize.report_average_ga_progress(\n",
    "    ga_function_2_point, T=T, random_seed=random_seed,\n",
    "    print_iteration_number=print_iteration_number\n",
    ")\n",
    "\n",
    "ga_function_10_point =\\\n",
    "    lambda: ga(objective_function=objective_functions.F5,\n",
    "               nvar=nvar, a=-65.536, b=65.536, bits_num=32,\n",
    "               mu=50,\n",
    "               crossover_function=(crossover.crossover_n_point, {\"n\": 10}),\n",
    "               prob_crossover=1, prob_mutation=prob_mutation,\n",
    "               generations_count=2000,\n",
    "               optimum_value=0.9980038388, precision=1e-8,\n",
    "               suppress_output=True, do_print=False)\n",
    "\n",
    "print(\"10-point crossover:\")\n",
    "visualize.report_average_ga_progress(\n",
    "    ga_function_10_point, T=T, random_seed=random_seed,\n",
    "    print_iteration_number=print_iteration_number\n",
    ")\n",
    "\n",
    "ga_function_uniform =\\\n",
    "    lambda: ga(objective_function=objective_functions.F5,\n",
    "               nvar=nvar, a=-65.536, b=65.536, bits_num=32,\n",
    "               mu=50,\n",
    "               crossover_function=crossover.crossover_uniform,\n",
    "               prob_crossover=1, prob_mutation=prob_mutation,\n",
    "               generations_count=2000,\n",
    "               optimum_value=0.9980038388, precision=1e-8,\n",
    "               suppress_output=True, do_print=False)\n",
    "\n",
    "print(\"Uniform crossover:\")\n",
    "visualize.report_average_ga_progress(\n",
    "    ga_function_uniform, T=T, random_seed=random_seed,\n",
    "    print_iteration_number=print_iteration_number\n",
    ")"
   ]
  },
  {
   "cell_type": "markdown",
   "metadata": {},
   "source": [
    "## 3. Other Selection Methods\n",
    "\n",
    "Now we can see how the choice of selection influences GA performance.\n",
    "In particular, we will look only at how the **tournament selection**\n",
    "compares to the roulette wheel selection. According to this method,\n",
    "$q$ individuals are selected at random, and the best among them is\n",
    "selected as a prospective parent. This selection continues until\n",
    "the required number of parents has been selected. Parameter $q$\n",
    "is commonly called *tournament size*.\n",
    "\n",
    "First, let's take a look at F1 function. As we recall, basic GA\n",
    "was not very efficient at minimizing already when there were\n",
    "around 5 arguments."
   ]
  },
  {
   "cell_type": "code",
   "execution_count": null,
   "metadata": {
    "pycharm": {
     "name": "#%%\n"
    }
   },
   "outputs": [],
   "source": [
    "T = 1\n",
    "random_seed = 123\n",
    "nvar = 5  # with tournament selection, nvar = 5 is very easy\n",
    "           # and even up to nvar = 50 works well\n",
    "print_iteration_number = True\n",
    "prob_mutation = 0.001\n",
    "crossover_function = crossover.crossover_one_point\n",
    "q = 15\n",
    "\n",
    "ga_function_roulette =\\\n",
    "    lambda: ga(objective_function=objective_functions.F1,\n",
    "               nvar=nvar, a=-5.12, b=5.12, bits_num=32,\n",
    "               mu=50,\n",
    "               crossover_function=crossover_function,\n",
    "               selection_function=selection.selection_roulette_wheel,\n",
    "               prob_crossover=1, prob_mutation=prob_mutation,\n",
    "               generations_count=2000,\n",
    "               optimum_value=0, precision=1e-8,\n",
    "               suppress_output=True, do_print=False)\n",
    "\n",
    "print(\"Roulette wheel selection:\")\n",
    "visualize.report_average_ga_progress(\n",
    "    ga_function_roulette, T=T, random_seed=random_seed,\n",
    "    print_iteration_number=print_iteration_number\n",
    ")\n",
    "\n",
    "ga_function_tournament =\\\n",
    "    lambda: ga(objective_function=objective_functions.F1,\n",
    "               nvar=nvar, a=-5.12, b=5.12, bits_num=32,\n",
    "               mu=50,\n",
    "               crossover_function=crossover_function,\n",
    "               selection_function=(selection.selection_tournament,\n",
    "                                   {\"q\": q}),\n",
    "               prob_crossover=1, prob_mutation=prob_mutation,\n",
    "               generations_count=2000,\n",
    "               optimum_value=0, precision=1e-8,\n",
    "               suppress_output=True, do_print=False)\n",
    "\n",
    "print(\"Tournament selection:\")\n",
    "visualize.report_average_ga_progress(\n",
    "    ga_function_tournament, T=T, random_seed=random_seed,\n",
    "    print_iteration_number=print_iteration_number\n",
    ")"
   ]
  },
  {
   "cell_type": "markdown",
   "metadata": {
    "pycharm": {
     "name": "#%% md\n"
    }
   },
   "source": [
    "Now let's take a look at F2. As we recall, roulette wheel selection\n",
    "was not at all successful. Note unusual selection of some parameters\n",
    "(otherwise results are much worse)."
   ]
  },
  {
   "cell_type": "code",
   "execution_count": null,
   "metadata": {
    "pycharm": {
     "name": "#%%\n"
    }
   },
   "outputs": [],
   "source": [
    "T = 5\n",
    "random_seed = 123\n",
    "print_iteration_number = True\n",
    "\n",
    "ga_function =\\\n",
    "    lambda: ga(objective_function=objective_functions.F2,\n",
    "               nvar=2, a=-2.048, b=2.048, bits_num=32,\n",
    "               mu=50,\n",
    "               crossover_function=crossover.crossover_uniform,\n",
    "               selection_function=(selection.selection_tournament,\n",
    "                                   {\"q\": 15}),\n",
    "               prob_crossover=1, prob_mutation=0.05,\n",
    "               generations_count=2000,\n",
    "               optimum_value=0, precision=1e-8,\n",
    "               suppress_output=True, do_print=False)\n",
    "\n",
    "visualize.report_average_ga_progress(\n",
    "    ga_function, T=T, random_seed=random_seed,\n",
    "    print_iteration_number=print_iteration_number\n",
    ")"
   ]
  },
  {
   "cell_type": "markdown",
   "metadata": {
    "pycharm": {
     "name": "#%% md\n"
    }
   },
   "source": [
    "We will not show F3 because even roulette wheel selection was not\n",
    "particularly bad, and clearly tournament selection must be\n",
    "even better.\n",
    "\n",
    "We will instead take a look at F4. Earlier, we found that performance\n",
    "was mixed for 1 argument, and it was a lost cause for 30 arguments\n",
    "(as was originally intended by De Jong). Note unusual selection of some parameters\n",
    "(otherwise results are much worse)."
   ]
  },
  {
   "cell_type": "code",
   "execution_count": null,
   "metadata": {
    "pycharm": {
     "name": "#%%\n"
    }
   },
   "outputs": [],
   "source": [
    "T = 5\n",
    "random_seed = 123\n",
    "nvar = 30\n",
    "print_iteration_number = True\n",
    "crossover_function = crossover.crossover_one_point\n",
    "prob_mutation = 0.001\n",
    "\n",
    "ga_function_roulette =\\\n",
    "    lambda: ga(objective_function=objective_functions.F4,\n",
    "               nvar=nvar, a=-1.28, b=1.28, bits_num=32,\n",
    "               mu=50,\n",
    "               crossover_function=crossover_function,\n",
    "               selection_function=selection.selection_roulette_wheel,\n",
    "               prob_crossover=1, prob_mutation=prob_mutation,\n",
    "               generations_count=2000,\n",
    "               optimum_value=0, precision=1e-8,\n",
    "               suppress_output=True, do_print=False)\n",
    "\n",
    "print(\"Roulette wheel selection:\")\n",
    "visualize.report_average_ga_progress(\n",
    "    ga_function_roulette, T=T, random_seed=random_seed,\n",
    "    print_iteration_number=print_iteration_number\n",
    ")\n",
    "\n",
    "ga_function_tournament =\\\n",
    "    lambda: ga(objective_function=objective_functions.F4,\n",
    "               nvar=nvar, a=-1.28, b=1.28, bits_num=32,\n",
    "               mu=70,\n",
    "               crossover_function=crossover_function,\n",
    "               selection_function=(selection.selection_tournament,\n",
    "                                   {\"q\": 15}),\n",
    "               prob_crossover=1, prob_mutation=prob_mutation,\n",
    "               generations_count=2000,\n",
    "               optimum_value=0, precision=1e-8,\n",
    "               suppress_output=True, do_print=False)\n",
    "\n",
    "print(\"Tournament selection:\")\n",
    "visualize.report_average_ga_progress(\n",
    "    ga_function_tournament, T=T, random_seed=random_seed,\n",
    "    print_iteration_number=print_iteration_number\n",
    ")"
   ]
  },
  {
   "cell_type": "markdown",
   "metadata": {
    "pycharm": {
     "name": "#%% md\n"
    }
   },
   "source": [
    "Finally, we can take a look and compare performance on F5.\n",
    "The main issue in two dimensions is that GA is prone to getting\n",
    "stuck in local minima. We will discuss what to do with this\n",
    "below."
   ]
  },
  {
   "cell_type": "code",
   "execution_count": null,
   "metadata": {
    "pycharm": {
     "name": "#%%\n"
    }
   },
   "outputs": [],
   "source": [
    "T = 5\n",
    "random_seed = 123\n",
    "print_iteration_number = True\n",
    "\n",
    "ga_function =\\\n",
    "    lambda: ga(objective_function=objective_functions.F5,\n",
    "               nvar=2, a=-65.536, b=65.536, bits_num=32,\n",
    "               mu=50,\n",
    "               crossover_function=crossover.crossover_one_point,\n",
    "               selection_function=(selection.selection_tournament,\n",
    "                                   {\"q\": 15}),\n",
    "               prob_crossover=1, prob_mutation=0.001,\n",
    "               generations_count=500,\n",
    "               optimum_value=0.9980038388, precision=1e-8,\n",
    "               suppress_output=True, do_print=False)\n",
    "\n",
    "visualize.report_average_ga_progress(\n",
    "    ga_function, T=T, random_seed=random_seed,\n",
    "    print_iteration_number=print_iteration_number\n",
    ")"
   ]
  },
  {
   "cell_type": "markdown",
   "metadata": {
    "pycharm": {
     "name": "#%% md\n"
    }
   },
   "source": [
    "## 4. Steady-State Genetic Algorithm\n",
    "\n",
    "Up to this point, we assumed that on each generation, we create\n",
    "as many offspring as there are individuals (namely, $\\mu$), so that\n",
    "the whole population is replaced. This is the so called *generational\n",
    "model* of a population. In the *steady-state model*, we always replace\n",
    "(approximately) $G \\cdot \\mu$ individuals.\n",
    "\n",
    "A separate question is how to select individuals to be replaced.\n",
    "For simplicity, we will focus only on two alternatives:\n",
    "- stochastically select individuals to be replaced;\n",
    "- replace the worst individuals.\n",
    "\n",
    "We will test performance only on F2, F4, and F5, which were hard\n",
    "to optimize before.\n",
    "\n",
    "First, for F2, we can see some improvement, for both\n",
    "versions of the steady-state model."
   ]
  },
  {
   "cell_type": "code",
   "execution_count": null,
   "metadata": {
    "pycharm": {
     "name": "#%%\n"
    }
   },
   "outputs": [],
   "source": [
    "T = 5\n",
    "random_seed = 123\n",
    "print_iteration_number = True\n",
    "crossover_function = crossover.crossover_uniform\n",
    "selection_function = (selection.selection_tournament, {\"q\": 15})\n",
    "prob_mutation = 0.05\n",
    "mu = 50\n",
    "children_count = 40\n",
    "\n",
    "ga_function_generational =\\\n",
    "    lambda: ga(objective_function=objective_functions.F2,\n",
    "               nvar=2, a=-2.048, b=2.048, bits_num=32,\n",
    "               mu=mu,\n",
    "               crossover_function=crossover_function,\n",
    "               selection_function=selection_function,\n",
    "               prob_crossover=1, prob_mutation=prob_mutation,\n",
    "               generations_count=2000,\n",
    "               optimum_value=0, precision=1e-8,\n",
    "               suppress_output=True, do_print=False)\n",
    "\n",
    "print(\"Generational model:\")\n",
    "visualize.report_average_ga_progress(\n",
    "    ga_function_generational, T=T, random_seed=random_seed,\n",
    "    print_iteration_number=print_iteration_number\n",
    ")\n",
    "\n",
    "ga_function_steady_state_stochastic =\\\n",
    "    lambda: ga(objective_function=objective_functions.F2,\n",
    "               nvar=2, a=-2.048, b=2.048, bits_num=32,\n",
    "               mu=mu,\n",
    "               crossover_function=crossover_function,\n",
    "               selection_function=selection_function,\n",
    "               children_count=children_count,\n",
    "               replace_worst=False,\n",
    "               prob_crossover=1, prob_mutation=prob_mutation,\n",
    "               generations_count=2000,\n",
    "               optimum_value=0, precision=1e-8,\n",
    "               suppress_output=True, do_print=False)\n",
    "\n",
    "print(\"Steady-state model, stochastic:\")\n",
    "visualize.report_average_ga_progress(\n",
    "    ga_function_steady_state_stochastic, T=T,\n",
    "    random_seed=random_seed,\n",
    "    print_iteration_number=print_iteration_number\n",
    ")\n",
    "\n",
    "ga_function_steady_state_deterministic =\\\n",
    "    lambda: ga(objective_function=objective_functions.F2,\n",
    "               nvar=2, a=-2.048, b=2.048, bits_num=32,\n",
    "               mu=mu,\n",
    "               crossover_function=crossover_function,\n",
    "               selection_function=selection_function,\n",
    "               children_count=children_count,\n",
    "               replace_worst=True,\n",
    "               prob_crossover=1, prob_mutation=prob_mutation,\n",
    "               generations_count=2000,\n",
    "               optimum_value=0, precision=1e-8,\n",
    "               suppress_output=True, do_print=False)\n",
    "\n",
    "print(\"Steady-state model, deterministic:\")\n",
    "visualize.report_average_ga_progress(\n",
    "    ga_function_steady_state_deterministic, T=T,\n",
    "    random_seed=random_seed,\n",
    "    print_iteration_number=print_iteration_number\n",
    ")"
   ]
  },
  {
   "cell_type": "markdown",
   "metadata": {},
   "source": [
    "For F4, we (still) don't see much improvement, because the function\n",
    "is actually very hard to optimize (stochastic)."
   ]
  },
  {
   "cell_type": "code",
   "execution_count": null,
   "metadata": {
    "pycharm": {
     "name": "#%%\n"
    }
   },
   "outputs": [],
   "source": [
    "T = 5\n",
    "random_seed = 123\n",
    "print_iteration_number = True\n",
    "crossover_function = crossover.crossover_uniform\n",
    "selection_function = (selection.selection_tournament, {\"q\": 15})\n",
    "prob_mutation = 0.001\n",
    "nvar = 5  # for nvar = 30, still doesn't work that well\n",
    "mu = 70\n",
    "children_count = 60\n",
    "\n",
    "ga_function_generational =\\\n",
    "    lambda: ga(objective_function=objective_functions.F4,\n",
    "               nvar=nvar, a=-1.28, b=1.28, bits_num=32,\n",
    "               mu=mu,\n",
    "               crossover_function=crossover_function,\n",
    "               selection_function=selection_function,\n",
    "               prob_crossover=1, prob_mutation=prob_mutation,\n",
    "               generations_count=2000,\n",
    "               optimum_value=0, precision=1e-8,\n",
    "               suppress_output=True, do_print=False)\n",
    "\n",
    "print(\"Generational model:\")\n",
    "visualize.report_average_ga_progress(\n",
    "    ga_function_generational, T=T, random_seed=random_seed,\n",
    "    print_iteration_number=print_iteration_number\n",
    ")\n",
    "\n",
    "ga_function_steady_state_stochastic =\\\n",
    "    lambda: ga(objective_function=objective_functions.F4,\n",
    "               nvar=nvar, a=-1.28, b=1.28, bits_num=32,\n",
    "               mu=mu,\n",
    "               crossover_function=crossover_function,\n",
    "               selection_function=selection_function,\n",
    "               children_count=children_count,\n",
    "               replace_worst=False,\n",
    "               prob_crossover=1, prob_mutation=prob_mutation,\n",
    "               generations_count=2000,\n",
    "               optimum_value=0, precision=1e-8,\n",
    "               suppress_output=True, do_print=False)\n",
    "\n",
    "print(\"Steady-state model, stochastic:\")\n",
    "visualize.report_average_ga_progress(\n",
    "    ga_function_steady_state_stochastic, T=T,\n",
    "    random_seed=random_seed,\n",
    "    print_iteration_number=print_iteration_number\n",
    ")\n",
    "\n",
    "ga_function_steady_state_deterministic =\\\n",
    "    lambda: ga(objective_function=objective_functions.F4,\n",
    "               nvar=nvar, a=-1.28, b=1.28, bits_num=32,\n",
    "               mu=mu,\n",
    "               crossover_function=crossover_function,\n",
    "               selection_function=selection_function,\n",
    "               children_count=children_count,\n",
    "               replace_worst=True,\n",
    "               prob_crossover=1, prob_mutation=prob_mutation,\n",
    "               generations_count=2000,\n",
    "               optimum_value=0, precision=1e-8,\n",
    "               suppress_output=True, do_print=False)\n",
    "\n",
    "print(\"Steady-state model, deterministic:\")\n",
    "visualize.report_average_ga_progress(\n",
    "    ga_function_steady_state_deterministic, T=T,\n",
    "    random_seed=random_seed,\n",
    "    print_iteration_number=print_iteration_number\n",
    ")"
   ]
  },
  {
   "cell_type": "markdown",
   "metadata": {},
   "source": [
    "Finally, for F5, we also don't see much improvement.\n",
    "We still occasionally get stuck in local minima."
   ]
  },
  {
   "cell_type": "code",
   "execution_count": null,
   "metadata": {
    "pycharm": {
     "name": "#%%\n"
    }
   },
   "outputs": [],
   "source": [
    "T = 5\n",
    "random_seed = 123\n",
    "print_iteration_number = True\n",
    "crossover_function = crossover.crossover_one_point\n",
    "selection_function = (selection.selection_tournament, {\"q\": 15})\n",
    "prob_mutation = 0.01\n",
    "mu = 50\n",
    "children_count = 40\n",
    "\n",
    "ga_function_generational =\\\n",
    "    lambda: ga(objective_function=objective_functions.F5,\n",
    "               nvar=2, a=-65.536, b=65.536, bits_num=32,\n",
    "               mu=mu,\n",
    "               crossover_function=crossover_function,\n",
    "               selection_function=selection_function,\n",
    "               prob_crossover=1, prob_mutation=prob_mutation,\n",
    "               generations_count=500,\n",
    "               optimum_value=0.9980038388, precision=1e-8,\n",
    "               suppress_output=True, do_print=False)\n",
    "\n",
    "print(\"Generational model:\")\n",
    "visualize.report_average_ga_progress(\n",
    "    ga_function_generational, T=T, random_seed=random_seed,\n",
    "    print_iteration_number=print_iteration_number\n",
    ")\n",
    "\n",
    "ga_function_steady_state_stochastic =\\\n",
    "    lambda: ga(objective_function=objective_functions.F5,\n",
    "               nvar=2, a=-65.536, b=65.536, bits_num=32,\n",
    "               mu=mu,\n",
    "               crossover_function=crossover_function,\n",
    "               selection_function=selection_function,\n",
    "               children_count=children_count,\n",
    "               replace_worst=False,\n",
    "               prob_crossover=1, prob_mutation=prob_mutation,\n",
    "               generations_count=500,\n",
    "               optimum_value=0.9980038388, precision=1e-8,\n",
    "               suppress_output=True, do_print=False)\n",
    "\n",
    "print(\"Steady-state model, stochastic:\")\n",
    "visualize.report_average_ga_progress(\n",
    "    ga_function_steady_state_stochastic, T=T,\n",
    "    random_seed=random_seed,\n",
    "    print_iteration_number=print_iteration_number\n",
    ")\n",
    "\n",
    "ga_function_steady_state_deterministic =\\\n",
    "    lambda: ga(objective_function=objective_functions.F5,\n",
    "               nvar=2, a=-65.536, b=65.536, bits_num=32,\n",
    "               mu=mu,\n",
    "               crossover_function=crossover_function,\n",
    "               selection_function=selection_function,\n",
    "               children_count=children_count,\n",
    "               replace_worst=True,\n",
    "               prob_crossover=1, prob_mutation=prob_mutation,\n",
    "               generations_count=500,\n",
    "               optimum_value=0.9980038388, precision=1e-8,\n",
    "               suppress_output=True, do_print=False)\n",
    "\n",
    "print(\"Steady-state model, deterministic:\")\n",
    "visualize.report_average_ga_progress(\n",
    "    ga_function_steady_state_deterministic, T=T,\n",
    "    random_seed=random_seed,\n",
    "    print_iteration_number=print_iteration_number\n",
    ")"
   ]
  },
  {
   "cell_type": "markdown",
   "metadata": {
    "pycharm": {
     "name": "#%% md\n"
    }
   },
   "source": [
    "## 5. Sharing\n",
    "\n",
    "Now let us see how sharing (as an explicit way of handling\n",
    "multiobjective problems) helps with optimizing F5.\n",
    "\n",
    "First, let us see how it looks like graphically"
   ]
  },
  {
   "cell_type": "code",
   "execution_count": null,
   "metadata": {
    "pycharm": {
     "name": "#%%\n"
    }
   },
   "outputs": [],
   "source": [
    "np.random.seed(123)\n",
    "\n",
    "population, individuals, fitnesses,\\\n",
    "generation_final, success, fitness_evals =\\\n",
    "    ga(objective_function=objective_functions.F5,\n",
    "       nvar=1, a=-65.536, b=65.536, bits_num=32,\n",
    "       mu=50,\n",
    "       crossover_function=crossover.crossover_one_point,\n",
    "       prob_crossover=1, prob_mutation=0.005,\n",
    "       generations_count=2000,\n",
    "       optimum_value=0.99800393, precision=1e-8,\n",
    "       do_draw_population=True,   # feel free to turn this on or off\n",
    "       do_print=False,\n",
    "       do_derate=True)  # feel free to turn this on or off"
   ]
  },
  {
   "cell_type": "markdown",
   "metadata": {
    "pycharm": {
     "name": "#%% md\n"
    }
   },
   "source": [
    "Now we can perform statistical comparison."
   ]
  },
  {
   "cell_type": "code",
   "execution_count": null,
   "metadata": {
    "pycharm": {
     "name": "#%%\n"
    }
   },
   "outputs": [],
   "source": [
    "T = 5\n",
    "random_seed = 123\n",
    "print_iteration_number = True\n",
    "crossover_function = crossover.crossover_one_point\n",
    "selection_function = (selection.selection_tournament, {\"q\": 15})\n",
    "prob_mutation = 0.01\n",
    "mu = 100\n",
    "children_count = 50\n",
    "\n",
    "ga_function_generational =\\\n",
    "    lambda: ga(objective_function=objective_functions.F5,\n",
    "               nvar=2, a=-65.536, b=65.536, bits_num=32,\n",
    "               mu=mu,\n",
    "               crossover_function=crossover_function,\n",
    "               selection_function=selection_function,\n",
    "               prob_crossover=1, prob_mutation=prob_mutation,\n",
    "               generations_count=500,\n",
    "               optimum_value=0.9980038388, precision=1e-8,\n",
    "               suppress_output=True, do_print=False)\n",
    "\n",
    "ga_function_wo_sharing =\\\n",
    "    lambda: ga(objective_function=objective_functions.F5,\n",
    "               nvar=2, a=-65.536, b=65.536, bits_num=32,\n",
    "               mu=mu,\n",
    "               crossover_function=crossover_function,\n",
    "               selection_function=selection_function,\n",
    "               children_count=children_count,\n",
    "               replace_worst=True,\n",
    "               prob_crossover=1, prob_mutation=prob_mutation,\n",
    "               generations_count=500,\n",
    "               optimum_value=0.9980038388, precision=1e-8,\n",
    "               suppress_output=True, do_print=False)\n",
    "\n",
    "print(\"Without sharing:\")\n",
    "visualize.report_average_ga_progress(\n",
    "    ga_function_wo_sharing, T=T,\n",
    "    random_seed=random_seed,\n",
    "    print_iteration_number=print_iteration_number\n",
    ")\n",
    "\n",
    "ga_function_w_sharing =\\\n",
    "    lambda: ga(objective_function=objective_functions.F5,\n",
    "               nvar=2, a=-65.536, b=65.536, bits_num=32,\n",
    "               mu=mu,\n",
    "               crossover_function=crossover_function,\n",
    "               selection_function=selection_function,\n",
    "               children_count=children_count,\n",
    "               replace_worst=True,\n",
    "               prob_crossover=1, prob_mutation=prob_mutation,\n",
    "               generations_count=500,\n",
    "               optimum_value=0.9980038388, precision=1e-8,\n",
    "               suppress_output=True, do_print=False, do_derate=True)\n",
    "\n",
    "print(\"With sharing:\")\n",
    "visualize.report_average_ga_progress(\n",
    "    ga_function_w_sharing, T=T,\n",
    "    random_seed=random_seed,\n",
    "    print_iteration_number=print_iteration_number\n",
    ")"
   ]
  }
 ],
 "metadata": {
  "kernelspec": {
   "display_name": "Python 3",
   "language": "python",
   "name": "python3"
  },
  "language_info": {
   "codemirror_mode": {
    "name": "ipython",
    "version": 3
   },
   "file_extension": ".py",
   "mimetype": "text/x-python",
   "name": "python",
   "nbconvert_exporter": "python",
   "pygments_lexer": "ipython3",
   "version": "3.7.4"
  }
 },
 "nbformat": 4,
 "nbformat_minor": 1
}
