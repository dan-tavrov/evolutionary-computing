{
 "cells": [
  {
   "cell_type": "markdown",
   "metadata": {
    "collapsed": true,
    "pycharm": {
     "name": "#%% md\n"
    }
   },
   "source": [
    "# Simple Genetic Algorithm\n",
    "## 1. Basic parts\n",
    "\n",
    "First, we load necessary modules and set global parameter values."
   ]
  },
  {
   "cell_type": "code",
   "execution_count": 1,
   "metadata": {
    "pycharm": {
     "name": "#%%\n"
    }
   },
   "outputs": [],
   "source": [
    "# load modules\n",
    "import numpy as np\n",
    "import pandas as pd\n",
    "import matplotlib\n",
    "import matplotlib.pyplot as plt\n",
    "%matplotlib inline\n",
    "matplotlib.rcParams['text.usetex'] = True\n",
    "\n",
    "from ea_operators import phenotypes\n",
    "from ea_operators import initialize\n",
    "from ea_operators import fitness\n",
    "from ea_operators import crossover\n",
    "from ea_operators import mutation\n",
    "from ea_operators import selection\n",
    "from ea_utilities import objective_functions\n",
    "from ea_utilities import visualize\n",
    "\n",
    "from ea_algorithms.simple_ga import simple_ga"
   ]
  },
  {
   "cell_type": "markdown",
   "metadata": {
    "pycharm": {
     "name": "#%% md\n"
    }
   },
   "source": [
    "We initialize the first-generation population with random binary numbers and print it out.\n",
    "Each row in the resulting matrix corresponds to one individual in the population.\n",
    "Each individual encodes a corresponding integer: e.g., 01001 corresponds to\n",
    "$0\\cdot 2^4 + 1\\cdot 2^3 + 0\\cdot 2^2 + 0\\cdot 2^1 + 1\\cdot 2^0 = 9$."
   ]
  },
  {
   "cell_type": "code",
   "execution_count": 2,
   "metadata": {
    "pycharm": {
     "name": "#%%\n"
    }
   },
   "outputs": [
    {
     "name": "stdout",
     "output_type": "stream",
     "text": [
      "[[1. 0. 0. 1. 1. 0. 1. 1. 0. 0.]\n",
      " [0. 1. 0. 0. 0. 1. 0. 0. 1. 1.]\n",
      " [1. 1. 1. 1. 1. 0. 0. 0. 0. 1.]\n",
      " [0. 0. 0. 0. 0. 0. 0. 1. 1. 1.]\n",
      " [1. 0. 0. 0. 1. 0. 0. 1. 1. 1.]\n",
      " [0. 1. 1. 1. 0. 0. 0. 1. 1. 1.]\n",
      " [1. 1. 1. 1. 1. 0. 1. 0. 0. 1.]\n",
      " [0. 1. 1. 1. 0. 1. 1. 0. 0. 1.]\n",
      " [0. 1. 1. 0. 1. 1. 0. 0. 0. 0.]\n",
      " [1. 1. 0. 1. 1. 1. 0. 0. 0. 0.]\n",
      " [1. 1. 0. 0. 0. 1. 1. 1. 1. 0.]\n",
      " [0. 0. 0. 1. 0. 1. 1. 1. 0. 1.]\n",
      " [1. 0. 0. 1. 1. 1. 0. 1. 1. 0.]\n",
      " [1. 0. 1. 1. 1. 0. 0. 0. 0. 1.]\n",
      " [0. 0. 1. 1. 0. 1. 1. 0. 1. 1.]\n",
      " [0. 1. 0. 0. 1. 0. 1. 1. 1. 0.]\n",
      " [0. 1. 1. 0. 1. 1. 0. 1. 1. 1.]\n",
      " [1. 0. 1. 1. 1. 0. 0. 0. 0. 0.]\n",
      " [1. 0. 0. 1. 0. 1. 0. 1. 1. 1.]\n",
      " [0. 1. 0. 1. 0. 1. 0. 1. 0. 0.]]\n"
     ]
    }
   ],
   "source": [
    "# set random seed for reproducibility\n",
    "np.random.seed(123)\n",
    "\n",
    "# initializing the population\n",
    "mu = 20  # population size\n",
    "chromosome_length = 10  # magnitude of individuals\n",
    "population = initialize.initialize_simple_ga(mu, chromosome_length)\n",
    "\n",
    "# power to raise individuals to in the objective function\n",
    "n = 2\n",
    "\n",
    "# fitness function\n",
    "fitness_function = lambda x: \\\n",
    "    objective_functions.simple_objective_function(\n",
    "        x, n, 2**chromosome_length - 1\n",
    "    )\n",
    "\n",
    "print(population)"
   ]
  },
  {
   "cell_type": "markdown",
   "metadata": {
    "pycharm": {
     "name": "#%% md\n"
    }
   },
   "source": [
    "Also we can visualize the population, with each dot representing a given individual\n",
    "($x$ coordinate) and its corresponding fitness ($y$ coordinate).\n",
    "In this notebook, we consider a very simple task of maximizing the function\n",
    "$f(u) = u^n$, where $u$ is the phenotype encoded by a given individual in the population, $n \\in \\mathbb{N}$.\n",
    "\n",
    "Clearly, the correct solution to this problem, for any $n > 0$, is $u = 1$,\n",
    "meaning that the algorithm should be able to evolutionarily obtain a string of all 1's."
   ]
  },
  {
   "cell_type": "code",
   "execution_count": 3,
   "metadata": {
    "pycharm": {
     "name": "#%%\n"
    }
   },
   "outputs": [
    {
     "name": "stdout",
     "output_type": "stream",
     "text": [
      "Individuals:\n",
      "[ 620.  275.  993.    7.  551.  455. 1001.  473.  432.  880.  798.   93.\n",
      "  630.  737.  219.  302.  439.  736.  599.  340.]\n",
      "Their fitness values:\n",
      "[3.67309458e-01 7.22626893e-02 9.42208959e-01 4.68214450e-05\n",
      " 2.90102807e-01 1.97820605e-01 9.57451729e-01 2.13781940e-01\n",
      " 1.78326640e-01 7.39969939e-01 6.08491499e-01 8.26446281e-03\n",
      " 3.79253704e-01 5.19019540e-01 4.58286392e-02 8.71490422e-02\n",
      " 1.84152565e-01 5.17612030e-01 3.42848598e-01 1.10460389e-01]\n"
     ]
    },
    {
     "data": {
      "text/plain": "<Figure size 432x288 with 1 Axes>",
      "image/png": "[encoded data removed]"
     },
     "metadata": {},
     "output_type": "display_data"
    },
    {
     "data": {
      "text/plain": "(<Figure size 432x288 with 1 Axes>,\n <matplotlib.axes._subplots.AxesSubplot at 0x29064cdab08>,\n <matplotlib.collections.PathCollection at 0x2906506b9c8>)"
     },
     "execution_count": 3,
     "metadata": {},
     "output_type": "execute_result"
    },
    {
     "data": {
      "text/plain": "<Figure size 432x288 with 1 Axes>",
      "image/png": "[encoded data removed]"
     },
     "metadata": {
      "needs_background": "light"
     },
     "output_type": "display_data"
    }
   ],
   "source": [
    "individuals = phenotypes.phenotype_simple_ga(population)\n",
    "print(\"Individuals:\")\n",
    "print(individuals)\n",
    "\n",
    "# the same can be achieved just by calling a fitness calculation function\n",
    "# because it will also return individual phenotypes in the process\n",
    "(individuals, fitnesses) = fitness.compute_fitness(\n",
    "    population, phenotypes.phenotype_simple_ga,\n",
    "    fitness_function\n",
    ")\n",
    "\n",
    "print(\"Their fitness values:\")\n",
    "print(fitnesses)\n",
    "\n",
    "# let's draw\n",
    "visualize.draw_population(individuals, fitnesses, 1,\n",
    "                          fitness_function, 0, 2**chromosome_length - 1)"
   ]
  },
  {
   "cell_type": "markdown",
   "metadata": {
    "pycharm": {
     "name": "#%% md\n"
    }
   },
   "source": [
    "Now we can explore how simple GA one-point crossover works.\n",
    "Recall that the idea is to generate a random crossover point and exchange\n",
    "the tails of the two parental chromosomes after that point.\n",
    "In principle, crossover can be applied to each parental pair probabilistically,\n",
    "meaning that it doesn't have to happen for certain.\n",
    "\n",
    "For illustration purposes, we will use the first two individuals to cross over."
   ]
  },
  {
   "cell_type": "code",
   "execution_count": 5,
   "metadata": {
    "pycharm": {
     "name": "#%%\n"
    }
   },
   "outputs": [
    {
     "name": "stdout",
     "output_type": "stream",
     "text": [
      "Crossover occured at position [0]\n",
      "Parents:\n",
      "[1. 0. 0. 1. 1. 0. 1. 1. 0. 0.]\n",
      "[0. 1. 0. 0. 0. 1. 0. 0. 1. 1.]\n",
      "Children:\n",
      "[[1. 1. 0. 0. 0. 1. 0. 0. 1. 1.]]\n",
      "[[0. 0. 0. 1. 1. 0. 1. 1. 0. 0.]]\n"
     ]
    }
   ],
   "source": [
    "child1, child2, crossover_point, crossover_indices =\\\n",
    "    crossover.crossover_one_point(\n",
    "        population[0,], population[1,],\n",
    "        prob_crossover=1, return_meta_data=True\n",
    "    )\n",
    "\n",
    "print(\"Crossover occured at position {}\".format(crossover_point))\n",
    "print(\"Parents:\")\n",
    "print(population[0,])\n",
    "print(population[1,])\n",
    "print(\"Children:\")\n",
    "print(child1)\n",
    "print(child2)"
   ]
  },
  {
   "cell_type": "markdown",
   "metadata": {},
   "source": [
    "Now we can explore how simple GA bit-flip mutation works.\n",
    "Recall that the idea is to flip each bit from 0 to 1 and vice versa\n",
    "depending on the probability of mutation.\n",
    "\n",
    "For illustration purposes, we will use the first two individuals to mutate."
   ]
  },
  {
   "cell_type": "code",
   "execution_count": 6,
   "metadata": {
    "pycharm": {
     "name": "#%%\n"
    }
   },
   "outputs": [
    {
     "name": "stdout",
     "output_type": "stream",
     "text": [
      "Mutation occured at the following indices:\n",
      "[[0 8]\n",
      " [1 2]\n",
      " [1 8]]\n",
      "[[1. 0. 0. 1. 1. 0. 1. 1. 0. 0.]\n",
      " [0. 1. 0. 0. 0. 1. 0. 0. 1. 1.]]\n",
      "[[1. 0. 0. 1. 1. 0. 1. 1. 1. 0.]\n",
      " [0. 1. 1. 0. 0. 1. 0. 0. 0. 1.]]\n"
     ]
    }
   ],
   "source": [
    "children, mutation_indices = mutation.mutation_bit_flip(\n",
    "    population[0:2,],\n",
    "    prob_mutation=0.3,\n",
    "    return_meta_data=True\n",
    ")\n",
    "print(\n",
    "    \"Mutation occurred at the following indices:\"\n",
    ")\n",
    "print(np.transpose(mutation_indices))\n",
    "print(population[0:2, ])\n",
    "print(children)"
   ]
  },
  {
   "cell_type": "markdown",
   "metadata": {
    "pycharm": {
     "name": "#%% md\n"
    }
   },
   "source": [
    "Now that we've seen how recombination operators work, we need to discuss\n",
    "two selections that need to be done:\n",
    "* selection of parents to mate;\n",
    "* selection of survivors in the next generation.\n",
    "\n",
    "In the simple GA, the simplest parent selection mechanism is used, called\n",
    "*fitness proportionate selection*. Basically, each individual can be selected\n",
    "with probability proportional to its fitness. (Of course that means that\n",
    "fitness values should be nonnegative and be higher for better individuals.)\n",
    "\n",
    "In SGA, *generational* model of the population is used, where the offspring\n",
    "obtained after crossover and mutation replace the whole population."
   ]
  },
  {
   "cell_type": "code",
   "execution_count": 7,
   "metadata": {
    "pycharm": {
     "name": "#%%\n"
    }
   },
   "outputs": [
    {
     "name": "stdout",
     "output_type": "stream",
     "text": [
      "    Individuals  Fitnesses  Probability of Selection  Actual Selections\n",
      "1         620.0   0.367309                  0.054317                  1\n",
      "2         275.0   0.072263                  0.010686                  1\n",
      "3         993.0   0.942209                  0.139331                  2\n",
      "4           7.0   0.000047                  0.000007                  0\n",
      "5         551.0   0.290103                  0.042900                  1\n",
      "6         455.0   0.197821                  0.029253                  1\n",
      "7        1001.0   0.957452                  0.141585                  3\n",
      "8         473.0   0.213782                  0.031614                  0\n",
      "9         432.0   0.178327                  0.026370                  1\n",
      "10        880.0   0.739970                  0.109425                  2\n",
      "11        798.0   0.608491                  0.089982                  2\n",
      "12         93.0   0.008264                  0.001222                  0\n",
      "13        630.0   0.379254                  0.056083                  1\n",
      "14        737.0   0.519020                  0.076751                  2\n",
      "15        219.0   0.045829                  0.006777                  0\n",
      "16        302.0   0.087149                  0.012887                  0\n",
      "17        439.0   0.184153                  0.027232                  0\n",
      "18        736.0   0.517612                  0.076543                  2\n",
      "19        599.0   0.342849                  0.050700                  1\n",
      "20        340.0   0.110460                  0.016335                  0\n"
     ]
    }
   ],
   "source": [
    "# select the parents\n",
    "parent_indices = selection.selection_roulette_wheel(fitnesses)\n",
    "\n",
    "# compute theoretical probabilities of being selected\n",
    "# and actual counts\n",
    "data = {'Individuals': individuals,\n",
    "        'Fitnesses': fitnesses,\n",
    "        'Probability of Selection': fitnesses / np.sum(fitnesses),\n",
    "        'Actual Selections':\n",
    "            [np.sum(parent_indices == elem) for elem in range(mu)]}\n",
    "df = pd.DataFrame(data)\n",
    "\n",
    "# add the index starting from 1\n",
    "df.index = range(1, len(df) + 1)\n",
    "\n",
    "print(df)"
   ]
  },
  {
   "cell_type": "markdown",
   "metadata": {
    "pycharm": {
     "name": "#%% md\n"
    }
   },
   "source": [
    "## Maximizing $x^2$\n",
    "\n",
    "Now we can combine everything in one big algorithm to maximize\n",
    "the $f(x) = x^2$ function. Clearly, regardless of chromosome length,\n",
    "the optimal solution will always be a string of all 1's. Thus, the\n",
    "termination condition will be either when the global maximum is found,\n",
    "or when the predefined number of generations has elapsed."
   ]
  },
  {
   "cell_type": "code",
   "execution_count": 8,
   "metadata": {
    "pycharm": {
     "name": "#%%\n"
    }
   },
   "outputs": [
    {
     "name": "stdout",
     "output_type": "stream",
     "text": [
      "GENERATION 1\n",
      "Time elapsed: 0.0 minutes(s) and 0.0 second(s).\n",
      "Average fitness value --- 0.338\n",
      "Best fitness value --- 0.957\n",
      "Worst fitness value --- 0.000\n",
      "---------------\n",
      "GENERATION 2\n",
      "Time elapsed: 0.0 minutes(s) and 0.0009992122650146484 second(s).\n",
      "Average fitness value --- 0.599\n",
      "Best fitness value --- 0.957\n",
      "Worst fitness value --- 0.119\n",
      "---------------\n",
      "GENERATION 3\n",
      "Time elapsed: 0.0 minutes(s) and 0.029998302459716797 second(s).\n",
      "Average fitness value --- 0.671\n",
      "Best fitness value --- 0.982\n",
      "Worst fitness value --- 0.364\n",
      "---------------\n",
      "GENERATION 4\n",
      "Time elapsed: 0.0 minutes(s) and 0.032000064849853516 second(s).\n",
      "Average fitness value --- 0.744\n",
      "Best fitness value --- 0.982\n",
      "Worst fitness value --- 0.367\n",
      "---------------\n",
      "GENERATION 5\n",
      "Time elapsed: 0.0 minutes(s) and 0.03500247001647949 second(s).\n",
      "Average fitness value --- 0.771\n",
      "Best fitness value --- 0.973\n",
      "Worst fitness value --- 0.359\n",
      "---------------\n",
      "GENERATION 6\n",
      "Time elapsed: 0.0 minutes(s) and 0.03699851036071777 second(s).\n",
      "Average fitness value --- 0.803\n",
      "Best fitness value --- 0.977\n",
      "Worst fitness value --- 0.363\n",
      "---------------\n",
      "GENERATION 7\n",
      "Time elapsed: 0.0 minutes(s) and 0.0380403995513916 second(s).\n",
      "Average fitness value --- 0.807\n",
      "Best fitness value --- 0.981\n",
      "Worst fitness value --- 0.447\n",
      "---------------\n",
      "GENERATION 8\n",
      "Time elapsed: 0.0 minutes(s) and 0.03904581069946289 second(s).\n",
      "Average fitness value --- 0.820\n",
      "Best fitness value --- 0.981\n",
      "Worst fitness value --- 0.439\n",
      "---------------\n",
      "GENERATION 9\n",
      "Time elapsed: 0.0 minutes(s) and 0.041043758392333984 second(s).\n",
      "Average fitness value --- 0.820\n",
      "Best fitness value --- 0.981\n",
      "Worst fitness value --- 0.442\n",
      "---------------\n",
      "GENERATION 10\n",
      "Time elapsed: 0.0 minutes(s) and 0.042043447494506836 second(s).\n",
      "Average fitness value --- 0.846\n",
      "Best fitness value --- 0.996\n",
      "Worst fitness value --- 0.448\n",
      "---------------\n",
      "GENERATION 11\n",
      "Time elapsed: 0.0 minutes(s) and 0.04304099082946777 second(s).\n",
      "Average fitness value --- 0.846\n",
      "Best fitness value --- 0.994\n",
      "Worst fitness value --- 0.448\n",
      "---------------\n",
      "GENERATION 12\n",
      "Time elapsed: 0.0 minutes(s) and 0.04404115676879883 second(s).\n",
      "Average fitness value --- 0.881\n",
      "Best fitness value --- 0.975\n",
      "Worst fitness value --- 0.446\n",
      "---------------\n",
      "GENERATION 13\n",
      "Time elapsed: 0.0 minutes(s) and 0.04404115676879883 second(s).\n",
      "Average fitness value --- 0.881\n",
      "Best fitness value --- 0.975\n",
      "Worst fitness value --- 0.444\n",
      "---------------\n",
      "GENERATION 14\n",
      "Time elapsed: 0.0 minutes(s) and 0.04504513740539551 second(s).\n",
      "Average fitness value --- 0.906\n",
      "Best fitness value --- 0.975\n",
      "Worst fitness value --- 0.533\n",
      "---------------\n",
      "GENERATION 15\n",
      "Time elapsed: 0.0 minutes(s) and 0.04604005813598633 second(s).\n",
      "Average fitness value --- 0.915\n",
      "Best fitness value --- 0.977\n",
      "Worst fitness value --- 0.529\n",
      "---------------\n",
      "GENERATION 16\n",
      "Time elapsed: 0.0 minutes(s) and 0.04899954795837402 second(s).\n",
      "Average fitness value --- 0.915\n",
      "Best fitness value --- 0.977\n",
      "Worst fitness value --- 0.518\n",
      "---------------\n",
      "GENERATION 17\n",
      "Time elapsed: 0.0 minutes(s) and 0.05104351043701172 second(s).\n",
      "Average fitness value --- 0.944\n",
      "Best fitness value --- 0.981\n",
      "Worst fitness value --- 0.875\n",
      "---------------\n",
      "GENERATION 18\n",
      "Time elapsed: 0.0 minutes(s) and 0.05104351043701172 second(s).\n",
      "Average fitness value --- 0.944\n",
      "Best fitness value --- 0.996\n",
      "Worst fitness value --- 0.843\n",
      "---------------\n",
      "GENERATION 19\n",
      "Time elapsed: 0.0 minutes(s) and 0.05304288864135742 second(s).\n",
      "Average fitness value --- 0.944\n",
      "Best fitness value --- 0.996\n",
      "Worst fitness value --- 0.843\n",
      "---------------\n",
      "GENERATION 20\n",
      "Time elapsed: 0.0 minutes(s) and 0.054045677185058594 second(s).\n",
      "Average fitness value --- 0.944\n",
      "Best fitness value --- 0.996\n",
      "Worst fitness value --- 0.826\n",
      "---------------\n",
      "GENERATION 21\n",
      "Time elapsed: 0.0 minutes(s) and 0.054045677185058594 second(s).\n",
      "Average fitness value --- 0.951\n",
      "Best fitness value --- 0.996\n",
      "Worst fitness value --- 0.832\n",
      "---------------\n",
      "GENERATION 22\n",
      "Time elapsed: 0.0 minutes(s) and 0.0560460090637207 second(s).\n",
      "Average fitness value --- 0.951\n",
      "Best fitness value --- 0.990\n",
      "Worst fitness value --- 0.850\n",
      "---------------\n",
      "GENERATION 23\n",
      "Time elapsed: 0.0 minutes(s) and 0.0560460090637207 second(s).\n",
      "Average fitness value --- 0.951\n",
      "Best fitness value --- 0.992\n",
      "Worst fitness value --- 0.850\n",
      "---------------\n",
      "GENERATION 24\n",
      "Time elapsed: 0.0 minutes(s) and 0.05704522132873535 second(s).\n",
      "Average fitness value --- 0.951\n",
      "Best fitness value --- 0.992\n",
      "Worst fitness value --- 0.848\n",
      "---------------\n",
      "GENERATION 25\n",
      "Time elapsed: 0.0 minutes(s) and 0.05809950828552246 second(s).\n",
      "Average fitness value --- 0.954\n",
      "Best fitness value --- 0.994\n",
      "Worst fitness value --- 0.848\n",
      "---------------\n",
      "GENERATION 26\n",
      "Time elapsed: 0.0 minutes(s) and 0.05909895896911621 second(s).\n",
      "Average fitness value --- 0.954\n",
      "Best fitness value --- 0.994\n",
      "Worst fitness value --- 0.850\n",
      "---------------\n",
      "GENERATION 27\n",
      "Time elapsed: 0.0 minutes(s) and 0.06108593940734863 second(s).\n",
      "Average fitness value --- 0.954\n",
      "Best fitness value --- 0.994\n",
      "Worst fitness value --- 0.850\n",
      "---------------\n",
      "GENERATION 28\n",
      "Time elapsed: 0.0 minutes(s) and 0.06213116645812988 second(s).\n",
      "Average fitness value --- 0.954\n",
      "Best fitness value --- 0.994\n",
      "Worst fitness value --- 0.850\n",
      "---------------\n",
      "GENERATION 29\n",
      "Time elapsed: 0.0 minutes(s) and 0.06409001350402832 second(s).\n",
      "Average fitness value --- 0.961\n",
      "Best fitness value --- 0.996\n",
      "Worst fitness value --- 0.901\n",
      "---------------\n",
      "GENERATION 30\n",
      "Time elapsed: 0.0 minutes(s) and 0.06510043144226074 second(s).\n",
      "Average fitness value --- 0.961\n",
      "Best fitness value --- 0.996\n",
      "Worst fitness value --- 0.901\n",
      "---------------\n",
      "GENERATION 31\n",
      "Time elapsed: 0.0 minutes(s) and 0.06710672378540039 second(s).\n",
      "Average fitness value --- 0.961\n",
      "Best fitness value --- 0.992\n",
      "Worst fitness value --- 0.901\n",
      "---------------\n",
      "GENERATION 32\n",
      "Time elapsed: 0.0 minutes(s) and 0.06905150413513184 second(s).\n",
      "Average fitness value --- 0.961\n",
      "Best fitness value --- 0.992\n",
      "Worst fitness value --- 0.920\n",
      "---------------\n",
      "GENERATION 33\n",
      "Time elapsed: 0.0 minutes(s) and 0.07010102272033691 second(s).\n",
      "Average fitness value --- 0.965\n",
      "Best fitness value --- 0.992\n",
      "Worst fitness value --- 0.942\n",
      "---------------\n",
      "GENERATION 34\n",
      "Time elapsed: 0.0 minutes(s) and 0.07108497619628906 second(s).\n",
      "Average fitness value --- 0.954\n",
      "Best fitness value --- 0.992\n",
      "Worst fitness value --- 0.728\n",
      "---------------\n",
      "GENERATION 35\n",
      "Time elapsed: 0.0 minutes(s) and 0.07208681106567383 second(s).\n",
      "Average fitness value --- 0.954\n",
      "Best fitness value --- 0.992\n",
      "Worst fitness value --- 0.728\n",
      "---------------\n",
      "GENERATION 36\n",
      "Time elapsed: 0.0 minutes(s) and 0.07262778282165527 second(s).\n",
      "Average fitness value --- 0.954\n",
      "Best fitness value --- 0.990\n",
      "Worst fitness value --- 0.727\n",
      "---------------\n",
      "GENERATION 37\n",
      "Time elapsed: 0.0 minutes(s) and 0.073699951171875 second(s).\n",
      "Average fitness value --- 0.954\n",
      "Best fitness value --- 0.988\n",
      "Worst fitness value --- 0.725\n",
      "---------------\n",
      "GENERATION 38\n",
      "Time elapsed: 0.0 minutes(s) and 0.07467770576477051 second(s).\n",
      "Average fitness value --- 0.954\n",
      "Best fitness value --- 0.990\n",
      "Worst fitness value --- 0.725\n",
      "---------------\n",
      "GENERATION 39\n",
      "Time elapsed: 0.0 minutes(s) and 0.07667255401611328 second(s).\n",
      "Average fitness value --- 0.917\n",
      "Best fitness value --- 0.988\n",
      "Worst fitness value --- 0.230\n",
      "---------------\n",
      "GENERATION 40\n",
      "Time elapsed: 0.0 minutes(s) and 0.07767772674560547 second(s).\n",
      "Average fitness value --- 0.931\n",
      "Best fitness value --- 0.990\n",
      "Worst fitness value --- 0.228\n",
      "---------------\n",
      "GENERATION 41\n",
      "Time elapsed: 0.0 minutes(s) and 0.07866883277893066 second(s).\n",
      "Average fitness value --- 0.966\n",
      "Best fitness value --- 0.996\n",
      "Worst fitness value --- 0.931\n",
      "---------------\n",
      "GENERATION 42\n",
      "Time elapsed: 0.0 minutes(s) and 0.07966828346252441 second(s).\n",
      "Average fitness value --- 0.966\n",
      "Best fitness value --- 0.990\n",
      "Worst fitness value --- 0.929\n",
      "---------------\n",
      "GENERATION 43\n",
      "Time elapsed: 0.0 minutes(s) and 0.08066797256469727 second(s).\n",
      "Average fitness value --- 0.966\n",
      "Best fitness value --- 0.990\n",
      "Worst fitness value --- 0.929\n",
      "---------------\n",
      "GENERATION 44\n",
      "Time elapsed: 0.0 minutes(s) and 0.08166766166687012 second(s).\n",
      "Average fitness value --- 0.969\n",
      "Best fitness value --- 0.990\n",
      "Worst fitness value --- 0.925\n",
      "---------------\n",
      "GENERATION 45\n",
      "Time elapsed: 0.0 minutes(s) and 0.08268332481384277 second(s).\n",
      "Average fitness value --- 0.969\n",
      "Best fitness value --- 0.988\n",
      "Worst fitness value --- 0.927\n",
      "---------------\n",
      "GENERATION 46\n",
      "Time elapsed: 0.0 minutes(s) and 0.08366870880126953 second(s).\n",
      "Average fitness value --- 0.969\n",
      "Best fitness value --- 0.996\n",
      "Worst fitness value --- 0.927\n",
      "---------------\n",
      "GENERATION 47\n",
      "Time elapsed: 0.0 minutes(s) and 0.0847172737121582 second(s).\n",
      "Average fitness value --- 0.979\n",
      "Best fitness value --- 0.998\n",
      "Worst fitness value --- 0.950\n",
      "---------------\n",
      "GENERATION 48\n",
      "Time elapsed: 0.0 minutes(s) and 0.08666729927062988 second(s).\n",
      "Average fitness value --- 0.979\n",
      "Best fitness value --- 0.998\n",
      "Worst fitness value --- 0.950\n",
      "---------------\n",
      "GENERATION 49\n",
      "Time elapsed: 0.0 minutes(s) and 0.08763408660888672 second(s).\n",
      "Average fitness value --- 0.968\n",
      "Best fitness value --- 0.998\n",
      "Worst fitness value --- 0.755\n",
      "---------------\n",
      "GENERATION 50\n",
      "Time elapsed: 0.0 minutes(s) and 0.0886697769165039 second(s).\n",
      "Average fitness value --- 0.968\n",
      "Best fitness value --- 0.998\n",
      "Worst fitness value --- 0.753\n",
      "---------------\n",
      "GENERATION 51\n",
      "Time elapsed: 0.0 minutes(s) and 0.08966851234436035 second(s).\n",
      "Average fitness value --- 0.968\n",
      "Best fitness value --- 0.998\n",
      "Worst fitness value --- 0.742\n",
      "---------------\n",
      "GENERATION 52\n",
      "Time elapsed: 0.0 minutes(s) and 0.0906679630279541 second(s).\n",
      "Average fitness value --- 0.968\n",
      "Best fitness value --- 0.998\n",
      "Worst fitness value --- 0.764\n",
      "---------------\n",
      "GENERATION 53\n",
      "Time elapsed: 0.0 minutes(s) and 0.09171628952026367 second(s).\n",
      "Average fitness value --- 0.979\n",
      "Best fitness value --- 0.998\n",
      "Worst fitness value --- 0.950\n",
      "---------------\n",
      "GENERATION 54\n",
      "Time elapsed: 0.0 minutes(s) and 0.09267139434814453 second(s).\n",
      "Average fitness value --- 0.979\n",
      "Best fitness value --- 1.000\n",
      "Worst fitness value --- 0.948\n",
      "---------------\n",
      "Finished because the perfect solution has been found!\n",
      "The final generation was 54.\n"
     ]
    }
   ],
   "source": [
    "np.random.seed(123)\n",
    "population, individuals, fitnesses, generation_final, success =\\\n",
    "    simple_ga(mu=20, chromosome_length=10, n=2,\n",
    "          prob_crossover=1, prob_mutation=0.001,\n",
    "          generations_count=1000)"
   ]
  },
  {
   "cell_type": "markdown",
   "metadata": {
    "pycharm": {
     "name": "#%% md\n"
    }
   },
   "source": [
    "We can also decide to visualize either the current population, or\n",
    "some statistics about fitness values in each population, or both."
   ]
  },
  {
   "cell_type": "code",
   "execution_count": 2,
   "metadata": {
    "pycharm": {
     "name": "#%%\n"
    }
   },
   "outputs": [
    {
     "ename": "KeyboardInterrupt",
     "evalue": "",
     "output_type": "error",
     "traceback": [
      "\u001B[1;31m---------------------------------------------------------------------------\u001B[0m",
      "\u001B[1;31mKeyboardInterrupt\u001B[0m                         Traceback (most recent call last)",
      "\u001B[1;32m<ipython-input-2-7eea6abe57f0>\u001B[0m in \u001B[0;36m<module>\u001B[1;34m\u001B[0m\n\u001B[0;32m      4\u001B[0m           \u001B[0mprob_crossover\u001B[0m\u001B[1;33m=\u001B[0m\u001B[1;36m1\u001B[0m\u001B[1;33m,\u001B[0m \u001B[0mprob_mutation\u001B[0m\u001B[1;33m=\u001B[0m\u001B[1;36m0.001\u001B[0m\u001B[1;33m,\u001B[0m\u001B[1;33m\u001B[0m\u001B[1;33m\u001B[0m\u001B[0m\n\u001B[0;32m      5\u001B[0m           \u001B[0mgenerations_count\u001B[0m\u001B[1;33m=\u001B[0m\u001B[1;36m1000\u001B[0m\u001B[1;33m,\u001B[0m\u001B[1;33m\u001B[0m\u001B[1;33m\u001B[0m\u001B[0m\n\u001B[1;32m----> 6\u001B[1;33m           do_draw_population=True)\n\u001B[0m\u001B[0;32m      7\u001B[0m \u001B[1;33m\u001B[0m\u001B[0m\n",
      "\u001B[1;32m~\\Documents\\!Викладання в КПІ\\!!Спеціальні розділ м'яких обчислень\\ea_code\\evolutionary-computing\\evolutionary-computing\\code\\ea_algorithms\\simple_ga.py\u001B[0m in \u001B[0;36msimple_ga\u001B[1;34m(mu, chromosome_length, n, prob_crossover, prob_mutation, generations_count, do_draw_population, do_draw_stats, do_print, do_save, do_scale, suppress_output)\u001B[0m\n\u001B[0;32m     80\u001B[0m                     \u001B[0mindividuals\u001B[0m\u001B[1;33m,\u001B[0m \u001B[0mfitnesses\u001B[0m\u001B[1;33m,\u001B[0m \u001B[0mi\u001B[0m \u001B[1;33m+\u001B[0m \u001B[1;36m1\u001B[0m\u001B[1;33m,\u001B[0m\u001B[1;33m\u001B[0m\u001B[1;33m\u001B[0m\u001B[0m\n\u001B[0;32m     81\u001B[0m                     \u001B[0mobjective_function\u001B[0m\u001B[1;33m,\u001B[0m \u001B[1;36m0\u001B[0m\u001B[1;33m,\u001B[0m \u001B[1;36m2\u001B[0m\u001B[1;33m**\u001B[0m\u001B[0mchromosome_length\u001B[0m \u001B[1;33m-\u001B[0m \u001B[1;36m1\u001B[0m\u001B[1;33m,\u001B[0m\u001B[1;33m\u001B[0m\u001B[1;33m\u001B[0m\u001B[0m\n\u001B[1;32m---> 82\u001B[1;33m                     \u001B[0mpopulation_fig\u001B[0m\u001B[1;33m\u001B[0m\u001B[1;33m\u001B[0m\u001B[0m\n\u001B[0m\u001B[0;32m     83\u001B[0m                 )\n\u001B[0;32m     84\u001B[0m \u001B[1;33m\u001B[0m\u001B[0m\n",
      "\u001B[1;32m~\\Documents\\!Викладання в КПІ\\!!Спеціальні розділ м'яких обчислень\\ea_code\\evolutionary-computing\\evolutionary-computing\\code\\ea_utilities\\visualize.py\u001B[0m in \u001B[0;36mdraw_population\u001B[1;34m(individuals, fitnesses, generation, function, left, right, fig_handles)\u001B[0m\n\u001B[0;32m     41\u001B[0m     \u001B[0mtime\u001B[0m\u001B[1;33m.\u001B[0m\u001B[0msleep\u001B[0m\u001B[1;33m(\u001B[0m\u001B[1;36m0.1\u001B[0m\u001B[1;33m)\u001B[0m\u001B[1;33m\u001B[0m\u001B[1;33m\u001B[0m\u001B[0m\n\u001B[0;32m     42\u001B[0m \u001B[1;33m\u001B[0m\u001B[0m\n\u001B[1;32m---> 43\u001B[1;33m     \u001B[0mdisplay\u001B[0m\u001B[1;33m(\u001B[0m\u001B[0mfig\u001B[0m\u001B[1;33m)\u001B[0m\u001B[1;33m\u001B[0m\u001B[1;33m\u001B[0m\u001B[0m\n\u001B[0m\u001B[0;32m     44\u001B[0m \u001B[1;33m\u001B[0m\u001B[0m\n\u001B[0;32m     45\u001B[0m     \u001B[1;32mreturn\u001B[0m \u001B[0mfig\u001B[0m\u001B[1;33m,\u001B[0m \u001B[0max\u001B[0m\u001B[1;33m,\u001B[0m \u001B[0mscatter\u001B[0m\u001B[1;33m\u001B[0m\u001B[1;33m\u001B[0m\u001B[0m\n",
      "\u001B[1;32mC:\\ProgramData\\Anaconda3\\lib\\site-packages\\IPython\\core\\display.py\u001B[0m in \u001B[0;36mdisplay\u001B[1;34m(include, exclude, metadata, transient, display_id, *objs, **kwargs)\u001B[0m\n\u001B[0;32m    304\u001B[0m             \u001B[0mpublish_display_data\u001B[0m\u001B[1;33m(\u001B[0m\u001B[0mdata\u001B[0m\u001B[1;33m=\u001B[0m\u001B[0mobj\u001B[0m\u001B[1;33m,\u001B[0m \u001B[0mmetadata\u001B[0m\u001B[1;33m=\u001B[0m\u001B[0mmetadata\u001B[0m\u001B[1;33m,\u001B[0m \u001B[1;33m**\u001B[0m\u001B[0mkwargs\u001B[0m\u001B[1;33m)\u001B[0m\u001B[1;33m\u001B[0m\u001B[1;33m\u001B[0m\u001B[0m\n\u001B[0;32m    305\u001B[0m         \u001B[1;32melse\u001B[0m\u001B[1;33m:\u001B[0m\u001B[1;33m\u001B[0m\u001B[1;33m\u001B[0m\u001B[0m\n\u001B[1;32m--> 306\u001B[1;33m             \u001B[0mformat_dict\u001B[0m\u001B[1;33m,\u001B[0m \u001B[0mmd_dict\u001B[0m \u001B[1;33m=\u001B[0m \u001B[0mformat\u001B[0m\u001B[1;33m(\u001B[0m\u001B[0mobj\u001B[0m\u001B[1;33m,\u001B[0m \u001B[0minclude\u001B[0m\u001B[1;33m=\u001B[0m\u001B[0minclude\u001B[0m\u001B[1;33m,\u001B[0m \u001B[0mexclude\u001B[0m\u001B[1;33m=\u001B[0m\u001B[0mexclude\u001B[0m\u001B[1;33m)\u001B[0m\u001B[1;33m\u001B[0m\u001B[1;33m\u001B[0m\u001B[0m\n\u001B[0m\u001B[0;32m    307\u001B[0m             \u001B[1;32mif\u001B[0m \u001B[1;32mnot\u001B[0m \u001B[0mformat_dict\u001B[0m\u001B[1;33m:\u001B[0m\u001B[1;33m\u001B[0m\u001B[1;33m\u001B[0m\u001B[0m\n\u001B[0;32m    308\u001B[0m                 \u001B[1;31m# nothing to display (e.g. _ipython_display_ took over)\u001B[0m\u001B[1;33m\u001B[0m\u001B[1;33m\u001B[0m\u001B[1;33m\u001B[0m\u001B[0m\n",
      "\u001B[1;32mC:\\ProgramData\\Anaconda3\\lib\\site-packages\\IPython\\core\\formatters.py\u001B[0m in \u001B[0;36mformat\u001B[1;34m(self, obj, include, exclude)\u001B[0m\n\u001B[0;32m    178\u001B[0m             \u001B[0mmd\u001B[0m \u001B[1;33m=\u001B[0m \u001B[1;32mNone\u001B[0m\u001B[1;33m\u001B[0m\u001B[1;33m\u001B[0m\u001B[0m\n\u001B[0;32m    179\u001B[0m             \u001B[1;32mtry\u001B[0m\u001B[1;33m:\u001B[0m\u001B[1;33m\u001B[0m\u001B[1;33m\u001B[0m\u001B[0m\n\u001B[1;32m--> 180\u001B[1;33m                 \u001B[0mdata\u001B[0m \u001B[1;33m=\u001B[0m \u001B[0mformatter\u001B[0m\u001B[1;33m(\u001B[0m\u001B[0mobj\u001B[0m\u001B[1;33m)\u001B[0m\u001B[1;33m\u001B[0m\u001B[1;33m\u001B[0m\u001B[0m\n\u001B[0m\u001B[0;32m    181\u001B[0m             \u001B[1;32mexcept\u001B[0m\u001B[1;33m:\u001B[0m\u001B[1;33m\u001B[0m\u001B[1;33m\u001B[0m\u001B[0m\n\u001B[0;32m    182\u001B[0m                 \u001B[1;31m# FIXME: log the exception\u001B[0m\u001B[1;33m\u001B[0m\u001B[1;33m\u001B[0m\u001B[1;33m\u001B[0m\u001B[0m\n",
      "\u001B[1;32m<C:\\ProgramData\\Anaconda3\\lib\\site-packages\\decorator.py:decorator-gen-9>\u001B[0m in \u001B[0;36m__call__\u001B[1;34m(self, obj)\u001B[0m\n",
      "\u001B[1;32mC:\\ProgramData\\Anaconda3\\lib\\site-packages\\IPython\\core\\formatters.py\u001B[0m in \u001B[0;36mcatch_format_error\u001B[1;34m(method, self, *args, **kwargs)\u001B[0m\n\u001B[0;32m    222\u001B[0m     \u001B[1;34m\"\"\"show traceback on failed format call\"\"\"\u001B[0m\u001B[1;33m\u001B[0m\u001B[1;33m\u001B[0m\u001B[0m\n\u001B[0;32m    223\u001B[0m     \u001B[1;32mtry\u001B[0m\u001B[1;33m:\u001B[0m\u001B[1;33m\u001B[0m\u001B[1;33m\u001B[0m\u001B[0m\n\u001B[1;32m--> 224\u001B[1;33m         \u001B[0mr\u001B[0m \u001B[1;33m=\u001B[0m \u001B[0mmethod\u001B[0m\u001B[1;33m(\u001B[0m\u001B[0mself\u001B[0m\u001B[1;33m,\u001B[0m \u001B[1;33m*\u001B[0m\u001B[0margs\u001B[0m\u001B[1;33m,\u001B[0m \u001B[1;33m**\u001B[0m\u001B[0mkwargs\u001B[0m\u001B[1;33m)\u001B[0m\u001B[1;33m\u001B[0m\u001B[1;33m\u001B[0m\u001B[0m\n\u001B[0m\u001B[0;32m    225\u001B[0m     \u001B[1;32mexcept\u001B[0m \u001B[0mNotImplementedError\u001B[0m\u001B[1;33m:\u001B[0m\u001B[1;33m\u001B[0m\u001B[1;33m\u001B[0m\u001B[0m\n\u001B[0;32m    226\u001B[0m         \u001B[1;31m# don't warn on NotImplementedErrors\u001B[0m\u001B[1;33m\u001B[0m\u001B[1;33m\u001B[0m\u001B[1;33m\u001B[0m\u001B[0m\n",
      "\u001B[1;32mC:\\ProgramData\\Anaconda3\\lib\\site-packages\\IPython\\core\\formatters.py\u001B[0m in \u001B[0;36m__call__\u001B[1;34m(self, obj)\u001B[0m\n\u001B[0;32m    339\u001B[0m                 \u001B[1;32mpass\u001B[0m\u001B[1;33m\u001B[0m\u001B[1;33m\u001B[0m\u001B[0m\n\u001B[0;32m    340\u001B[0m             \u001B[1;32melse\u001B[0m\u001B[1;33m:\u001B[0m\u001B[1;33m\u001B[0m\u001B[1;33m\u001B[0m\u001B[0m\n\u001B[1;32m--> 341\u001B[1;33m                 \u001B[1;32mreturn\u001B[0m \u001B[0mprinter\u001B[0m\u001B[1;33m(\u001B[0m\u001B[0mobj\u001B[0m\u001B[1;33m)\u001B[0m\u001B[1;33m\u001B[0m\u001B[1;33m\u001B[0m\u001B[0m\n\u001B[0m\u001B[0;32m    342\u001B[0m             \u001B[1;31m# Finally look for special method names\u001B[0m\u001B[1;33m\u001B[0m\u001B[1;33m\u001B[0m\u001B[1;33m\u001B[0m\u001B[0m\n\u001B[0;32m    343\u001B[0m             \u001B[0mmethod\u001B[0m \u001B[1;33m=\u001B[0m \u001B[0mget_real_method\u001B[0m\u001B[1;33m(\u001B[0m\u001B[0mobj\u001B[0m\u001B[1;33m,\u001B[0m \u001B[0mself\u001B[0m\u001B[1;33m.\u001B[0m\u001B[0mprint_method\u001B[0m\u001B[1;33m)\u001B[0m\u001B[1;33m\u001B[0m\u001B[1;33m\u001B[0m\u001B[0m\n",
      "\u001B[1;32mC:\\ProgramData\\Anaconda3\\lib\\site-packages\\IPython\\core\\pylabtools.py\u001B[0m in \u001B[0;36m<lambda>\u001B[1;34m(fig)\u001B[0m\n\u001B[0;32m    242\u001B[0m \u001B[1;33m\u001B[0m\u001B[0m\n\u001B[0;32m    243\u001B[0m     \u001B[1;32mif\u001B[0m \u001B[1;34m'png'\u001B[0m \u001B[1;32min\u001B[0m \u001B[0mformats\u001B[0m\u001B[1;33m:\u001B[0m\u001B[1;33m\u001B[0m\u001B[1;33m\u001B[0m\u001B[0m\n\u001B[1;32m--> 244\u001B[1;33m         \u001B[0mpng_formatter\u001B[0m\u001B[1;33m.\u001B[0m\u001B[0mfor_type\u001B[0m\u001B[1;33m(\u001B[0m\u001B[0mFigure\u001B[0m\u001B[1;33m,\u001B[0m \u001B[1;32mlambda\u001B[0m \u001B[0mfig\u001B[0m\u001B[1;33m:\u001B[0m \u001B[0mprint_figure\u001B[0m\u001B[1;33m(\u001B[0m\u001B[0mfig\u001B[0m\u001B[1;33m,\u001B[0m \u001B[1;34m'png'\u001B[0m\u001B[1;33m,\u001B[0m \u001B[1;33m**\u001B[0m\u001B[0mkwargs\u001B[0m\u001B[1;33m)\u001B[0m\u001B[1;33m)\u001B[0m\u001B[1;33m\u001B[0m\u001B[1;33m\u001B[0m\u001B[0m\n\u001B[0m\u001B[0;32m    245\u001B[0m     \u001B[1;32mif\u001B[0m \u001B[1;34m'retina'\u001B[0m \u001B[1;32min\u001B[0m \u001B[0mformats\u001B[0m \u001B[1;32mor\u001B[0m \u001B[1;34m'png2x'\u001B[0m \u001B[1;32min\u001B[0m \u001B[0mformats\u001B[0m\u001B[1;33m:\u001B[0m\u001B[1;33m\u001B[0m\u001B[1;33m\u001B[0m\u001B[0m\n\u001B[0;32m    246\u001B[0m         \u001B[0mpng_formatter\u001B[0m\u001B[1;33m.\u001B[0m\u001B[0mfor_type\u001B[0m\u001B[1;33m(\u001B[0m\u001B[0mFigure\u001B[0m\u001B[1;33m,\u001B[0m \u001B[1;32mlambda\u001B[0m \u001B[0mfig\u001B[0m\u001B[1;33m:\u001B[0m \u001B[0mretina_figure\u001B[0m\u001B[1;33m(\u001B[0m\u001B[0mfig\u001B[0m\u001B[1;33m,\u001B[0m \u001B[1;33m**\u001B[0m\u001B[0mkwargs\u001B[0m\u001B[1;33m)\u001B[0m\u001B[1;33m)\u001B[0m\u001B[1;33m\u001B[0m\u001B[1;33m\u001B[0m\u001B[0m\n",
      "\u001B[1;32mC:\\ProgramData\\Anaconda3\\lib\\site-packages\\IPython\\core\\pylabtools.py\u001B[0m in \u001B[0;36mprint_figure\u001B[1;34m(fig, fmt, bbox_inches, **kwargs)\u001B[0m\n\u001B[0;32m    126\u001B[0m \u001B[1;33m\u001B[0m\u001B[0m\n\u001B[0;32m    127\u001B[0m     \u001B[0mbytes_io\u001B[0m \u001B[1;33m=\u001B[0m \u001B[0mBytesIO\u001B[0m\u001B[1;33m(\u001B[0m\u001B[1;33m)\u001B[0m\u001B[1;33m\u001B[0m\u001B[1;33m\u001B[0m\u001B[0m\n\u001B[1;32m--> 128\u001B[1;33m     \u001B[0mfig\u001B[0m\u001B[1;33m.\u001B[0m\u001B[0mcanvas\u001B[0m\u001B[1;33m.\u001B[0m\u001B[0mprint_figure\u001B[0m\u001B[1;33m(\u001B[0m\u001B[0mbytes_io\u001B[0m\u001B[1;33m,\u001B[0m \u001B[1;33m**\u001B[0m\u001B[0mkw\u001B[0m\u001B[1;33m)\u001B[0m\u001B[1;33m\u001B[0m\u001B[1;33m\u001B[0m\u001B[0m\n\u001B[0m\u001B[0;32m    129\u001B[0m     \u001B[0mdata\u001B[0m \u001B[1;33m=\u001B[0m \u001B[0mbytes_io\u001B[0m\u001B[1;33m.\u001B[0m\u001B[0mgetvalue\u001B[0m\u001B[1;33m(\u001B[0m\u001B[1;33m)\u001B[0m\u001B[1;33m\u001B[0m\u001B[1;33m\u001B[0m\u001B[0m\n\u001B[0;32m    130\u001B[0m     \u001B[1;32mif\u001B[0m \u001B[0mfmt\u001B[0m \u001B[1;33m==\u001B[0m \u001B[1;34m'svg'\u001B[0m\u001B[1;33m:\u001B[0m\u001B[1;33m\u001B[0m\u001B[1;33m\u001B[0m\u001B[0m\n",
      "\u001B[1;32mC:\\ProgramData\\Anaconda3\\lib\\site-packages\\matplotlib\\backend_bases.py\u001B[0m in \u001B[0;36mprint_figure\u001B[1;34m(self, filename, dpi, facecolor, edgecolor, orientation, format, bbox_inches, **kwargs)\u001B[0m\n\u001B[0;32m   2080\u001B[0m                     \u001B[0morientation\u001B[0m\u001B[1;33m=\u001B[0m\u001B[0morientation\u001B[0m\u001B[1;33m,\u001B[0m\u001B[1;33m\u001B[0m\u001B[1;33m\u001B[0m\u001B[0m\n\u001B[0;32m   2081\u001B[0m                     \u001B[0mbbox_inches_restore\u001B[0m\u001B[1;33m=\u001B[0m\u001B[0m_bbox_inches_restore\u001B[0m\u001B[1;33m,\u001B[0m\u001B[1;33m\u001B[0m\u001B[1;33m\u001B[0m\u001B[0m\n\u001B[1;32m-> 2082\u001B[1;33m                     **kwargs)\n\u001B[0m\u001B[0;32m   2083\u001B[0m             \u001B[1;32mfinally\u001B[0m\u001B[1;33m:\u001B[0m\u001B[1;33m\u001B[0m\u001B[1;33m\u001B[0m\u001B[0m\n\u001B[0;32m   2084\u001B[0m                 \u001B[1;32mif\u001B[0m \u001B[0mbbox_inches\u001B[0m \u001B[1;32mand\u001B[0m \u001B[0mrestore_bbox\u001B[0m\u001B[1;33m:\u001B[0m\u001B[1;33m\u001B[0m\u001B[1;33m\u001B[0m\u001B[0m\n",
      "\u001B[1;32mC:\\ProgramData\\Anaconda3\\lib\\site-packages\\matplotlib\\backends\\backend_agg.py\u001B[0m in \u001B[0;36mprint_png\u001B[1;34m(self, filename_or_obj, metadata, pil_kwargs, *args, **kwargs)\u001B[0m\n\u001B[0;32m    525\u001B[0m \u001B[1;33m\u001B[0m\u001B[0m\n\u001B[0;32m    526\u001B[0m         \u001B[1;32melse\u001B[0m\u001B[1;33m:\u001B[0m\u001B[1;33m\u001B[0m\u001B[1;33m\u001B[0m\u001B[0m\n\u001B[1;32m--> 527\u001B[1;33m             \u001B[0mFigureCanvasAgg\u001B[0m\u001B[1;33m.\u001B[0m\u001B[0mdraw\u001B[0m\u001B[1;33m(\u001B[0m\u001B[0mself\u001B[0m\u001B[1;33m)\u001B[0m\u001B[1;33m\u001B[0m\u001B[1;33m\u001B[0m\u001B[0m\n\u001B[0m\u001B[0;32m    528\u001B[0m             \u001B[0mrenderer\u001B[0m \u001B[1;33m=\u001B[0m \u001B[0mself\u001B[0m\u001B[1;33m.\u001B[0m\u001B[0mget_renderer\u001B[0m\u001B[1;33m(\u001B[0m\u001B[1;33m)\u001B[0m\u001B[1;33m\u001B[0m\u001B[1;33m\u001B[0m\u001B[0m\n\u001B[0;32m    529\u001B[0m             \u001B[1;32mwith\u001B[0m \u001B[0mcbook\u001B[0m\u001B[1;33m.\u001B[0m\u001B[0m_setattr_cm\u001B[0m\u001B[1;33m(\u001B[0m\u001B[0mrenderer\u001B[0m\u001B[1;33m,\u001B[0m \u001B[0mdpi\u001B[0m\u001B[1;33m=\u001B[0m\u001B[0mself\u001B[0m\u001B[1;33m.\u001B[0m\u001B[0mfigure\u001B[0m\u001B[1;33m.\u001B[0m\u001B[0mdpi\u001B[0m\u001B[1;33m)\u001B[0m\u001B[1;33m,\u001B[0m\u001B[0;31m \u001B[0m\u001B[0;31m\\\u001B[0m\u001B[1;33m\u001B[0m\u001B[1;33m\u001B[0m\u001B[0m\n",
      "\u001B[1;32mC:\\ProgramData\\Anaconda3\\lib\\site-packages\\matplotlib\\backends\\backend_agg.py\u001B[0m in \u001B[0;36mdraw\u001B[1;34m(self)\u001B[0m\n\u001B[0;32m    386\u001B[0m         \u001B[0mself\u001B[0m\u001B[1;33m.\u001B[0m\u001B[0mrenderer\u001B[0m \u001B[1;33m=\u001B[0m \u001B[0mself\u001B[0m\u001B[1;33m.\u001B[0m\u001B[0mget_renderer\u001B[0m\u001B[1;33m(\u001B[0m\u001B[0mcleared\u001B[0m\u001B[1;33m=\u001B[0m\u001B[1;32mTrue\u001B[0m\u001B[1;33m)\u001B[0m\u001B[1;33m\u001B[0m\u001B[1;33m\u001B[0m\u001B[0m\n\u001B[0;32m    387\u001B[0m         \u001B[1;32mwith\u001B[0m \u001B[0mRendererAgg\u001B[0m\u001B[1;33m.\u001B[0m\u001B[0mlock\u001B[0m\u001B[1;33m:\u001B[0m\u001B[1;33m\u001B[0m\u001B[1;33m\u001B[0m\u001B[0m\n\u001B[1;32m--> 388\u001B[1;33m             \u001B[0mself\u001B[0m\u001B[1;33m.\u001B[0m\u001B[0mfigure\u001B[0m\u001B[1;33m.\u001B[0m\u001B[0mdraw\u001B[0m\u001B[1;33m(\u001B[0m\u001B[0mself\u001B[0m\u001B[1;33m.\u001B[0m\u001B[0mrenderer\u001B[0m\u001B[1;33m)\u001B[0m\u001B[1;33m\u001B[0m\u001B[1;33m\u001B[0m\u001B[0m\n\u001B[0m\u001B[0;32m    389\u001B[0m             \u001B[1;31m# A GUI class may be need to update a window using this draw, so\u001B[0m\u001B[1;33m\u001B[0m\u001B[1;33m\u001B[0m\u001B[1;33m\u001B[0m\u001B[0m\n\u001B[0;32m    390\u001B[0m             \u001B[1;31m# don't forget to call the superclass.\u001B[0m\u001B[1;33m\u001B[0m\u001B[1;33m\u001B[0m\u001B[1;33m\u001B[0m\u001B[0m\n",
      "\u001B[1;32mC:\\ProgramData\\Anaconda3\\lib\\site-packages\\matplotlib\\artist.py\u001B[0m in \u001B[0;36mdraw_wrapper\u001B[1;34m(artist, renderer, *args, **kwargs)\u001B[0m\n\u001B[0;32m     36\u001B[0m                 \u001B[0mrenderer\u001B[0m\u001B[1;33m.\u001B[0m\u001B[0mstart_filter\u001B[0m\u001B[1;33m(\u001B[0m\u001B[1;33m)\u001B[0m\u001B[1;33m\u001B[0m\u001B[1;33m\u001B[0m\u001B[0m\n\u001B[0;32m     37\u001B[0m \u001B[1;33m\u001B[0m\u001B[0m\n\u001B[1;32m---> 38\u001B[1;33m             \u001B[1;32mreturn\u001B[0m \u001B[0mdraw\u001B[0m\u001B[1;33m(\u001B[0m\u001B[0martist\u001B[0m\u001B[1;33m,\u001B[0m \u001B[0mrenderer\u001B[0m\u001B[1;33m,\u001B[0m \u001B[1;33m*\u001B[0m\u001B[0margs\u001B[0m\u001B[1;33m,\u001B[0m \u001B[1;33m**\u001B[0m\u001B[0mkwargs\u001B[0m\u001B[1;33m)\u001B[0m\u001B[1;33m\u001B[0m\u001B[1;33m\u001B[0m\u001B[0m\n\u001B[0m\u001B[0;32m     39\u001B[0m         \u001B[1;32mfinally\u001B[0m\u001B[1;33m:\u001B[0m\u001B[1;33m\u001B[0m\u001B[1;33m\u001B[0m\u001B[0m\n\u001B[0;32m     40\u001B[0m             \u001B[1;32mif\u001B[0m \u001B[0martist\u001B[0m\u001B[1;33m.\u001B[0m\u001B[0mget_agg_filter\u001B[0m\u001B[1;33m(\u001B[0m\u001B[1;33m)\u001B[0m \u001B[1;32mis\u001B[0m \u001B[1;32mnot\u001B[0m \u001B[1;32mNone\u001B[0m\u001B[1;33m:\u001B[0m\u001B[1;33m\u001B[0m\u001B[1;33m\u001B[0m\u001B[0m\n",
      "\u001B[1;32mC:\\ProgramData\\Anaconda3\\lib\\site-packages\\matplotlib\\figure.py\u001B[0m in \u001B[0;36mdraw\u001B[1;34m(self, renderer)\u001B[0m\n\u001B[0;32m   1707\u001B[0m             \u001B[0mself\u001B[0m\u001B[1;33m.\u001B[0m\u001B[0mpatch\u001B[0m\u001B[1;33m.\u001B[0m\u001B[0mdraw\u001B[0m\u001B[1;33m(\u001B[0m\u001B[0mrenderer\u001B[0m\u001B[1;33m)\u001B[0m\u001B[1;33m\u001B[0m\u001B[1;33m\u001B[0m\u001B[0m\n\u001B[0;32m   1708\u001B[0m             mimage._draw_list_compositing_images(\n\u001B[1;32m-> 1709\u001B[1;33m                 renderer, self, artists, self.suppressComposite)\n\u001B[0m\u001B[0;32m   1710\u001B[0m \u001B[1;33m\u001B[0m\u001B[0m\n\u001B[0;32m   1711\u001B[0m             \u001B[0mrenderer\u001B[0m\u001B[1;33m.\u001B[0m\u001B[0mclose_group\u001B[0m\u001B[1;33m(\u001B[0m\u001B[1;34m'figure'\u001B[0m\u001B[1;33m)\u001B[0m\u001B[1;33m\u001B[0m\u001B[1;33m\u001B[0m\u001B[0m\n",
      "\u001B[1;32mC:\\ProgramData\\Anaconda3\\lib\\site-packages\\matplotlib\\image.py\u001B[0m in \u001B[0;36m_draw_list_compositing_images\u001B[1;34m(renderer, parent, artists, suppress_composite)\u001B[0m\n\u001B[0;32m    133\u001B[0m     \u001B[1;32mif\u001B[0m \u001B[0mnot_composite\u001B[0m \u001B[1;32mor\u001B[0m \u001B[1;32mnot\u001B[0m \u001B[0mhas_images\u001B[0m\u001B[1;33m:\u001B[0m\u001B[1;33m\u001B[0m\u001B[1;33m\u001B[0m\u001B[0m\n\u001B[0;32m    134\u001B[0m         \u001B[1;32mfor\u001B[0m \u001B[0ma\u001B[0m \u001B[1;32min\u001B[0m \u001B[0martists\u001B[0m\u001B[1;33m:\u001B[0m\u001B[1;33m\u001B[0m\u001B[1;33m\u001B[0m\u001B[0m\n\u001B[1;32m--> 135\u001B[1;33m             \u001B[0ma\u001B[0m\u001B[1;33m.\u001B[0m\u001B[0mdraw\u001B[0m\u001B[1;33m(\u001B[0m\u001B[0mrenderer\u001B[0m\u001B[1;33m)\u001B[0m\u001B[1;33m\u001B[0m\u001B[1;33m\u001B[0m\u001B[0m\n\u001B[0m\u001B[0;32m    136\u001B[0m     \u001B[1;32melse\u001B[0m\u001B[1;33m:\u001B[0m\u001B[1;33m\u001B[0m\u001B[1;33m\u001B[0m\u001B[0m\n\u001B[0;32m    137\u001B[0m         \u001B[1;31m# Composite any adjacent images together\u001B[0m\u001B[1;33m\u001B[0m\u001B[1;33m\u001B[0m\u001B[1;33m\u001B[0m\u001B[0m\n",
      "\u001B[1;32mC:\\ProgramData\\Anaconda3\\lib\\site-packages\\matplotlib\\artist.py\u001B[0m in \u001B[0;36mdraw_wrapper\u001B[1;34m(artist, renderer, *args, **kwargs)\u001B[0m\n\u001B[0;32m     36\u001B[0m                 \u001B[0mrenderer\u001B[0m\u001B[1;33m.\u001B[0m\u001B[0mstart_filter\u001B[0m\u001B[1;33m(\u001B[0m\u001B[1;33m)\u001B[0m\u001B[1;33m\u001B[0m\u001B[1;33m\u001B[0m\u001B[0m\n\u001B[0;32m     37\u001B[0m \u001B[1;33m\u001B[0m\u001B[0m\n\u001B[1;32m---> 38\u001B[1;33m             \u001B[1;32mreturn\u001B[0m \u001B[0mdraw\u001B[0m\u001B[1;33m(\u001B[0m\u001B[0martist\u001B[0m\u001B[1;33m,\u001B[0m \u001B[0mrenderer\u001B[0m\u001B[1;33m,\u001B[0m \u001B[1;33m*\u001B[0m\u001B[0margs\u001B[0m\u001B[1;33m,\u001B[0m \u001B[1;33m**\u001B[0m\u001B[0mkwargs\u001B[0m\u001B[1;33m)\u001B[0m\u001B[1;33m\u001B[0m\u001B[1;33m\u001B[0m\u001B[0m\n\u001B[0m\u001B[0;32m     39\u001B[0m         \u001B[1;32mfinally\u001B[0m\u001B[1;33m:\u001B[0m\u001B[1;33m\u001B[0m\u001B[1;33m\u001B[0m\u001B[0m\n\u001B[0;32m     40\u001B[0m             \u001B[1;32mif\u001B[0m \u001B[0martist\u001B[0m\u001B[1;33m.\u001B[0m\u001B[0mget_agg_filter\u001B[0m\u001B[1;33m(\u001B[0m\u001B[1;33m)\u001B[0m \u001B[1;32mis\u001B[0m \u001B[1;32mnot\u001B[0m \u001B[1;32mNone\u001B[0m\u001B[1;33m:\u001B[0m\u001B[1;33m\u001B[0m\u001B[1;33m\u001B[0m\u001B[0m\n",
      "\u001B[1;32mC:\\ProgramData\\Anaconda3\\lib\\site-packages\\matplotlib\\axes\\_base.py\u001B[0m in \u001B[0;36mdraw\u001B[1;34m(self, renderer, inframe)\u001B[0m\n\u001B[0;32m   2645\u001B[0m             \u001B[0mrenderer\u001B[0m\u001B[1;33m.\u001B[0m\u001B[0mstop_rasterizing\u001B[0m\u001B[1;33m(\u001B[0m\u001B[1;33m)\u001B[0m\u001B[1;33m\u001B[0m\u001B[1;33m\u001B[0m\u001B[0m\n\u001B[0;32m   2646\u001B[0m \u001B[1;33m\u001B[0m\u001B[0m\n\u001B[1;32m-> 2647\u001B[1;33m         \u001B[0mmimage\u001B[0m\u001B[1;33m.\u001B[0m\u001B[0m_draw_list_compositing_images\u001B[0m\u001B[1;33m(\u001B[0m\u001B[0mrenderer\u001B[0m\u001B[1;33m,\u001B[0m \u001B[0mself\u001B[0m\u001B[1;33m,\u001B[0m \u001B[0martists\u001B[0m\u001B[1;33m)\u001B[0m\u001B[1;33m\u001B[0m\u001B[1;33m\u001B[0m\u001B[0m\n\u001B[0m\u001B[0;32m   2648\u001B[0m \u001B[1;33m\u001B[0m\u001B[0m\n\u001B[0;32m   2649\u001B[0m         \u001B[0mrenderer\u001B[0m\u001B[1;33m.\u001B[0m\u001B[0mclose_group\u001B[0m\u001B[1;33m(\u001B[0m\u001B[1;34m'axes'\u001B[0m\u001B[1;33m)\u001B[0m\u001B[1;33m\u001B[0m\u001B[1;33m\u001B[0m\u001B[0m\n",
      "\u001B[1;32mC:\\ProgramData\\Anaconda3\\lib\\site-packages\\matplotlib\\image.py\u001B[0m in \u001B[0;36m_draw_list_compositing_images\u001B[1;34m(renderer, parent, artists, suppress_composite)\u001B[0m\n\u001B[0;32m    133\u001B[0m     \u001B[1;32mif\u001B[0m \u001B[0mnot_composite\u001B[0m \u001B[1;32mor\u001B[0m \u001B[1;32mnot\u001B[0m \u001B[0mhas_images\u001B[0m\u001B[1;33m:\u001B[0m\u001B[1;33m\u001B[0m\u001B[1;33m\u001B[0m\u001B[0m\n\u001B[0;32m    134\u001B[0m         \u001B[1;32mfor\u001B[0m \u001B[0ma\u001B[0m \u001B[1;32min\u001B[0m \u001B[0martists\u001B[0m\u001B[1;33m:\u001B[0m\u001B[1;33m\u001B[0m\u001B[1;33m\u001B[0m\u001B[0m\n\u001B[1;32m--> 135\u001B[1;33m             \u001B[0ma\u001B[0m\u001B[1;33m.\u001B[0m\u001B[0mdraw\u001B[0m\u001B[1;33m(\u001B[0m\u001B[0mrenderer\u001B[0m\u001B[1;33m)\u001B[0m\u001B[1;33m\u001B[0m\u001B[1;33m\u001B[0m\u001B[0m\n\u001B[0m\u001B[0;32m    136\u001B[0m     \u001B[1;32melse\u001B[0m\u001B[1;33m:\u001B[0m\u001B[1;33m\u001B[0m\u001B[1;33m\u001B[0m\u001B[0m\n\u001B[0;32m    137\u001B[0m         \u001B[1;31m# Composite any adjacent images together\u001B[0m\u001B[1;33m\u001B[0m\u001B[1;33m\u001B[0m\u001B[1;33m\u001B[0m\u001B[0m\n",
      "\u001B[1;32mC:\\ProgramData\\Anaconda3\\lib\\site-packages\\matplotlib\\artist.py\u001B[0m in \u001B[0;36mdraw_wrapper\u001B[1;34m(artist, renderer, *args, **kwargs)\u001B[0m\n\u001B[0;32m     36\u001B[0m                 \u001B[0mrenderer\u001B[0m\u001B[1;33m.\u001B[0m\u001B[0mstart_filter\u001B[0m\u001B[1;33m(\u001B[0m\u001B[1;33m)\u001B[0m\u001B[1;33m\u001B[0m\u001B[1;33m\u001B[0m\u001B[0m\n\u001B[0;32m     37\u001B[0m \u001B[1;33m\u001B[0m\u001B[0m\n\u001B[1;32m---> 38\u001B[1;33m             \u001B[1;32mreturn\u001B[0m \u001B[0mdraw\u001B[0m\u001B[1;33m(\u001B[0m\u001B[0martist\u001B[0m\u001B[1;33m,\u001B[0m \u001B[0mrenderer\u001B[0m\u001B[1;33m,\u001B[0m \u001B[1;33m*\u001B[0m\u001B[0margs\u001B[0m\u001B[1;33m,\u001B[0m \u001B[1;33m**\u001B[0m\u001B[0mkwargs\u001B[0m\u001B[1;33m)\u001B[0m\u001B[1;33m\u001B[0m\u001B[1;33m\u001B[0m\u001B[0m\n\u001B[0m\u001B[0;32m     39\u001B[0m         \u001B[1;32mfinally\u001B[0m\u001B[1;33m:\u001B[0m\u001B[1;33m\u001B[0m\u001B[1;33m\u001B[0m\u001B[0m\n\u001B[0;32m     40\u001B[0m             \u001B[1;32mif\u001B[0m \u001B[0martist\u001B[0m\u001B[1;33m.\u001B[0m\u001B[0mget_agg_filter\u001B[0m\u001B[1;33m(\u001B[0m\u001B[1;33m)\u001B[0m \u001B[1;32mis\u001B[0m \u001B[1;32mnot\u001B[0m \u001B[1;32mNone\u001B[0m\u001B[1;33m:\u001B[0m\u001B[1;33m\u001B[0m\u001B[1;33m\u001B[0m\u001B[0m\n",
      "\u001B[1;32mC:\\ProgramData\\Anaconda3\\lib\\site-packages\\matplotlib\\text.py\u001B[0m in \u001B[0;36mdraw\u001B[1;34m(self, renderer)\u001B[0m\n\u001B[0;32m    712\u001B[0m                     textrenderer.draw_tex(gc, x, y, clean_line,\n\u001B[0;32m    713\u001B[0m                                           \u001B[0mtextobj\u001B[0m\u001B[1;33m.\u001B[0m\u001B[0m_fontproperties\u001B[0m\u001B[1;33m,\u001B[0m \u001B[0mangle\u001B[0m\u001B[1;33m,\u001B[0m\u001B[1;33m\u001B[0m\u001B[1;33m\u001B[0m\u001B[0m\n\u001B[1;32m--> 714\u001B[1;33m                                           mtext=mtext)\n\u001B[0m\u001B[0;32m    715\u001B[0m                 \u001B[1;32melse\u001B[0m\u001B[1;33m:\u001B[0m\u001B[1;33m\u001B[0m\u001B[1;33m\u001B[0m\u001B[0m\n\u001B[0;32m    716\u001B[0m                     textrenderer.draw_text(gc, x, y, clean_line,\n",
      "\u001B[1;32mC:\\ProgramData\\Anaconda3\\lib\\site-packages\\matplotlib\\backends\\backend_agg.py\u001B[0m in \u001B[0;36mdraw_tex\u001B[1;34m(self, gc, x, y, s, prop, angle, ismath, mtext)\u001B[0m\n\u001B[0;32m    227\u001B[0m         \u001B[0mZ\u001B[0m \u001B[1;33m=\u001B[0m \u001B[0mnp\u001B[0m\u001B[1;33m.\u001B[0m\u001B[0marray\u001B[0m\u001B[1;33m(\u001B[0m\u001B[0mZ\u001B[0m \u001B[1;33m*\u001B[0m \u001B[1;36m255.0\u001B[0m\u001B[1;33m,\u001B[0m \u001B[0mnp\u001B[0m\u001B[1;33m.\u001B[0m\u001B[0muint8\u001B[0m\u001B[1;33m)\u001B[0m\u001B[1;33m\u001B[0m\u001B[1;33m\u001B[0m\u001B[0m\n\u001B[0;32m    228\u001B[0m \u001B[1;33m\u001B[0m\u001B[0m\n\u001B[1;32m--> 229\u001B[1;33m         \u001B[0mw\u001B[0m\u001B[1;33m,\u001B[0m \u001B[0mh\u001B[0m\u001B[1;33m,\u001B[0m \u001B[0md\u001B[0m \u001B[1;33m=\u001B[0m \u001B[0mself\u001B[0m\u001B[1;33m.\u001B[0m\u001B[0mget_text_width_height_descent\u001B[0m\u001B[1;33m(\u001B[0m\u001B[0ms\u001B[0m\u001B[1;33m,\u001B[0m \u001B[0mprop\u001B[0m\u001B[1;33m,\u001B[0m \u001B[0mismath\u001B[0m\u001B[1;33m)\u001B[0m\u001B[1;33m\u001B[0m\u001B[1;33m\u001B[0m\u001B[0m\n\u001B[0m\u001B[0;32m    230\u001B[0m         \u001B[0mxd\u001B[0m \u001B[1;33m=\u001B[0m \u001B[0md\u001B[0m \u001B[1;33m*\u001B[0m \u001B[0msin\u001B[0m\u001B[1;33m(\u001B[0m\u001B[0mradians\u001B[0m\u001B[1;33m(\u001B[0m\u001B[0mangle\u001B[0m\u001B[1;33m)\u001B[0m\u001B[1;33m)\u001B[0m\u001B[1;33m\u001B[0m\u001B[1;33m\u001B[0m\u001B[0m\n\u001B[0;32m    231\u001B[0m         \u001B[0myd\u001B[0m \u001B[1;33m=\u001B[0m \u001B[0md\u001B[0m \u001B[1;33m*\u001B[0m \u001B[0mcos\u001B[0m\u001B[1;33m(\u001B[0m\u001B[0mradians\u001B[0m\u001B[1;33m(\u001B[0m\u001B[0mangle\u001B[0m\u001B[1;33m)\u001B[0m\u001B[1;33m)\u001B[0m\u001B[1;33m\u001B[0m\u001B[1;33m\u001B[0m\u001B[0m\n",
      "\u001B[1;32mC:\\ProgramData\\Anaconda3\\lib\\site-packages\\matplotlib\\backends\\backend_agg.py\u001B[0m in \u001B[0;36mget_text_width_height_descent\u001B[1;34m(self, s, prop, ismath)\u001B[0m\n\u001B[0;32m    199\u001B[0m             \u001B[0mfontsize\u001B[0m \u001B[1;33m=\u001B[0m \u001B[0mprop\u001B[0m\u001B[1;33m.\u001B[0m\u001B[0mget_size_in_points\u001B[0m\u001B[1;33m(\u001B[0m\u001B[1;33m)\u001B[0m\u001B[1;33m\u001B[0m\u001B[1;33m\u001B[0m\u001B[0m\n\u001B[0;32m    200\u001B[0m             w, h, d = texmanager.get_text_width_height_descent(\n\u001B[1;32m--> 201\u001B[1;33m                 s, fontsize, renderer=self)\n\u001B[0m\u001B[0;32m    202\u001B[0m             \u001B[1;32mreturn\u001B[0m \u001B[0mw\u001B[0m\u001B[1;33m,\u001B[0m \u001B[0mh\u001B[0m\u001B[1;33m,\u001B[0m \u001B[0md\u001B[0m\u001B[1;33m\u001B[0m\u001B[1;33m\u001B[0m\u001B[0m\n\u001B[0;32m    203\u001B[0m \u001B[1;33m\u001B[0m\u001B[0m\n",
      "\u001B[1;32mC:\\ProgramData\\Anaconda3\\lib\\site-packages\\matplotlib\\texmanager.py\u001B[0m in \u001B[0;36mget_text_width_height_descent\u001B[1;34m(self, tex, fontsize, renderer)\u001B[0m\n\u001B[0;32m    448\u001B[0m             \u001B[0mdvifile\u001B[0m \u001B[1;33m=\u001B[0m \u001B[0mself\u001B[0m\u001B[1;33m.\u001B[0m\u001B[0mmake_dvi\u001B[0m\u001B[1;33m(\u001B[0m\u001B[0mtex\u001B[0m\u001B[1;33m,\u001B[0m \u001B[0mfontsize\u001B[0m\u001B[1;33m)\u001B[0m\u001B[1;33m\u001B[0m\u001B[1;33m\u001B[0m\u001B[0m\n\u001B[0;32m    449\u001B[0m             \u001B[1;32mwith\u001B[0m \u001B[0mdviread\u001B[0m\u001B[1;33m.\u001B[0m\u001B[0mDvi\u001B[0m\u001B[1;33m(\u001B[0m\u001B[0mdvifile\u001B[0m\u001B[1;33m,\u001B[0m \u001B[1;36m72\u001B[0m \u001B[1;33m*\u001B[0m \u001B[0mdpi_fraction\u001B[0m\u001B[1;33m)\u001B[0m \u001B[1;32mas\u001B[0m \u001B[0mdvi\u001B[0m\u001B[1;33m:\u001B[0m\u001B[1;33m\u001B[0m\u001B[1;33m\u001B[0m\u001B[0m\n\u001B[1;32m--> 450\u001B[1;33m                 \u001B[0mpage\u001B[0m\u001B[1;33m,\u001B[0m \u001B[1;33m=\u001B[0m \u001B[0mdvi\u001B[0m\u001B[1;33m\u001B[0m\u001B[1;33m\u001B[0m\u001B[0m\n\u001B[0m\u001B[0;32m    451\u001B[0m             \u001B[1;31m# A total height (including the descent) needs to be returned.\u001B[0m\u001B[1;33m\u001B[0m\u001B[1;33m\u001B[0m\u001B[1;33m\u001B[0m\u001B[0m\n\u001B[0;32m    452\u001B[0m             \u001B[1;32mreturn\u001B[0m \u001B[0mpage\u001B[0m\u001B[1;33m.\u001B[0m\u001B[0mwidth\u001B[0m\u001B[1;33m,\u001B[0m \u001B[0mpage\u001B[0m\u001B[1;33m.\u001B[0m\u001B[0mheight\u001B[0m \u001B[1;33m+\u001B[0m \u001B[0mpage\u001B[0m\u001B[1;33m.\u001B[0m\u001B[0mdescent\u001B[0m\u001B[1;33m,\u001B[0m \u001B[0mpage\u001B[0m\u001B[1;33m.\u001B[0m\u001B[0mdescent\u001B[0m\u001B[1;33m\u001B[0m\u001B[1;33m\u001B[0m\u001B[0m\n",
      "\u001B[1;32mC:\\ProgramData\\Anaconda3\\lib\\site-packages\\matplotlib\\dviread.py\u001B[0m in \u001B[0;36m__iter__\u001B[1;34m(self)\u001B[0m\n\u001B[0;32m    241\u001B[0m             \u001B[0mintegers\u001B[0m\u001B[1;33m.\u001B[0m\u001B[1;33m\u001B[0m\u001B[1;33m\u001B[0m\u001B[0m\n\u001B[0;32m    242\u001B[0m         \"\"\"\n\u001B[1;32m--> 243\u001B[1;33m         \u001B[1;32mwhile\u001B[0m \u001B[0mself\u001B[0m\u001B[1;33m.\u001B[0m\u001B[0m_read\u001B[0m\u001B[1;33m(\u001B[0m\u001B[1;33m)\u001B[0m\u001B[1;33m:\u001B[0m\u001B[1;33m\u001B[0m\u001B[1;33m\u001B[0m\u001B[0m\n\u001B[0m\u001B[0;32m    244\u001B[0m             \u001B[1;32myield\u001B[0m \u001B[0mself\u001B[0m\u001B[1;33m.\u001B[0m\u001B[0m_output\u001B[0m\u001B[1;33m(\u001B[0m\u001B[1;33m)\u001B[0m\u001B[1;33m\u001B[0m\u001B[1;33m\u001B[0m\u001B[0m\n\u001B[0;32m    245\u001B[0m \u001B[1;33m\u001B[0m\u001B[0m\n",
      "\u001B[1;32mC:\\ProgramData\\Anaconda3\\lib\\site-packages\\matplotlib\\dviread.py\u001B[0m in \u001B[0;36m_read\u001B[1;34m(self)\u001B[0m\n\u001B[0;32m    303\u001B[0m                 \u001B[1;32mreturn\u001B[0m \u001B[1;32mTrue\u001B[0m\u001B[1;33m\u001B[0m\u001B[1;33m\u001B[0m\u001B[0m\n\u001B[0;32m    304\u001B[0m             \u001B[1;32mif\u001B[0m \u001B[0mself\u001B[0m\u001B[1;33m.\u001B[0m\u001B[0mstate\u001B[0m \u001B[1;32mis\u001B[0m \u001B[0m_dvistate\u001B[0m\u001B[1;33m.\u001B[0m\u001B[0mpost_post\u001B[0m\u001B[1;33m:\u001B[0m   \u001B[1;31m# end of file\u001B[0m\u001B[1;33m\u001B[0m\u001B[1;33m\u001B[0m\u001B[0m\n\u001B[1;32m--> 305\u001B[1;33m                 \u001B[0mself\u001B[0m\u001B[1;33m.\u001B[0m\u001B[0mclose\u001B[0m\u001B[1;33m(\u001B[0m\u001B[1;33m)\u001B[0m\u001B[1;33m\u001B[0m\u001B[1;33m\u001B[0m\u001B[0m\n\u001B[0m\u001B[0;32m    306\u001B[0m                 \u001B[1;32mreturn\u001B[0m \u001B[1;32mFalse\u001B[0m\u001B[1;33m\u001B[0m\u001B[1;33m\u001B[0m\u001B[0m\n\u001B[0;32m    307\u001B[0m \u001B[1;33m\u001B[0m\u001B[0m\n",
      "\u001B[1;32mC:\\ProgramData\\Anaconda3\\lib\\site-packages\\matplotlib\\dviread.py\u001B[0m in \u001B[0;36mclose\u001B[1;34m(self)\u001B[0m\n\u001B[0;32m    249\u001B[0m         \"\"\"\n\u001B[0;32m    250\u001B[0m         \u001B[1;32mif\u001B[0m \u001B[1;32mnot\u001B[0m \u001B[0mself\u001B[0m\u001B[1;33m.\u001B[0m\u001B[0mfile\u001B[0m\u001B[1;33m.\u001B[0m\u001B[0mclosed\u001B[0m\u001B[1;33m:\u001B[0m\u001B[1;33m\u001B[0m\u001B[1;33m\u001B[0m\u001B[0m\n\u001B[1;32m--> 251\u001B[1;33m             \u001B[0mself\u001B[0m\u001B[1;33m.\u001B[0m\u001B[0mfile\u001B[0m\u001B[1;33m.\u001B[0m\u001B[0mclose\u001B[0m\u001B[1;33m(\u001B[0m\u001B[1;33m)\u001B[0m\u001B[1;33m\u001B[0m\u001B[1;33m\u001B[0m\u001B[0m\n\u001B[0m\u001B[0;32m    252\u001B[0m \u001B[1;33m\u001B[0m\u001B[0m\n\u001B[0;32m    253\u001B[0m     \u001B[1;32mdef\u001B[0m \u001B[0m_output\u001B[0m\u001B[1;33m(\u001B[0m\u001B[0mself\u001B[0m\u001B[1;33m)\u001B[0m\u001B[1;33m:\u001B[0m\u001B[1;33m\u001B[0m\u001B[1;33m\u001B[0m\u001B[0m\n",
      "\u001B[1;31mKeyboardInterrupt\u001B[0m: "
     ]
    },
    {
     "data": {
      "text/plain": "<Figure size 432x288 with 1 Axes>",
      "image/png": "[encoded data removed]"
     },
     "metadata": {
      "needs_background": "light"
     },
     "output_type": "display_data"
    }
   ],
   "source": [
    "np.random.seed(123)\n",
    "population, individuals, fitnesses, generation_final, success =\\\n",
    "    simple_ga(mu=20, chromosome_length=10, n=2,\n",
    "          prob_crossover=1, prob_mutation=0.001,\n",
    "          generations_count=1000,\n",
    "          do_draw_population=True)"
   ]
  },
  {
   "cell_type": "code",
   "execution_count": 10,
   "metadata": {
    "pycharm": {
     "name": "#%%\n"
    }
   },
   "outputs": [
    {
     "name": "stdout",
     "output_type": "stream",
     "text": [
      "Finished because the perfect solution has been found!\n",
      "The final generation was 54.\n"
     ]
    },
    {
     "data": {
      "image/png": "[encoded data removed]",
      "text/plain": [
       "<Figure size 432x288 with 1 Axes>"
      ]
     },
     "metadata": {
      "needs_background": "light"
     },
     "output_type": "display_data"
    }
   ],
   "source": [
    "np.random.seed(123)\n",
    "population, individuals, fitnesses, generation_final, success =\\\n",
    "    simple_ga(mu=20, chromosome_length=10, n=2,\n",
    "          prob_crossover=1, prob_mutation=0.001,\n",
    "          generations_count=1000,\n",
    "          do_draw_stats=True)"
   ]
  },
  {
   "cell_type": "code",
   "execution_count": 2,
   "metadata": {
    "pycharm": {
     "name": "#%%\n"
    }
   },
   "outputs": [
    {
     "ename": "KeyboardInterrupt",
     "evalue": "",
     "output_type": "error",
     "traceback": [
      "\u001B[1;31m---------------------------------------------------------------------------\u001B[0m",
      "\u001B[1;31mKeyboardInterrupt\u001B[0m                         Traceback (most recent call last)",
      "\u001B[1;32m<ipython-input-2-2917905e03f3>\u001B[0m in \u001B[0;36m<module>\u001B[1;34m\u001B[0m\n\u001B[0;32m      5\u001B[0m           \u001B[0mgenerations_count\u001B[0m\u001B[1;33m=\u001B[0m\u001B[1;36m1000\u001B[0m\u001B[1;33m,\u001B[0m\u001B[1;33m\u001B[0m\u001B[1;33m\u001B[0m\u001B[0m\n\u001B[0;32m      6\u001B[0m           \u001B[0mdo_draw_population\u001B[0m\u001B[1;33m=\u001B[0m\u001B[1;32mTrue\u001B[0m\u001B[1;33m,\u001B[0m\u001B[1;33m\u001B[0m\u001B[1;33m\u001B[0m\u001B[0m\n\u001B[1;32m----> 7\u001B[1;33m           do_draw_stats=True)\n\u001B[0m\u001B[0;32m      8\u001B[0m \u001B[1;33m\u001B[0m\u001B[0m\n",
      "\u001B[1;32m~\\Documents\\!Викладання в КПІ\\!!Спеціальні розділ м'яких обчислень\\ea_code\\evolutionary-computing\\evolutionary-computing\\code\\ea_algorithms\\simple_ga.py\u001B[0m in \u001B[0;36msimple_ga\u001B[1;34m(mu, chromosome_length, n, prob_crossover, prob_mutation, generations_count, do_draw_population, do_draw_stats, do_print, do_save, do_scale, suppress_output)\u001B[0m\n\u001B[0;32m     72\u001B[0m                 \u001B[0mi\u001B[0m \u001B[1;33m+\u001B[0m \u001B[1;36m1\u001B[0m\u001B[1;33m,\u001B[0m \u001B[0mcurrent_best_fitness\u001B[0m\u001B[1;33m,\u001B[0m\u001B[1;33m\u001B[0m\u001B[1;33m\u001B[0m\u001B[0m\n\u001B[0;32m     73\u001B[0m                 \u001B[0mobjective_function\u001B[0m\u001B[1;33m,\u001B[0m \u001B[1;36m0\u001B[0m\u001B[1;33m,\u001B[0m \u001B[1;36m2\u001B[0m\u001B[1;33m**\u001B[0m\u001B[0mchromosome_length\u001B[0m \u001B[1;33m-\u001B[0m \u001B[1;36m1\u001B[0m\u001B[1;33m,\u001B[0m\u001B[1;33m\u001B[0m\u001B[1;33m\u001B[0m\u001B[0m\n\u001B[1;32m---> 74\u001B[1;33m                 \u001B[0mboth_figs\u001B[0m\u001B[1;33m\u001B[0m\u001B[1;33m\u001B[0m\u001B[0m\n\u001B[0m\u001B[0;32m     75\u001B[0m             )\n\u001B[0;32m     76\u001B[0m         \u001B[1;32melse\u001B[0m\u001B[1;33m:\u001B[0m\u001B[1;33m\u001B[0m\u001B[1;33m\u001B[0m\u001B[0m\n",
      "\u001B[1;32m~\\Documents\\!Викладання в КПІ\\!!Спеціальні розділ м'яких обчислень\\ea_code\\evolutionary-computing\\evolutionary-computing\\code\\ea_utilities\\visualize.py\u001B[0m in \u001B[0;36mdraw_population_and_fitness_stats\u001B[1;34m(individuals, fitnesses, fitness_bests, fitness_avgs, generation, current_max, function, left, right, fig_handles)\u001B[0m\n\u001B[0;32m    128\u001B[0m     \u001B[0mtime\u001B[0m\u001B[1;33m.\u001B[0m\u001B[0msleep\u001B[0m\u001B[1;33m(\u001B[0m\u001B[1;36m0.1\u001B[0m\u001B[1;33m)\u001B[0m\u001B[1;33m\u001B[0m\u001B[1;33m\u001B[0m\u001B[0m\n\u001B[0;32m    129\u001B[0m \u001B[1;33m\u001B[0m\u001B[0m\n\u001B[1;32m--> 130\u001B[1;33m     \u001B[0mdisplay\u001B[0m\u001B[1;33m(\u001B[0m\u001B[0mfig\u001B[0m\u001B[1;33m)\u001B[0m\u001B[1;33m\u001B[0m\u001B[1;33m\u001B[0m\u001B[0m\n\u001B[0m\u001B[0;32m    131\u001B[0m \u001B[1;33m\u001B[0m\u001B[0m\n\u001B[0;32m    132\u001B[0m     \u001B[1;32mreturn\u001B[0m \u001B[0mfig\u001B[0m\u001B[1;33m,\u001B[0m \u001B[1;33m(\u001B[0m\u001B[0max_pop\u001B[0m\u001B[1;33m,\u001B[0m \u001B[0max_stat\u001B[0m\u001B[1;33m)\u001B[0m\u001B[1;33m,\u001B[0m \u001B[0mscatter_pop\u001B[0m\u001B[1;33m,\u001B[0m \u001B[0mscatter_best\u001B[0m\u001B[1;33m,\u001B[0m \u001B[0mscatter_avg\u001B[0m\u001B[1;33m\u001B[0m\u001B[1;33m\u001B[0m\u001B[0m\n",
      "\u001B[1;32mC:\\ProgramData\\Anaconda3\\lib\\site-packages\\IPython\\core\\display.py\u001B[0m in \u001B[0;36mdisplay\u001B[1;34m(include, exclude, metadata, transient, display_id, *objs, **kwargs)\u001B[0m\n\u001B[0;32m    304\u001B[0m             \u001B[0mpublish_display_data\u001B[0m\u001B[1;33m(\u001B[0m\u001B[0mdata\u001B[0m\u001B[1;33m=\u001B[0m\u001B[0mobj\u001B[0m\u001B[1;33m,\u001B[0m \u001B[0mmetadata\u001B[0m\u001B[1;33m=\u001B[0m\u001B[0mmetadata\u001B[0m\u001B[1;33m,\u001B[0m \u001B[1;33m**\u001B[0m\u001B[0mkwargs\u001B[0m\u001B[1;33m)\u001B[0m\u001B[1;33m\u001B[0m\u001B[1;33m\u001B[0m\u001B[0m\n\u001B[0;32m    305\u001B[0m         \u001B[1;32melse\u001B[0m\u001B[1;33m:\u001B[0m\u001B[1;33m\u001B[0m\u001B[1;33m\u001B[0m\u001B[0m\n\u001B[1;32m--> 306\u001B[1;33m             \u001B[0mformat_dict\u001B[0m\u001B[1;33m,\u001B[0m \u001B[0mmd_dict\u001B[0m \u001B[1;33m=\u001B[0m \u001B[0mformat\u001B[0m\u001B[1;33m(\u001B[0m\u001B[0mobj\u001B[0m\u001B[1;33m,\u001B[0m \u001B[0minclude\u001B[0m\u001B[1;33m=\u001B[0m\u001B[0minclude\u001B[0m\u001B[1;33m,\u001B[0m \u001B[0mexclude\u001B[0m\u001B[1;33m=\u001B[0m\u001B[0mexclude\u001B[0m\u001B[1;33m)\u001B[0m\u001B[1;33m\u001B[0m\u001B[1;33m\u001B[0m\u001B[0m\n\u001B[0m\u001B[0;32m    307\u001B[0m             \u001B[1;32mif\u001B[0m \u001B[1;32mnot\u001B[0m \u001B[0mformat_dict\u001B[0m\u001B[1;33m:\u001B[0m\u001B[1;33m\u001B[0m\u001B[1;33m\u001B[0m\u001B[0m\n\u001B[0;32m    308\u001B[0m                 \u001B[1;31m# nothing to display (e.g. _ipython_display_ took over)\u001B[0m\u001B[1;33m\u001B[0m\u001B[1;33m\u001B[0m\u001B[1;33m\u001B[0m\u001B[0m\n",
      "\u001B[1;32mC:\\ProgramData\\Anaconda3\\lib\\site-packages\\IPython\\core\\formatters.py\u001B[0m in \u001B[0;36mformat\u001B[1;34m(self, obj, include, exclude)\u001B[0m\n\u001B[0;32m    178\u001B[0m             \u001B[0mmd\u001B[0m \u001B[1;33m=\u001B[0m \u001B[1;32mNone\u001B[0m\u001B[1;33m\u001B[0m\u001B[1;33m\u001B[0m\u001B[0m\n\u001B[0;32m    179\u001B[0m             \u001B[1;32mtry\u001B[0m\u001B[1;33m:\u001B[0m\u001B[1;33m\u001B[0m\u001B[1;33m\u001B[0m\u001B[0m\n\u001B[1;32m--> 180\u001B[1;33m                 \u001B[0mdata\u001B[0m \u001B[1;33m=\u001B[0m \u001B[0mformatter\u001B[0m\u001B[1;33m(\u001B[0m\u001B[0mobj\u001B[0m\u001B[1;33m)\u001B[0m\u001B[1;33m\u001B[0m\u001B[1;33m\u001B[0m\u001B[0m\n\u001B[0m\u001B[0;32m    181\u001B[0m             \u001B[1;32mexcept\u001B[0m\u001B[1;33m:\u001B[0m\u001B[1;33m\u001B[0m\u001B[1;33m\u001B[0m\u001B[0m\n\u001B[0;32m    182\u001B[0m                 \u001B[1;31m# FIXME: log the exception\u001B[0m\u001B[1;33m\u001B[0m\u001B[1;33m\u001B[0m\u001B[1;33m\u001B[0m\u001B[0m\n",
      "\u001B[1;32m<C:\\ProgramData\\Anaconda3\\lib\\site-packages\\decorator.py:decorator-gen-9>\u001B[0m in \u001B[0;36m__call__\u001B[1;34m(self, obj)\u001B[0m\n",
      "\u001B[1;32mC:\\ProgramData\\Anaconda3\\lib\\site-packages\\IPython\\core\\formatters.py\u001B[0m in \u001B[0;36mcatch_format_error\u001B[1;34m(method, self, *args, **kwargs)\u001B[0m\n\u001B[0;32m    222\u001B[0m     \u001B[1;34m\"\"\"show traceback on failed format call\"\"\"\u001B[0m\u001B[1;33m\u001B[0m\u001B[1;33m\u001B[0m\u001B[0m\n\u001B[0;32m    223\u001B[0m     \u001B[1;32mtry\u001B[0m\u001B[1;33m:\u001B[0m\u001B[1;33m\u001B[0m\u001B[1;33m\u001B[0m\u001B[0m\n\u001B[1;32m--> 224\u001B[1;33m         \u001B[0mr\u001B[0m \u001B[1;33m=\u001B[0m \u001B[0mmethod\u001B[0m\u001B[1;33m(\u001B[0m\u001B[0mself\u001B[0m\u001B[1;33m,\u001B[0m \u001B[1;33m*\u001B[0m\u001B[0margs\u001B[0m\u001B[1;33m,\u001B[0m \u001B[1;33m**\u001B[0m\u001B[0mkwargs\u001B[0m\u001B[1;33m)\u001B[0m\u001B[1;33m\u001B[0m\u001B[1;33m\u001B[0m\u001B[0m\n\u001B[0m\u001B[0;32m    225\u001B[0m     \u001B[1;32mexcept\u001B[0m \u001B[0mNotImplementedError\u001B[0m\u001B[1;33m:\u001B[0m\u001B[1;33m\u001B[0m\u001B[1;33m\u001B[0m\u001B[0m\n\u001B[0;32m    226\u001B[0m         \u001B[1;31m# don't warn on NotImplementedErrors\u001B[0m\u001B[1;33m\u001B[0m\u001B[1;33m\u001B[0m\u001B[1;33m\u001B[0m\u001B[0m\n",
      "\u001B[1;32mC:\\ProgramData\\Anaconda3\\lib\\site-packages\\IPython\\core\\formatters.py\u001B[0m in \u001B[0;36m__call__\u001B[1;34m(self, obj)\u001B[0m\n\u001B[0;32m    339\u001B[0m                 \u001B[1;32mpass\u001B[0m\u001B[1;33m\u001B[0m\u001B[1;33m\u001B[0m\u001B[0m\n\u001B[0;32m    340\u001B[0m             \u001B[1;32melse\u001B[0m\u001B[1;33m:\u001B[0m\u001B[1;33m\u001B[0m\u001B[1;33m\u001B[0m\u001B[0m\n\u001B[1;32m--> 341\u001B[1;33m                 \u001B[1;32mreturn\u001B[0m \u001B[0mprinter\u001B[0m\u001B[1;33m(\u001B[0m\u001B[0mobj\u001B[0m\u001B[1;33m)\u001B[0m\u001B[1;33m\u001B[0m\u001B[1;33m\u001B[0m\u001B[0m\n\u001B[0m\u001B[0;32m    342\u001B[0m             \u001B[1;31m# Finally look for special method names\u001B[0m\u001B[1;33m\u001B[0m\u001B[1;33m\u001B[0m\u001B[1;33m\u001B[0m\u001B[0m\n\u001B[0;32m    343\u001B[0m             \u001B[0mmethod\u001B[0m \u001B[1;33m=\u001B[0m \u001B[0mget_real_method\u001B[0m\u001B[1;33m(\u001B[0m\u001B[0mobj\u001B[0m\u001B[1;33m,\u001B[0m \u001B[0mself\u001B[0m\u001B[1;33m.\u001B[0m\u001B[0mprint_method\u001B[0m\u001B[1;33m)\u001B[0m\u001B[1;33m\u001B[0m\u001B[1;33m\u001B[0m\u001B[0m\n",
      "\u001B[1;32mC:\\ProgramData\\Anaconda3\\lib\\site-packages\\IPython\\core\\pylabtools.py\u001B[0m in \u001B[0;36m<lambda>\u001B[1;34m(fig)\u001B[0m\n\u001B[0;32m    242\u001B[0m \u001B[1;33m\u001B[0m\u001B[0m\n\u001B[0;32m    243\u001B[0m     \u001B[1;32mif\u001B[0m \u001B[1;34m'png'\u001B[0m \u001B[1;32min\u001B[0m \u001B[0mformats\u001B[0m\u001B[1;33m:\u001B[0m\u001B[1;33m\u001B[0m\u001B[1;33m\u001B[0m\u001B[0m\n\u001B[1;32m--> 244\u001B[1;33m         \u001B[0mpng_formatter\u001B[0m\u001B[1;33m.\u001B[0m\u001B[0mfor_type\u001B[0m\u001B[1;33m(\u001B[0m\u001B[0mFigure\u001B[0m\u001B[1;33m,\u001B[0m \u001B[1;32mlambda\u001B[0m \u001B[0mfig\u001B[0m\u001B[1;33m:\u001B[0m \u001B[0mprint_figure\u001B[0m\u001B[1;33m(\u001B[0m\u001B[0mfig\u001B[0m\u001B[1;33m,\u001B[0m \u001B[1;34m'png'\u001B[0m\u001B[1;33m,\u001B[0m \u001B[1;33m**\u001B[0m\u001B[0mkwargs\u001B[0m\u001B[1;33m)\u001B[0m\u001B[1;33m)\u001B[0m\u001B[1;33m\u001B[0m\u001B[1;33m\u001B[0m\u001B[0m\n\u001B[0m\u001B[0;32m    245\u001B[0m     \u001B[1;32mif\u001B[0m \u001B[1;34m'retina'\u001B[0m \u001B[1;32min\u001B[0m \u001B[0mformats\u001B[0m \u001B[1;32mor\u001B[0m \u001B[1;34m'png2x'\u001B[0m \u001B[1;32min\u001B[0m \u001B[0mformats\u001B[0m\u001B[1;33m:\u001B[0m\u001B[1;33m\u001B[0m\u001B[1;33m\u001B[0m\u001B[0m\n\u001B[0;32m    246\u001B[0m         \u001B[0mpng_formatter\u001B[0m\u001B[1;33m.\u001B[0m\u001B[0mfor_type\u001B[0m\u001B[1;33m(\u001B[0m\u001B[0mFigure\u001B[0m\u001B[1;33m,\u001B[0m \u001B[1;32mlambda\u001B[0m \u001B[0mfig\u001B[0m\u001B[1;33m:\u001B[0m \u001B[0mretina_figure\u001B[0m\u001B[1;33m(\u001B[0m\u001B[0mfig\u001B[0m\u001B[1;33m,\u001B[0m \u001B[1;33m**\u001B[0m\u001B[0mkwargs\u001B[0m\u001B[1;33m)\u001B[0m\u001B[1;33m)\u001B[0m\u001B[1;33m\u001B[0m\u001B[1;33m\u001B[0m\u001B[0m\n",
      "\u001B[1;32mC:\\ProgramData\\Anaconda3\\lib\\site-packages\\IPython\\core\\pylabtools.py\u001B[0m in \u001B[0;36mprint_figure\u001B[1;34m(fig, fmt, bbox_inches, **kwargs)\u001B[0m\n\u001B[0;32m    126\u001B[0m \u001B[1;33m\u001B[0m\u001B[0m\n\u001B[0;32m    127\u001B[0m     \u001B[0mbytes_io\u001B[0m \u001B[1;33m=\u001B[0m \u001B[0mBytesIO\u001B[0m\u001B[1;33m(\u001B[0m\u001B[1;33m)\u001B[0m\u001B[1;33m\u001B[0m\u001B[1;33m\u001B[0m\u001B[0m\n\u001B[1;32m--> 128\u001B[1;33m     \u001B[0mfig\u001B[0m\u001B[1;33m.\u001B[0m\u001B[0mcanvas\u001B[0m\u001B[1;33m.\u001B[0m\u001B[0mprint_figure\u001B[0m\u001B[1;33m(\u001B[0m\u001B[0mbytes_io\u001B[0m\u001B[1;33m,\u001B[0m \u001B[1;33m**\u001B[0m\u001B[0mkw\u001B[0m\u001B[1;33m)\u001B[0m\u001B[1;33m\u001B[0m\u001B[1;33m\u001B[0m\u001B[0m\n\u001B[0m\u001B[0;32m    129\u001B[0m     \u001B[0mdata\u001B[0m \u001B[1;33m=\u001B[0m \u001B[0mbytes_io\u001B[0m\u001B[1;33m.\u001B[0m\u001B[0mgetvalue\u001B[0m\u001B[1;33m(\u001B[0m\u001B[1;33m)\u001B[0m\u001B[1;33m\u001B[0m\u001B[1;33m\u001B[0m\u001B[0m\n\u001B[0;32m    130\u001B[0m     \u001B[1;32mif\u001B[0m \u001B[0mfmt\u001B[0m \u001B[1;33m==\u001B[0m \u001B[1;34m'svg'\u001B[0m\u001B[1;33m:\u001B[0m\u001B[1;33m\u001B[0m\u001B[1;33m\u001B[0m\u001B[0m\n",
      "\u001B[1;32mC:\\ProgramData\\Anaconda3\\lib\\site-packages\\matplotlib\\backend_bases.py\u001B[0m in \u001B[0;36mprint_figure\u001B[1;34m(self, filename, dpi, facecolor, edgecolor, orientation, format, bbox_inches, **kwargs)\u001B[0m\n\u001B[0;32m   2058\u001B[0m                     \u001B[0mbbox_artists\u001B[0m \u001B[1;33m=\u001B[0m \u001B[0mkwargs\u001B[0m\u001B[1;33m.\u001B[0m\u001B[0mpop\u001B[0m\u001B[1;33m(\u001B[0m\u001B[1;34m\"bbox_extra_artists\"\u001B[0m\u001B[1;33m,\u001B[0m \u001B[1;32mNone\u001B[0m\u001B[1;33m)\u001B[0m\u001B[1;33m\u001B[0m\u001B[1;33m\u001B[0m\u001B[0m\n\u001B[0;32m   2059\u001B[0m                     bbox_inches = self.figure.get_tightbbox(renderer,\n\u001B[1;32m-> 2060\u001B[1;33m                             bbox_extra_artists=bbox_artists)\n\u001B[0m\u001B[0;32m   2061\u001B[0m                     \u001B[0mpad\u001B[0m \u001B[1;33m=\u001B[0m \u001B[0mkwargs\u001B[0m\u001B[1;33m.\u001B[0m\u001B[0mpop\u001B[0m\u001B[1;33m(\u001B[0m\u001B[1;34m\"pad_inches\"\u001B[0m\u001B[1;33m,\u001B[0m \u001B[1;32mNone\u001B[0m\u001B[1;33m)\u001B[0m\u001B[1;33m\u001B[0m\u001B[1;33m\u001B[0m\u001B[0m\n\u001B[0;32m   2062\u001B[0m                     \u001B[1;32mif\u001B[0m \u001B[0mpad\u001B[0m \u001B[1;32mis\u001B[0m \u001B[1;32mNone\u001B[0m\u001B[1;33m:\u001B[0m\u001B[1;33m\u001B[0m\u001B[1;33m\u001B[0m\u001B[0m\n",
      "\u001B[1;32mC:\\ProgramData\\Anaconda3\\lib\\site-packages\\matplotlib\\figure.py\u001B[0m in \u001B[0;36mget_tightbbox\u001B[1;34m(self, renderer, bbox_extra_artists)\u001B[0m\n\u001B[0;32m   2365\u001B[0m \u001B[1;33m\u001B[0m\u001B[0m\n\u001B[0;32m   2366\u001B[0m         \u001B[1;32mfor\u001B[0m \u001B[0ma\u001B[0m \u001B[1;32min\u001B[0m \u001B[0martists\u001B[0m\u001B[1;33m:\u001B[0m\u001B[1;33m\u001B[0m\u001B[1;33m\u001B[0m\u001B[0m\n\u001B[1;32m-> 2367\u001B[1;33m             \u001B[0mbbox\u001B[0m \u001B[1;33m=\u001B[0m \u001B[0ma\u001B[0m\u001B[1;33m.\u001B[0m\u001B[0mget_tightbbox\u001B[0m\u001B[1;33m(\u001B[0m\u001B[0mrenderer\u001B[0m\u001B[1;33m)\u001B[0m\u001B[1;33m\u001B[0m\u001B[1;33m\u001B[0m\u001B[0m\n\u001B[0m\u001B[0;32m   2368\u001B[0m             \u001B[1;32mif\u001B[0m \u001B[0mbbox\u001B[0m \u001B[1;32mis\u001B[0m \u001B[1;32mnot\u001B[0m \u001B[1;32mNone\u001B[0m \u001B[1;32mand\u001B[0m \u001B[1;33m(\u001B[0m\u001B[0mbbox\u001B[0m\u001B[1;33m.\u001B[0m\u001B[0mwidth\u001B[0m \u001B[1;33m!=\u001B[0m \u001B[1;36m0\u001B[0m \u001B[1;32mor\u001B[0m \u001B[0mbbox\u001B[0m\u001B[1;33m.\u001B[0m\u001B[0mheight\u001B[0m \u001B[1;33m!=\u001B[0m \u001B[1;36m0\u001B[0m\u001B[1;33m)\u001B[0m\u001B[1;33m:\u001B[0m\u001B[1;33m\u001B[0m\u001B[1;33m\u001B[0m\u001B[0m\n\u001B[0;32m   2369\u001B[0m                 \u001B[0mbb\u001B[0m\u001B[1;33m.\u001B[0m\u001B[0mappend\u001B[0m\u001B[1;33m(\u001B[0m\u001B[0mbbox\u001B[0m\u001B[1;33m)\u001B[0m\u001B[1;33m\u001B[0m\u001B[1;33m\u001B[0m\u001B[0m\n",
      "\u001B[1;32mC:\\ProgramData\\Anaconda3\\lib\\site-packages\\matplotlib\\axes\\_base.py\u001B[0m in \u001B[0;36mget_tightbbox\u001B[1;34m(self, renderer, call_axes_locator, bbox_extra_artists)\u001B[0m\n\u001B[0;32m   4357\u001B[0m                 \u001B[0mbb\u001B[0m\u001B[1;33m.\u001B[0m\u001B[0mappend\u001B[0m\u001B[1;33m(\u001B[0m\u001B[0mbb_xaxis\u001B[0m\u001B[1;33m)\u001B[0m\u001B[1;33m\u001B[0m\u001B[1;33m\u001B[0m\u001B[0m\n\u001B[0;32m   4358\u001B[0m \u001B[1;33m\u001B[0m\u001B[0m\n\u001B[1;32m-> 4359\u001B[1;33m             \u001B[0mbb_yaxis\u001B[0m \u001B[1;33m=\u001B[0m \u001B[0mself\u001B[0m\u001B[1;33m.\u001B[0m\u001B[0myaxis\u001B[0m\u001B[1;33m.\u001B[0m\u001B[0mget_tightbbox\u001B[0m\u001B[1;33m(\u001B[0m\u001B[0mrenderer\u001B[0m\u001B[1;33m)\u001B[0m\u001B[1;33m\u001B[0m\u001B[1;33m\u001B[0m\u001B[0m\n\u001B[0m\u001B[0;32m   4360\u001B[0m             \u001B[1;32mif\u001B[0m \u001B[0mbb_yaxis\u001B[0m\u001B[1;33m:\u001B[0m\u001B[1;33m\u001B[0m\u001B[1;33m\u001B[0m\u001B[0m\n\u001B[0;32m   4361\u001B[0m                 \u001B[0mbb\u001B[0m\u001B[1;33m.\u001B[0m\u001B[0mappend\u001B[0m\u001B[1;33m(\u001B[0m\u001B[0mbb_yaxis\u001B[0m\u001B[1;33m)\u001B[0m\u001B[1;33m\u001B[0m\u001B[1;33m\u001B[0m\u001B[0m\n",
      "\u001B[1;32mC:\\ProgramData\\Anaconda3\\lib\\site-packages\\matplotlib\\axis.py\u001B[0m in \u001B[0;36mget_tightbbox\u001B[1;34m(self, renderer)\u001B[0m\n\u001B[0;32m   1162\u001B[0m         \u001B[0mticks_to_draw\u001B[0m \u001B[1;33m=\u001B[0m \u001B[0mself\u001B[0m\u001B[1;33m.\u001B[0m\u001B[0m_update_ticks\u001B[0m\u001B[1;33m(\u001B[0m\u001B[1;33m)\u001B[0m\u001B[1;33m\u001B[0m\u001B[1;33m\u001B[0m\u001B[0m\n\u001B[0;32m   1163\u001B[0m \u001B[1;33m\u001B[0m\u001B[0m\n\u001B[1;32m-> 1164\u001B[1;33m         \u001B[0mself\u001B[0m\u001B[1;33m.\u001B[0m\u001B[0m_update_label_position\u001B[0m\u001B[1;33m(\u001B[0m\u001B[0mrenderer\u001B[0m\u001B[1;33m)\u001B[0m\u001B[1;33m\u001B[0m\u001B[1;33m\u001B[0m\u001B[0m\n\u001B[0m\u001B[0;32m   1165\u001B[0m \u001B[1;33m\u001B[0m\u001B[0m\n\u001B[0;32m   1166\u001B[0m         \u001B[1;31m# go back to just this axis's tick labels\u001B[0m\u001B[1;33m\u001B[0m\u001B[1;33m\u001B[0m\u001B[1;33m\u001B[0m\u001B[0m\n",
      "\u001B[1;32mC:\\ProgramData\\Anaconda3\\lib\\site-packages\\matplotlib\\axis.py\u001B[0m in \u001B[0;36m_update_label_position\u001B[1;34m(self, renderer)\u001B[0m\n\u001B[0;32m   2317\u001B[0m                 \u001B[1;31m# use axes if spine doesn't exist\u001B[0m\u001B[1;33m\u001B[0m\u001B[1;33m\u001B[0m\u001B[1;33m\u001B[0m\u001B[0m\n\u001B[0;32m   2318\u001B[0m                 \u001B[0mspinebbox\u001B[0m \u001B[1;33m=\u001B[0m \u001B[0mself\u001B[0m\u001B[1;33m.\u001B[0m\u001B[0maxes\u001B[0m\u001B[1;33m.\u001B[0m\u001B[0mbbox\u001B[0m\u001B[1;33m\u001B[0m\u001B[1;33m\u001B[0m\u001B[0m\n\u001B[1;32m-> 2319\u001B[1;33m             \u001B[0mbbox\u001B[0m \u001B[1;33m=\u001B[0m \u001B[0mmtransforms\u001B[0m\u001B[1;33m.\u001B[0m\u001B[0mBbox\u001B[0m\u001B[1;33m.\u001B[0m\u001B[0munion\u001B[0m\u001B[1;33m(\u001B[0m\u001B[0mbboxes\u001B[0m \u001B[1;33m+\u001B[0m \u001B[1;33m[\u001B[0m\u001B[0mspinebbox\u001B[0m\u001B[1;33m]\u001B[0m\u001B[1;33m)\u001B[0m\u001B[1;33m\u001B[0m\u001B[1;33m\u001B[0m\u001B[0m\n\u001B[0m\u001B[0;32m   2320\u001B[0m             \u001B[0mleft\u001B[0m \u001B[1;33m=\u001B[0m \u001B[0mbbox\u001B[0m\u001B[1;33m.\u001B[0m\u001B[0mx0\u001B[0m\u001B[1;33m\u001B[0m\u001B[1;33m\u001B[0m\u001B[0m\n\u001B[0;32m   2321\u001B[0m             self.label.set_position(\n",
      "\u001B[1;32mC:\\ProgramData\\Anaconda3\\lib\\site-packages\\matplotlib\\transforms.py\u001B[0m in \u001B[0;36munion\u001B[1;34m(bboxes)\u001B[0m\n\u001B[0;32m    700\u001B[0m         \u001B[1;32mif\u001B[0m \u001B[1;32mnot\u001B[0m \u001B[0mlen\u001B[0m\u001B[1;33m(\u001B[0m\u001B[0mbboxes\u001B[0m\u001B[1;33m)\u001B[0m\u001B[1;33m:\u001B[0m\u001B[1;33m\u001B[0m\u001B[1;33m\u001B[0m\u001B[0m\n\u001B[0;32m    701\u001B[0m             \u001B[1;32mraise\u001B[0m \u001B[0mValueError\u001B[0m\u001B[1;33m(\u001B[0m\u001B[1;34m\"'bboxes' cannot be empty\"\u001B[0m\u001B[1;33m)\u001B[0m\u001B[1;33m\u001B[0m\u001B[1;33m\u001B[0m\u001B[0m\n\u001B[1;32m--> 702\u001B[1;33m         \u001B[0mx0\u001B[0m \u001B[1;33m=\u001B[0m \u001B[0mnp\u001B[0m\u001B[1;33m.\u001B[0m\u001B[0mmin\u001B[0m\u001B[1;33m(\u001B[0m\u001B[1;33m[\u001B[0m\u001B[0mbbox\u001B[0m\u001B[1;33m.\u001B[0m\u001B[0mxmin\u001B[0m \u001B[1;32mfor\u001B[0m \u001B[0mbbox\u001B[0m \u001B[1;32min\u001B[0m \u001B[0mbboxes\u001B[0m\u001B[1;33m]\u001B[0m\u001B[1;33m)\u001B[0m\u001B[1;33m\u001B[0m\u001B[1;33m\u001B[0m\u001B[0m\n\u001B[0m\u001B[0;32m    703\u001B[0m         \u001B[0mx1\u001B[0m \u001B[1;33m=\u001B[0m \u001B[0mnp\u001B[0m\u001B[1;33m.\u001B[0m\u001B[0mmax\u001B[0m\u001B[1;33m(\u001B[0m\u001B[1;33m[\u001B[0m\u001B[0mbbox\u001B[0m\u001B[1;33m.\u001B[0m\u001B[0mxmax\u001B[0m \u001B[1;32mfor\u001B[0m \u001B[0mbbox\u001B[0m \u001B[1;32min\u001B[0m \u001B[0mbboxes\u001B[0m\u001B[1;33m]\u001B[0m\u001B[1;33m)\u001B[0m\u001B[1;33m\u001B[0m\u001B[1;33m\u001B[0m\u001B[0m\n\u001B[0;32m    704\u001B[0m         \u001B[0my0\u001B[0m \u001B[1;33m=\u001B[0m \u001B[0mnp\u001B[0m\u001B[1;33m.\u001B[0m\u001B[0mmin\u001B[0m\u001B[1;33m(\u001B[0m\u001B[1;33m[\u001B[0m\u001B[0mbbox\u001B[0m\u001B[1;33m.\u001B[0m\u001B[0mymin\u001B[0m \u001B[1;32mfor\u001B[0m \u001B[0mbbox\u001B[0m \u001B[1;32min\u001B[0m \u001B[0mbboxes\u001B[0m\u001B[1;33m]\u001B[0m\u001B[1;33m)\u001B[0m\u001B[1;33m\u001B[0m\u001B[1;33m\u001B[0m\u001B[0m\n",
      "\u001B[1;32mC:\\ProgramData\\Anaconda3\\lib\\site-packages\\matplotlib\\transforms.py\u001B[0m in \u001B[0;36m<listcomp>\u001B[1;34m(.0)\u001B[0m\n\u001B[0;32m    700\u001B[0m         \u001B[1;32mif\u001B[0m \u001B[1;32mnot\u001B[0m \u001B[0mlen\u001B[0m\u001B[1;33m(\u001B[0m\u001B[0mbboxes\u001B[0m\u001B[1;33m)\u001B[0m\u001B[1;33m:\u001B[0m\u001B[1;33m\u001B[0m\u001B[1;33m\u001B[0m\u001B[0m\n\u001B[0;32m    701\u001B[0m             \u001B[1;32mraise\u001B[0m \u001B[0mValueError\u001B[0m\u001B[1;33m(\u001B[0m\u001B[1;34m\"'bboxes' cannot be empty\"\u001B[0m\u001B[1;33m)\u001B[0m\u001B[1;33m\u001B[0m\u001B[1;33m\u001B[0m\u001B[0m\n\u001B[1;32m--> 702\u001B[1;33m         \u001B[0mx0\u001B[0m \u001B[1;33m=\u001B[0m \u001B[0mnp\u001B[0m\u001B[1;33m.\u001B[0m\u001B[0mmin\u001B[0m\u001B[1;33m(\u001B[0m\u001B[1;33m[\u001B[0m\u001B[0mbbox\u001B[0m\u001B[1;33m.\u001B[0m\u001B[0mxmin\u001B[0m \u001B[1;32mfor\u001B[0m \u001B[0mbbox\u001B[0m \u001B[1;32min\u001B[0m \u001B[0mbboxes\u001B[0m\u001B[1;33m]\u001B[0m\u001B[1;33m)\u001B[0m\u001B[1;33m\u001B[0m\u001B[1;33m\u001B[0m\u001B[0m\n\u001B[0m\u001B[0;32m    703\u001B[0m         \u001B[0mx1\u001B[0m \u001B[1;33m=\u001B[0m \u001B[0mnp\u001B[0m\u001B[1;33m.\u001B[0m\u001B[0mmax\u001B[0m\u001B[1;33m(\u001B[0m\u001B[1;33m[\u001B[0m\u001B[0mbbox\u001B[0m\u001B[1;33m.\u001B[0m\u001B[0mxmax\u001B[0m \u001B[1;32mfor\u001B[0m \u001B[0mbbox\u001B[0m \u001B[1;32min\u001B[0m \u001B[0mbboxes\u001B[0m\u001B[1;33m]\u001B[0m\u001B[1;33m)\u001B[0m\u001B[1;33m\u001B[0m\u001B[1;33m\u001B[0m\u001B[0m\n\u001B[0;32m    704\u001B[0m         \u001B[0my0\u001B[0m \u001B[1;33m=\u001B[0m \u001B[0mnp\u001B[0m\u001B[1;33m.\u001B[0m\u001B[0mmin\u001B[0m\u001B[1;33m(\u001B[0m\u001B[1;33m[\u001B[0m\u001B[0mbbox\u001B[0m\u001B[1;33m.\u001B[0m\u001B[0mymin\u001B[0m \u001B[1;32mfor\u001B[0m \u001B[0mbbox\u001B[0m \u001B[1;32min\u001B[0m \u001B[0mbboxes\u001B[0m\u001B[1;33m]\u001B[0m\u001B[1;33m)\u001B[0m\u001B[1;33m\u001B[0m\u001B[1;33m\u001B[0m\u001B[0m\n",
      "\u001B[1;32mC:\\ProgramData\\Anaconda3\\lib\\site-packages\\matplotlib\\transforms.py\u001B[0m in \u001B[0;36mxmin\u001B[1;34m(self)\u001B[0m\n\u001B[0;32m    348\u001B[0m     \u001B[1;32mdef\u001B[0m \u001B[0mxmin\u001B[0m\u001B[1;33m(\u001B[0m\u001B[0mself\u001B[0m\u001B[1;33m)\u001B[0m\u001B[1;33m:\u001B[0m\u001B[1;33m\u001B[0m\u001B[1;33m\u001B[0m\u001B[0m\n\u001B[0;32m    349\u001B[0m         \u001B[1;34m\"\"\"The left edge of the bounding box.\"\"\"\u001B[0m\u001B[1;33m\u001B[0m\u001B[1;33m\u001B[0m\u001B[0m\n\u001B[1;32m--> 350\u001B[1;33m         \u001B[1;32mreturn\u001B[0m \u001B[0mnp\u001B[0m\u001B[1;33m.\u001B[0m\u001B[0mmin\u001B[0m\u001B[1;33m(\u001B[0m\u001B[0mself\u001B[0m\u001B[1;33m.\u001B[0m\u001B[0mget_points\u001B[0m\u001B[1;33m(\u001B[0m\u001B[1;33m)\u001B[0m\u001B[1;33m[\u001B[0m\u001B[1;33m:\u001B[0m\u001B[1;33m,\u001B[0m \u001B[1;36m0\u001B[0m\u001B[1;33m]\u001B[0m\u001B[1;33m)\u001B[0m\u001B[1;33m\u001B[0m\u001B[1;33m\u001B[0m\u001B[0m\n\u001B[0m\u001B[0;32m    351\u001B[0m \u001B[1;33m\u001B[0m\u001B[0m\n\u001B[0;32m    352\u001B[0m     \u001B[1;33m@\u001B[0m\u001B[0mproperty\u001B[0m\u001B[1;33m\u001B[0m\u001B[1;33m\u001B[0m\u001B[0m\n",
      "\u001B[1;32m<__array_function__ internals>\u001B[0m in \u001B[0;36mamin\u001B[1;34m(*args, **kwargs)\u001B[0m\n",
      "\u001B[1;32mC:\\ProgramData\\Anaconda3\\lib\\site-packages\\numpy\\core\\fromnumeric.py\u001B[0m in \u001B[0;36mamin\u001B[1;34m(a, axis, out, keepdims, initial, where)\u001B[0m\n\u001B[0;32m   2829\u001B[0m     \"\"\"\n\u001B[0;32m   2830\u001B[0m     return _wrapreduction(a, np.minimum, 'min', axis, None, out,\n\u001B[1;32m-> 2831\u001B[1;33m                           keepdims=keepdims, initial=initial, where=where)\n\u001B[0m\u001B[0;32m   2832\u001B[0m \u001B[1;33m\u001B[0m\u001B[0m\n\u001B[0;32m   2833\u001B[0m \u001B[1;33m\u001B[0m\u001B[0m\n",
      "\u001B[1;32mC:\\ProgramData\\Anaconda3\\lib\\site-packages\\numpy\\core\\fromnumeric.py\u001B[0m in \u001B[0;36m_wrapreduction\u001B[1;34m(obj, ufunc, method, axis, dtype, out, **kwargs)\u001B[0m\n\u001B[0;32m     85\u001B[0m                 \u001B[1;32mreturn\u001B[0m \u001B[0mreduction\u001B[0m\u001B[1;33m(\u001B[0m\u001B[0maxis\u001B[0m\u001B[1;33m=\u001B[0m\u001B[0maxis\u001B[0m\u001B[1;33m,\u001B[0m \u001B[0mout\u001B[0m\u001B[1;33m=\u001B[0m\u001B[0mout\u001B[0m\u001B[1;33m,\u001B[0m \u001B[1;33m**\u001B[0m\u001B[0mpasskwargs\u001B[0m\u001B[1;33m)\u001B[0m\u001B[1;33m\u001B[0m\u001B[1;33m\u001B[0m\u001B[0m\n\u001B[0;32m     86\u001B[0m \u001B[1;33m\u001B[0m\u001B[0m\n\u001B[1;32m---> 87\u001B[1;33m     \u001B[1;32mreturn\u001B[0m \u001B[0mufunc\u001B[0m\u001B[1;33m.\u001B[0m\u001B[0mreduce\u001B[0m\u001B[1;33m(\u001B[0m\u001B[0mobj\u001B[0m\u001B[1;33m,\u001B[0m \u001B[0maxis\u001B[0m\u001B[1;33m,\u001B[0m \u001B[0mdtype\u001B[0m\u001B[1;33m,\u001B[0m \u001B[0mout\u001B[0m\u001B[1;33m,\u001B[0m \u001B[1;33m**\u001B[0m\u001B[0mpasskwargs\u001B[0m\u001B[1;33m)\u001B[0m\u001B[1;33m\u001B[0m\u001B[1;33m\u001B[0m\u001B[0m\n\u001B[0m\u001B[0;32m     88\u001B[0m \u001B[1;33m\u001B[0m\u001B[0m\n\u001B[0;32m     89\u001B[0m \u001B[1;33m\u001B[0m\u001B[0m\n",
      "\u001B[1;31mKeyboardInterrupt\u001B[0m: "
     ]
    },
    {
     "data": {
      "text/plain": "<Figure size 720x288 with 2 Axes>",
      "image/png": "[encoded data removed]"
     },
     "metadata": {
      "needs_background": "light"
     },
     "output_type": "display_data"
    }
   ],
   "source": [
    "np.random.seed(123)\n",
    "population, individuals, fitnesses, generation_final, success =\\\n",
    "    simple_ga(mu=20, chromosome_length=10, n=2,\n",
    "          prob_crossover=1, prob_mutation=0.001,\n",
    "          generations_count=1000,\n",
    "          do_draw_population=True,\n",
    "          do_draw_stats=True)"
   ]
  },
  {
   "cell_type": "markdown",
   "metadata": {
    "pycharm": {
     "name": "#%% md\n"
    }
   },
   "source": [
    "We can try to increase the problem complexity by switching from $x^2$ to,\n",
    "say, $x^{10}$. As we can see, the \"path\" to the optimum becomes much\n",
    "flatter, which means that it would presumable take much more effort\n",
    "for the algorithm to figure out what is going on."
   ]
  },
  {
   "cell_type": "code",
   "execution_count": 12,
   "metadata": {
    "pycharm": {
     "name": "#%%\n"
    }
   },
   "outputs": [
    {
     "data": {
      "image/png": "[encoded data removed]",
      "text/plain": [
       "<Figure size 864x288 with 2 Axes>"
      ]
     },
     "metadata": {
      "needs_background": "light"
     },
     "output_type": "display_data"
    }
   ],
   "source": [
    "# generate x values from 0 to 1\n",
    "x = np.linspace(0, 1, 100)\n",
    "\n",
    "# calculate y values for x^2 and x^10\n",
    "y1 = x**2\n",
    "y2 = x**10\n",
    "\n",
    "# create a figure with two subplots\n",
    "fig, (ax1, ax2) = plt.subplots(1, 2, figsize=(12, 4))  # Custom width and height\n",
    "\n",
    "# plot y1 (x^2) in the first subplot\n",
    "ax1.plot(x, y1, label='$x^2$', color='blue')\n",
    "ax1.set_xlabel('$x$')\n",
    "ax1.set_ylabel('$x^2$')\n",
    "ax1.set_title('$y = x^2$')\n",
    "ax1.legend()\n",
    "\n",
    "# plot y2 (x^10) in the second subplot\n",
    "ax2.plot(x, y2, label='$x^{10}$', color='red')\n",
    "ax2.set_xlabel('$x$')\n",
    "ax2.set_ylabel('$x^{10}$')\n",
    "ax2.set_title('$y = x^{10}$')\n",
    "ax2.legend()\n",
    "\n",
    "# adjust the layout to prevent overlapping labels\n",
    "plt.tight_layout()\n",
    "\n",
    "# show the plot\n",
    "plt.show()"
   ]
  },
  {
   "cell_type": "markdown",
   "metadata": {
    "pycharm": {
     "name": "#%% md\n"
    }
   },
   "source": [
    "Another way to increase complexity is to increase the chromosome length,\n",
    "say, from 10 to 30. In this case the search space becomes much larger.\n",
    "\n",
    "Let's see how the simple GA performs in this case."
   ]
  },
  {
   "cell_type": "code",
   "execution_count": 13,
   "metadata": {
    "pycharm": {
     "name": "#%%\n"
    }
   },
   "outputs": [
    {
     "name": "stdout",
     "output_type": "stream",
     "text": [
      "Finished because the perfect solution has been found!\n",
      "The final generation was 360.\n"
     ]
    }
   ],
   "source": [
    "np.random.seed(123)\n",
    "population, individuals, fitnesses, generation_final, success =\\\n",
    "    simple_ga(mu=20, chromosome_length=30, n=10,\n",
    "          prob_crossover=1.0, prob_mutation=0.001,\n",
    "          generations_count=1000, do_print=False)"
   ]
  },
  {
   "cell_type": "markdown",
   "metadata": {
    "pycharm": {
     "name": "#%% md\n"
    }
   },
   "source": [
    "As we can see, it took many more generations than the simpler version of the problem.\n",
    "\n",
    "Feel free to play around with other parameters:\n",
    "* rising mutation probability makes behavior more erratic;\n",
    "* lowering crossover probability makes behavior more erratic."
   ]
  },
  {
   "cell_type": "code",
   "execution_count": 16,
   "metadata": {
    "pycharm": {
     "name": "#%%\n"
    }
   },
   "outputs": [
    {
     "name": "stdout",
     "output_type": "stream",
     "text": [
      "The final generation was 1000.\n",
      "Finished because the perfect solution has been found!\n",
      "The final generation was 525.\n",
      "Finished because the perfect solution has been found!\n",
      "The final generation was 360.\n"
     ]
    },
    {
     "data": {
      "text/plain": [
       "(array([[1., 1., 1., 1., 1., 1., 1., 1., 1., 1., 1., 1., 1., 0., 0., 0.,\n",
       "         1., 1., 1., 0., 0., 1., 1., 1., 1., 0., 0., 0., 1., 0.],\n",
       "        [1., 1., 1., 1., 1., 1., 1., 1., 1., 1., 0., 1., 1., 1., 1., 1.,\n",
       "         1., 0., 1., 1., 1., 1., 1., 1., 0., 1., 1., 1., 1., 0.],\n",
       "        [1., 1., 1., 1., 1., 1., 1., 1., 1., 1., 0., 1., 1., 1., 1., 0.,\n",
       "         0., 1., 0., 1., 0., 0., 1., 1., 1., 1., 0., 1., 1., 1.],\n",
       "        [1., 1., 1., 1., 1., 1., 1., 1., 1., 1., 1., 1., 1., 1., 1., 1.,\n",
       "         1., 0., 0., 0., 0., 0., 1., 0., 1., 0., 1., 0., 1., 0.],\n",
       "        [1., 1., 1., 1., 1., 1., 1., 1., 1., 1., 0., 0., 1., 0., 0., 0.,\n",
       "         0., 1., 1., 1., 1., 0., 0., 1., 0., 0., 0., 0., 1., 0.],\n",
       "        [1., 1., 1., 1., 1., 1., 1., 1., 1., 0., 1., 1., 0., 1., 0., 1.,\n",
       "         1., 0., 0., 1., 0., 0., 1., 0., 1., 0., 0., 0., 1., 1.],\n",
       "        [1., 1., 1., 1., 1., 1., 1., 1., 1., 1., 1., 1., 1., 1., 0., 1.,\n",
       "         1., 0., 0., 0., 0., 1., 1., 1., 0., 0., 0., 0., 1., 0.],\n",
       "        [1., 1., 1., 1., 1., 1., 1., 1., 1., 0., 1., 1., 1., 1., 0., 0.,\n",
       "         1., 1., 1., 1., 0., 0., 1., 0., 1., 0., 0., 0., 1., 0.],\n",
       "        [1., 1., 1., 1., 1., 1., 1., 1., 1., 1., 0., 1., 1., 1., 1., 0.,\n",
       "         0., 1., 0., 1., 0., 0., 1., 0., 1., 1., 0., 0., 0., 0.],\n",
       "        [1., 1., 1., 1., 1., 1., 1., 1., 1., 1., 0., 1., 0., 1., 0., 0.,\n",
       "         1., 0., 0., 1., 0., 0., 0., 1., 1., 1., 0., 1., 1., 1.],\n",
       "        [1., 1., 1., 1., 1., 1., 1., 1., 0., 1., 1., 1., 1., 1., 1., 0.,\n",
       "         1., 0., 1., 1., 0., 1., 1., 1., 1., 1., 0., 0., 1., 0.],\n",
       "        [1., 1., 1., 1., 1., 1., 1., 0., 1., 1., 0., 0., 0., 0., 0., 0.,\n",
       "         1., 0., 0., 1., 0., 1., 0., 0., 1., 1., 1., 1., 0., 0.],\n",
       "        [1., 1., 1., 1., 1., 1., 1., 1., 1., 1., 1., 1., 1., 1., 1., 0.,\n",
       "         0., 0., 1., 1., 1., 1., 1., 0., 1., 1., 1., 0., 1., 1.],\n",
       "        [1., 1., 1., 1., 1., 1., 1., 1., 1., 1., 0., 0., 1., 1., 0., 0.,\n",
       "         1., 0., 0., 0., 0., 0., 1., 0., 1., 1., 1., 0., 0., 1.],\n",
       "        [1., 1., 1., 1., 1., 1., 1., 1., 1., 1., 1., 0., 1., 1., 0., 0.,\n",
       "         0., 1., 0., 1., 1., 0., 1., 0., 1., 1., 1., 0., 1., 1.],\n",
       "        [1., 1., 1., 1., 1., 1., 1., 0., 1., 1., 0., 1., 1., 1., 0., 1.,\n",
       "         1., 0., 0., 0., 0., 1., 1., 1., 1., 1., 1., 1., 1., 1.],\n",
       "        [1., 1., 1., 1., 1., 1., 1., 1., 1., 1., 1., 1., 1., 1., 1., 1.,\n",
       "         1., 1., 1., 1., 0., 1., 0., 1., 1., 0., 1., 0., 0., 0.],\n",
       "        [1., 1., 1., 1., 1., 1., 1., 1., 1., 1., 0., 1., 0., 1., 0., 1.,\n",
       "         1., 0., 0., 0., 1., 0., 1., 0., 1., 1., 1., 1., 1., 1.],\n",
       "        [1., 1., 1., 1., 1., 1., 1., 1., 1., 1., 0., 1., 1., 0., 0., 1.,\n",
       "         0., 0., 0., 0., 0., 1., 0., 1., 1., 1., 1., 0., 1., 0.],\n",
       "        [1., 1., 1., 1., 1., 1., 1., 1., 1., 1., 0., 1., 1., 1., 0., 1.,\n",
       "         1., 0., 0., 1., 0., 0., 0., 0., 1., 1., 1., 1., 1., 0.]]),\n",
       " array([1.07362557e+09, 1.07321341e+09, 1.07319014e+09, 1.07373380e+09,\n",
       "        1.07283207e+09, 1.07252240e+09, 1.07370131e+09, 1.07264323e+09,\n",
       "        1.07319006e+09, 1.07303026e+09, 1.07162367e+09, 1.06850848e+09,\n",
       "        1.07371308e+09, 1.07289823e+09, 1.07341996e+09, 1.06898278e+09,\n",
       "        1.07374116e+09, 1.07304621e+09, 1.07310323e+09, 1.07317766e+09]),\n",
       " array([0.99891784, 0.99508962, 0.99487387, 0.9999253 , 0.99155946,\n",
       "        0.98870113, 0.99962279, 0.98981557, 0.99487321, 0.99339281,\n",
       "        0.98044732, 0.95231587, 0.99973237, 0.99217117, 0.99700649,\n",
       "        0.95655162, 0.99999383, 0.99354043, 0.99406849, 0.99475825]),\n",
       " 360)"
      ]
     },
     "execution_count": 16,
     "metadata": {},
     "output_type": "execute_result"
    }
   ],
   "source": [
    "np.random.seed(123)\n",
    "population, individuals, fitnesses, generation_final, success =\\\n",
    "    simple_ga(mu=20, chromosome_length=30, n=10,\n",
    "          prob_crossover=1.0, prob_mutation=0.4,\n",
    "          generations_count=1000, do_print=False)\n",
    "\n",
    "np.random.seed(123)\n",
    "population, individuals, fitnesses, generation_final, success =\\\n",
    "    simple_ga(mu=20, chromosome_length=30, n=10,\n",
    "          prob_crossover=0.5, prob_mutation=0.001,\n",
    "          generations_count=1000, do_print=False)\n",
    "\n",
    "np.random.seed(123)\n",
    "population, individuals, fitnesses, generation_final, success =\\\n",
    "    simple_ga(mu=20, chromosome_length=30, n=10,\n",
    "          prob_crossover=0.9, prob_mutation=0.01,\n",
    "          generations_count=1000, do_print=False)"
   ]
  },
  {
   "cell_type": "markdown",
   "metadata": {
    "pycharm": {
     "name": "#%% md\n"
    }
   },
   "source": [
    "As was discussed in lectures, to overcome premature convergence,\n",
    "we can use linear fitness scaling. We transform current fitness\n",
    "values $f(x)$ to get updated ones, $g(x)$, as follows:\n",
    "\n",
    "$$g(x) = af(x) + b$$\n",
    "\n",
    "Coefficients $a$ and $b$ have to satisfy the following constraints:\n",
    "\n",
    "\\begin{align*}\n",
    "    \\frac{1}{\\mu}\\sum_{i=1}^\\mu g(x_i) &= \\frac{1}{\\mu}\\sum_{i=1}^\\mu f(x_i)\\\\\n",
    "    \\max_{i = 1,\\ldots, \\mu}{g(x_i)} &= C_m \\max_{i = 1,\\ldots, \\mu}{f(x_i)}\n",
    "\\end{align*}\n",
    "\n",
    "If, however, application of this formula leads to negative fitness values, the following two conditions need to be satisfied:\n",
    "\n",
    "\\begin{align*}\n",
    "    \\frac{1}{\\mu}\\sum_{i=1}^\\mu g(x_i) &= \\frac{1}{\\mu}\\sum_{i=1}^\\mu f(x_i)\\\\\n",
    "    \\min_{i = 1,\\ldots, \\mu}{g(x_i)} &= 0\n",
    "\\end{align*}\n",
    "\n",
    "To compare the two versions of SGA, we will run each of them\n",
    "several times and report mean and standard deviation of\n",
    "the last generation numbers."
   ]
  },
  {
   "cell_type": "code",
   "execution_count": 3,
   "metadata": {
    "pycharm": {
     "name": "#%%\n"
    }
   },
   "outputs": [
    {
     "name": "stdout",
     "output_type": "stream",
     "text": [
      "Without linear scaling:\n",
      "Total number of successes: 7.0\n",
      "Mean final generation:521.5\n",
      "Std of final generations:384.53615636966515\n",
      "Without linear scaling:\n",
      "Total number of successes: 10.0\n",
      "Mean final generation:166.6\n",
      "Std of final generations:78.74177205693726\n"
     ]
    }
   ],
   "source": [
    "ga_function_wo_scaling =\\\n",
    "    lambda: simple_ga(mu=20, chromosome_length=30, n=10,\n",
    "        prob_crossover=1.0, prob_mutation=0.001,\n",
    "        generations_count=1000, do_print=False,\n",
    "        suppress_output=True)\n",
    "\n",
    "visualize.report_average_ga_progress(\n",
    "    ga_function_wo_scaling, T=10, random_seed=123\n",
    ")\n",
    "\n",
    "ga_function_w_scaling =\\\n",
    "    lambda: simple_ga(mu=20, chromosome_length=30, n=10,\n",
    "        prob_crossover=1.0, prob_mutation=0.001,\n",
    "        generations_count=1000, do_print=False,\n",
    "        do_scale=True, suppress_output=True)\n",
    "\n",
    "visualize.report_average_ga_progress(\n",
    "    ga_function_w_scaling, T=10, random_seed=123\n",
    ")"
   ]
  }
 ],
 "metadata": {
  "kernelspec": {
   "display_name": "Python 3",
   "language": "python",
   "name": "python3"
  },
  "language_info": {
   "codemirror_mode": {
    "name": "ipython",
    "version": 3
   },
   "file_extension": ".py",
   "mimetype": "text/x-python",
   "name": "python",
   "nbconvert_exporter": "python",
   "pygments_lexer": "ipython3",
   "version": "3.7.4"
  }
 },
 "nbformat": 4,
 "nbformat_minor": 1
}